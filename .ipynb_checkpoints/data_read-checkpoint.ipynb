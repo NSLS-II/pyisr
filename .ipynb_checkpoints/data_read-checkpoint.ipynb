{
 "cells": [
  {
   "cell_type": "code",
   "execution_count": 1,
   "metadata": {},
   "outputs": [],
   "source": [
    "import os\n",
    "import h5py\n",
    "import hdf5plugin\n",
    "import numpy as np\n",
    "import tifffile\n"
   ]
  },
  {
   "cell_type": "code",
   "execution_count": 2,
   "metadata": {},
   "outputs": [
    {
     "name": "stdout",
     "output_type": "stream",
     "text": [
      "Structure of HDF5 file: /nsls2/data/staff/xyang4/data_cs/ca3ir4sn13/setup_6oct23/setup_6oct23_020_008_master.h5\n",
      "entry\n",
      "entry/data\n",
      "entry/instrument\n",
      "entry/instrument/beam\n",
      "entry/instrument/beam/incident_wavelength\n",
      "entry/instrument/detector\n",
      "entry/instrument/detector/beam_center_x\n",
      "entry/instrument/detector/beam_center_y\n",
      "entry/instrument/detector/bit_depth_image\n",
      "entry/instrument/detector/bit_depth_readout\n",
      "entry/instrument/detector/count_time\n",
      "entry/instrument/detector/countrate_correction_applied\n",
      "entry/instrument/detector/description\n",
      "entry/instrument/detector/detectorSpecific\n",
      "entry/instrument/detector/detectorSpecific/auto_summation\n",
      "entry/instrument/detector/detectorSpecific/calibration_type\n",
      "entry/instrument/detector/detectorSpecific/compression\n",
      "entry/instrument/detector/detectorSpecific/countrate_correction_bunch_mode\n",
      "entry/instrument/detector/detectorSpecific/countrate_correction_count_cutoff\n",
      "entry/instrument/detector/detectorSpecific/data_collection_date\n",
      "entry/instrument/detector/detectorSpecific/detectorModule_000\n",
      "entry/instrument/detector/detectorSpecific/detectorModule_000/countrate_correction_count_cutoff\n",
      "entry/instrument/detector/detectorSpecific/detectorModule_000/countrate_correction_cutoff\n",
      "entry/instrument/detector/detectorSpecific/detectorModule_000/countrate_correction_lookup_table\n",
      "entry/instrument/detector/detectorSpecific/detectorModule_000/countrate_correction_table\n",
      "entry/instrument/detector/detectorSpecific/detectorModule_000/data_origin\n",
      "entry/instrument/detector/detectorSpecific/detectorModule_000/data_rotation\n",
      "entry/instrument/detector/detectorSpecific/detectorModule_000/data_size\n",
      "entry/instrument/detector/detectorSpecific/detectorModule_000/enabled\n",
      "entry/instrument/detector/detectorSpecific/detectorModule_000/flatfield\n",
      "entry/instrument/detector/detectorSpecific/detectorModule_000/frame_readout_time\n",
      "entry/instrument/detector/detectorSpecific/detectorModule_000/hv\n",
      "entry/instrument/detector/detectorSpecific/detectorModule_000/pixel_mask\n",
      "entry/instrument/detector/detectorSpecific/detectorModule_000/rxbias_0\n",
      "entry/instrument/detector/detectorSpecific/detectorModule_000/rxbias_1\n",
      "entry/instrument/detector/detectorSpecific/detectorModule_000/rxbias_2\n",
      "entry/instrument/detector/detectorSpecific/detectorModule_000/rxbias_3\n",
      "entry/instrument/detector/detectorSpecific/detectorModule_000/starven\n",
      "entry/instrument/detector/detectorSpecific/detectorModule_000/starvep\n",
      "entry/instrument/detector/detectorSpecific/detectorModule_000/stream\n",
      "entry/instrument/detector/detectorSpecific/detectorModule_000/tgstv\n",
      "entry/instrument/detector/detectorSpecific/detectorModule_000/trimbit\n",
      "entry/instrument/detector/detectorSpecific/detectorModule_000/vcal\n",
      "entry/instrument/detector/detectorSpecific/detectorModule_000/vccn\n",
      "entry/instrument/detector/detectorSpecific/detectorModule_000/vccp\n",
      "entry/instrument/detector/detectorSpecific/detectorModule_000/vcmp_0\n",
      "entry/instrument/detector/detectorSpecific/detectorModule_000/vcmp_1\n",
      "entry/instrument/detector/detectorSpecific/detectorModule_000/vcmp_2\n",
      "entry/instrument/detector/detectorSpecific/detectorModule_000/vcmp_3\n",
      "entry/instrument/detector/detectorSpecific/detectorModule_000/vdda\n",
      "entry/instrument/detector/detectorSpecific/detectorModule_000/vddc\n",
      "entry/instrument/detector/detectorSpecific/detectorModule_000/vddd\n",
      "entry/instrument/detector/detectorSpecific/detectorModule_000/vdddio\n",
      "entry/instrument/detector/detectorSpecific/detectorModule_000/vish\n",
      "entry/instrument/detector/detectorSpecific/detectorModule_000/vrfp\n",
      "entry/instrument/detector/detectorSpecific/detectorModule_000/vrfs\n",
      "entry/instrument/detector/detectorSpecific/detectorModule_000/vtrm\n",
      "entry/instrument/detector/detectorSpecific/detectorModule_001\n",
      "entry/instrument/detector/detectorSpecific/detectorModule_001/countrate_correction_count_cutoff\n",
      "entry/instrument/detector/detectorSpecific/detectorModule_001/countrate_correction_cutoff\n",
      "entry/instrument/detector/detectorSpecific/detectorModule_001/countrate_correction_lookup_table\n",
      "entry/instrument/detector/detectorSpecific/detectorModule_001/countrate_correction_table\n",
      "entry/instrument/detector/detectorSpecific/detectorModule_001/data_origin\n",
      "entry/instrument/detector/detectorSpecific/detectorModule_001/data_rotation\n",
      "entry/instrument/detector/detectorSpecific/detectorModule_001/data_size\n",
      "entry/instrument/detector/detectorSpecific/detectorModule_001/enabled\n",
      "entry/instrument/detector/detectorSpecific/detectorModule_001/flatfield\n",
      "entry/instrument/detector/detectorSpecific/detectorModule_001/frame_readout_time\n",
      "entry/instrument/detector/detectorSpecific/detectorModule_001/hv\n",
      "entry/instrument/detector/detectorSpecific/detectorModule_001/pixel_mask\n",
      "entry/instrument/detector/detectorSpecific/detectorModule_001/rxbias_0\n",
      "entry/instrument/detector/detectorSpecific/detectorModule_001/rxbias_1\n",
      "entry/instrument/detector/detectorSpecific/detectorModule_001/rxbias_2\n",
      "entry/instrument/detector/detectorSpecific/detectorModule_001/rxbias_3\n",
      "entry/instrument/detector/detectorSpecific/detectorModule_001/starven\n",
      "entry/instrument/detector/detectorSpecific/detectorModule_001/starvep\n",
      "entry/instrument/detector/detectorSpecific/detectorModule_001/stream\n",
      "entry/instrument/detector/detectorSpecific/detectorModule_001/tgstv\n",
      "entry/instrument/detector/detectorSpecific/detectorModule_001/trimbit\n",
      "entry/instrument/detector/detectorSpecific/detectorModule_001/vcal\n",
      "entry/instrument/detector/detectorSpecific/detectorModule_001/vccn\n",
      "entry/instrument/detector/detectorSpecific/detectorModule_001/vccp\n",
      "entry/instrument/detector/detectorSpecific/detectorModule_001/vcmp_0\n",
      "entry/instrument/detector/detectorSpecific/detectorModule_001/vcmp_1\n",
      "entry/instrument/detector/detectorSpecific/detectorModule_001/vcmp_2\n",
      "entry/instrument/detector/detectorSpecific/detectorModule_001/vcmp_3\n",
      "entry/instrument/detector/detectorSpecific/detectorModule_001/vdda\n",
      "entry/instrument/detector/detectorSpecific/detectorModule_001/vddc\n",
      "entry/instrument/detector/detectorSpecific/detectorModule_001/vddd\n",
      "entry/instrument/detector/detectorSpecific/detectorModule_001/vdddio\n",
      "entry/instrument/detector/detectorSpecific/detectorModule_001/vish\n",
      "entry/instrument/detector/detectorSpecific/detectorModule_001/vrfp\n",
      "entry/instrument/detector/detectorSpecific/detectorModule_001/vrfs\n",
      "entry/instrument/detector/detectorSpecific/detectorModule_001/vtrm\n",
      "entry/instrument/detector/detectorSpecific/detector_readout_period\n",
      "entry/instrument/detector/detectorSpecific/eiger_fw_version\n",
      "entry/instrument/detector/detectorSpecific/element\n",
      "entry/instrument/detector/detectorSpecific/flatfield\n",
      "entry/instrument/detector/detectorSpecific/frame_count_time\n",
      "entry/instrument/detector/detectorSpecific/frame_period\n",
      "entry/instrument/detector/detectorSpecific/module_bandwidth\n",
      "entry/instrument/detector/detectorSpecific/nframes_sum\n",
      "entry/instrument/detector/detectorSpecific/nimages\n",
      "entry/instrument/detector/detectorSpecific/nsequences\n",
      "entry/instrument/detector/detectorSpecific/ntrigger\n",
      "entry/instrument/detector/detectorSpecific/number_of_excluded_pixels\n",
      "entry/instrument/detector/detectorSpecific/photon_energy\n",
      "entry/instrument/detector/detectorSpecific/pixel_mask\n",
      "entry/instrument/detector/detectorSpecific/roi_mode\n",
      "entry/instrument/detector/detectorSpecific/software_version\n",
      "entry/instrument/detector/detectorSpecific/summation_nimages\n",
      "entry/instrument/detector/detectorSpecific/test_mode\n",
      "entry/instrument/detector/detectorSpecific/trigger_mode\n",
      "entry/instrument/detector/detectorSpecific/x_pixels_in_detector\n",
      "entry/instrument/detector/detectorSpecific/y_pixels_in_detector\n",
      "entry/instrument/detector/detector_distance\n",
      "entry/instrument/detector/detector_number\n",
      "entry/instrument/detector/detector_readout_time\n",
      "entry/instrument/detector/efficiency_correction_applied\n",
      "entry/instrument/detector/flatfield_correction_applied\n",
      "entry/instrument/detector/frame_time\n",
      "entry/instrument/detector/geometry\n",
      "entry/instrument/detector/geometry/orientation\n",
      "entry/instrument/detector/geometry/orientation/value\n",
      "entry/instrument/detector/geometry/translation\n",
      "entry/instrument/detector/geometry/translation/distances\n",
      "entry/instrument/detector/goniometer\n",
      "entry/instrument/detector/goniometer/two_theta\n",
      "entry/instrument/detector/goniometer/two_theta_end\n",
      "entry/instrument/detector/goniometer/two_theta_increment\n",
      "entry/instrument/detector/goniometer/two_theta_range_average\n",
      "entry/instrument/detector/goniometer/two_theta_range_total\n",
      "entry/instrument/detector/goniometer/two_theta_start\n",
      "entry/instrument/detector/pixel_mask_applied\n",
      "entry/instrument/detector/sensor_material\n",
      "entry/instrument/detector/sensor_thickness\n",
      "entry/instrument/detector/threshold_energy\n",
      "entry/instrument/detector/virtual_pixel_correction_applied\n",
      "entry/instrument/detector/x_pixel_size\n",
      "entry/instrument/detector/y_pixel_size\n",
      "entry/sample\n",
      "entry/sample/goniometer\n",
      "entry/sample/goniometer/chi\n",
      "entry/sample/goniometer/chi_end\n",
      "entry/sample/goniometer/chi_increment\n",
      "entry/sample/goniometer/chi_range_average\n",
      "entry/sample/goniometer/chi_range_total\n",
      "entry/sample/goniometer/chi_start\n",
      "entry/sample/goniometer/kappa\n",
      "entry/sample/goniometer/kappa_end\n",
      "entry/sample/goniometer/kappa_increment\n",
      "entry/sample/goniometer/kappa_range_average\n",
      "entry/sample/goniometer/kappa_range_total\n",
      "entry/sample/goniometer/kappa_start\n",
      "entry/sample/goniometer/omega\n",
      "entry/sample/goniometer/omega_end\n",
      "entry/sample/goniometer/omega_increment\n",
      "entry/sample/goniometer/omega_range_average\n",
      "entry/sample/goniometer/omega_range_total\n",
      "entry/sample/goniometer/omega_start\n",
      "entry/sample/goniometer/phi\n",
      "entry/sample/goniometer/phi_end\n",
      "entry/sample/goniometer/phi_increment\n",
      "entry/sample/goniometer/phi_range_average\n",
      "entry/sample/goniometer/phi_range_total\n",
      "entry/sample/goniometer/phi_start\n"
     ]
    }
   ],
   "source": [
    "def explore_hdf5_structure(file_path):\n",
    "    \"\"\"\n",
    "    Prints the structure of an HDF5 file to help locate data paths.\n",
    "    \n",
    "    Parameters:\n",
    "    file_path (str): The path to the HDF5 file.\n",
    "    \"\"\"\n",
    "    with h5py.File(file_path, 'r') as hdf_file:\n",
    "        print(f\"Structure of HDF5 file: {file_path}\")\n",
    "        hdf_file.visit(print)\n",
    "\n",
    "# Example usage:\n",
    "file_path = \"/nsls2/data/staff/xyang4/data_cs/ca3ir4sn13/setup_6oct23/setup_6oct23_020_008_master.h5\"\n",
    "explore_hdf5_structure(file_path)\n",
    "    "
   ]
  },
  {
   "cell_type": "code",
   "execution_count": 2,
   "metadata": {},
   "outputs": [],
   "source": [
    "def read_hdf5_tiff_data(directory):\n",
    "    \"\"\"\n",
    "    Reads TIFF-like data stored at '/entry/data/data' from all HDF5 files in the specified directory,\n",
    "    but only processes files that contain 'data' in the filename.\n",
    "    \n",
    "    Parameters:\n",
    "    directory (str): The path to the directory containing HDF5 files.\n",
    "    \n",
    "    Returns:\n",
    "    A dictionary containing the TIFF data from each file, with filenames as keys.\n",
    "    \"\"\"\n",
    "    tiff_data_dict = {}\n",
    "\n",
    "    # Iterate over all files in the directory\n",
    "    for filename in os.listdir(directory):\n",
    "        # Process only files that contain 'data' in their filename\n",
    "        if \"data\" in filename and filename.endswith(\".h5\"):\n",
    "            file_path = os.path.join(directory, filename)\n",
    "            try:\n",
    "                # Open the HDF5 file\n",
    "                with h5py.File(file_path, 'r') as hdf_file:\n",
    "                    # Access the data at the specified path\n",
    "                    if '/entry/data' in hdf_file:\n",
    "                        tiff_data = np.squeeze(np.array(hdf_file['/entry/data/data']))\n",
    "                        tiff_data_dict[filename] = tiff_data\n",
    "                        print(f\"Successfully read TIFF data from: {filename}\")\n",
    "                    else:\n",
    "                        print(f\"/entry/data not found in {filename}\")\n",
    "            except Exception as e:\n",
    "                print(f\"Failed to read {filename}: {e}\")\n",
    "\n",
    "    return tiff_data_dict"
   ]
  },
  {
   "cell_type": "code",
   "execution_count": 3,
   "metadata": {},
   "outputs": [],
   "source": [
    "def save_tiff_data(tiff_data, output_dir, original_filename):\n",
    "    \"\"\"\n",
    "    Save the TIFF data as an image file in a specified directory using tifffile.\n",
    "    \n",
    "    Parameters:\n",
    "    tiff_data (numpy array): The TIFF data array.\n",
    "    output_dir (str): The directory to save the TIFF file.\n",
    "    original_filename (str): The original HDF5 filename, used for naming the output TIFF file.\n",
    "    \"\"\"\n",
    "    # Remove the extension from the original filename and append .tiff\n",
    "    output_filename = os.path.splitext(original_filename)[0] + \".tiff\"\n",
    "    output_path = os.path.join(output_dir, output_filename)\n",
    "    \n",
    "    # Check if the data type is string/unicode or numeric\n",
    "    if tiff_data.dtype.kind in {'U', 'S'}:\n",
    "        print(f\"Data is not numerical: {tiff_data.dtype}. Skipping conversion for {original_filename}.\")\n",
    "    else:\n",
    "        # Save the TIFF using tifffile\n",
    "        tifffile.imwrite(output_path, tiff_data.astype('uint8'))  # Convert to uint8 or other valid format\n",
    "        print(f\"Saved TIFF to {output_path}\")"
   ]
  },
  {
   "cell_type": "code",
   "execution_count": 4,
   "metadata": {},
   "outputs": [
    {
     "name": "stderr",
     "output_type": "stream",
     "text": [
      "/tmp/ipykernel_2117192/3421035344.py:24: DeprecationWarning: `product` is deprecated as of NumPy 1.25.0, and will be removed in NumPy 2.0. Please use `prod` instead.\n",
      "  tiff_data = np.squeeze(np.array(hdf_file['/entry/data/data']))\n"
     ]
    },
    {
     "name": "stdout",
     "output_type": "stream",
     "text": [
      "Successfully read TIFF data from: setup_6oct23_018_019_data_000001.h5\n",
      "Successfully read TIFF data from: setup_6oct23_017_047_data_000001.h5\n",
      "Successfully read TIFF data from: setup_6oct23_020_015_data_000001.h5\n",
      "Successfully read TIFF data from: setup_6oct23_020_000_data_000001.h5\n",
      "Successfully read TIFF data from: setup_6oct23_023_001_data_000001.h5\n",
      "Successfully read TIFF data from: setup_6oct23_026_017_data_000001.h5\n",
      "Successfully read TIFF data from: setup_6oct23_026_002_data_000001.h5\n",
      "Successfully read TIFF data from: setup_6oct23_025_003_data_000001.h5\n",
      "Successfully read TIFF data from: setup_6oct23_016_018_data_000001.h5\n",
      "Successfully read TIFF data from: setup_6oct23_008_004_data_000001.h5\n",
      "Successfully read TIFF data from: setup_6oct23_008_011_data_000001.h5\n",
      "Successfully read TIFF data from: setup_6oct23_017_023_data_000001.h5\n",
      "Successfully read TIFF data from: setup_6oct23_017_036_data_000001.h5\n",
      "Successfully read TIFF data from: setup_6oct23_003_006_data_000001.h5\n",
      "Successfully read TIFF data from: setup_6oct23_005_004_data_000001.h5\n",
      "Successfully read TIFF data from: setup_6oct23_005_011_data_000001.h5\n",
      "Successfully read TIFF data from: setup_6oct23_011_021_data_000001.h5\n",
      "Successfully read TIFF data from: setup_6oct23_006_005_data_000001.h5\n",
      "Successfully read TIFF data from: setup_6oct23_006_010_data_000001.h5\n",
      "Successfully read TIFF data from: setup_6oct23_021_033_data_000001.h5\n",
      "Successfully read TIFF data from: setup_6oct23_021_026_data_000001.h5\n",
      "Successfully read TIFF data from: setup_6oct23_006_018_data_000001.h5\n",
      "Successfully read TIFF data from: setup_6oct23_016_005_data_000001.h5\n",
      "Successfully read TIFF data from: setup_6oct23_016_010_data_000001.h5\n",
      "Successfully read TIFF data from: setup_6oct23_021_057_data_000001.h5\n",
      "Successfully read TIFF data from: setup_6oct23_021_042_data_000001.h5\n",
      "Successfully read TIFF data from: setup_6oct23_015_004_data_000001.h5\n",
      "Successfully read TIFF data from: setup_6oct23_023_009_data_000001.h5\n",
      "Successfully read TIFF data from: setup_6oct23_010_007_data_000001.h5\n",
      "Successfully read TIFF data from: setup_6oct23_010_012_data_000001.h5\n",
      "Successfully read TIFF data from: setup_6oct23_020_008_data_000001.h5\n",
      "Successfully read TIFF data from: setup_6oct23_013_006_data_000001.h5\n",
      "Successfully read TIFF data from: setup_6oct23_013_013_data_000001.h5\n",
      "Successfully read TIFF data from: setup_6oct23_018_004_data_000001.h5\n",
      "Successfully read TIFF data from: setup_6oct23_026_010_data_000001.h5\n",
      "Successfully read TIFF data from: setup_6oct23_018_011_data_000001.h5\n",
      "Successfully read TIFF data from: setup_6oct23_021_058_data_000001.h5\n",
      "Successfully read TIFF data from: setup_6oct23_025_004_data_000001.h5\n",
      "Successfully read TIFF data from: setup_6oct23_026_005_data_000001.h5\n",
      "Successfully read TIFF data from: setup_6oct23_023_006_data_000001.h5\n",
      "Successfully read TIFF data from: setup_6oct23_010_008_data_000001.h5\n",
      "Successfully read TIFF data from: setup_6oct23_020_007_data_000001.h5\n",
      "Successfully read TIFF data from: setup_6oct23_020_012_data_000001.h5\n",
      "Successfully read TIFF data from: setup_6oct23_017_040_data_000001.h5\n",
      "Successfully read TIFF data from: setup_6oct23_013_009_data_000001.h5\n",
      "Successfully read TIFF data from: setup_6oct23_021_029_data_000001.h5\n",
      "Successfully read TIFF data from: setup_6oct23_006_017_data_000001.h5\n",
      "Successfully read TIFF data from: setup_6oct23_006_002_data_000001.h5\n",
      "Successfully read TIFF data from: setup_6oct23_005_003_data_000001.h5\n",
      "Successfully read TIFF data from: setup_6oct23_003_001_data_000001.h5\n",
      "Successfully read TIFF data from: setup_6oct23_017_031_data_000001.h5\n",
      "Successfully read TIFF data from: setup_6oct23_017_024_data_000001.h5\n",
      "Successfully read TIFF data from: setup_6oct23_008_003_data_000001.h5\n",
      "Successfully read TIFF data from: setup_6oct23_003_009_data_000001.h5\n",
      "Successfully read TIFF data from: setup_6oct23_017_039_data_000001.h5\n",
      "Successfully read TIFF data from: setup_6oct23_022_020_data_000001.h5\n",
      "Successfully read TIFF data from: setup_6oct23_021_021_data_000001.h5\n",
      "Successfully read TIFF data from: setup_6oct23_021_034_data_000001.h5\n",
      "Successfully read TIFF data from: setup_6oct23_018_016_data_000001.h5\n",
      "Successfully read TIFF data from: setup_6oct23_018_003_data_000001.h5\n",
      "Successfully read TIFF data from: setup_6oct23_013_014_data_000001.h5\n",
      "Successfully read TIFF data from: setup_6oct23_013_001_data_000001.h5\n",
      "Successfully read TIFF data from: setup_6oct23_017_048_data_000001.h5\n",
      "Successfully read TIFF data from: setup_6oct23_010_015_data_000001.h5\n",
      "Successfully read TIFF data from: setup_6oct23_010_000_data_000001.h5\n",
      "Successfully read TIFF data from: setup_6oct23_026_018_data_000001.h5\n",
      "Successfully read TIFF data from: setup_6oct23_015_003_data_000001.h5\n",
      "Successfully read TIFF data from: setup_6oct23_021_045_data_000001.h5\n",
      "Successfully read TIFF data from: setup_6oct23_021_050_data_000001.h5\n",
      "Successfully read TIFF data from: setup_6oct23_016_017_data_000001.h5\n",
      "Successfully read TIFF data from: setup_6oct23_016_002_data_000001.h5\n",
      "Successfully read TIFF data from: setup_6oct23_021_035_data_000001.h5\n",
      "Successfully read TIFF data from: setup_6oct23_021_020_data_000001.h5\n",
      "Successfully read TIFF data from: setup_6oct23_017_038_data_000001.h5\n",
      "Successfully read TIFF data from: setup_6oct23_003_008_data_000001.h5\n",
      "Successfully read TIFF data from: setup_6oct23_016_003_data_000001.h5\n",
      "Successfully read TIFF data from: setup_6oct23_016_016_data_000001.h5\n",
      "Successfully read TIFF data from: setup_6oct23_021_051_data_000001.h5\n",
      "Successfully read TIFF data from: setup_6oct23_021_044_data_000001.h5\n",
      "Successfully read TIFF data from: setup_6oct23_015_002_data_000001.h5\n",
      "Successfully read TIFF data from: setup_6oct23_026_019_data_000001.h5\n",
      "Successfully read TIFF data from: setup_6oct23_010_001_data_000001.h5\n",
      "Successfully read TIFF data from: setup_6oct23_010_014_data_000001.h5\n",
      "Successfully read TIFF data from: setup_6oct23_017_049_data_000001.h5\n",
      "Successfully read TIFF data from: setup_6oct23_018_002_data_000001.h5\n",
      "Successfully read TIFF data from: setup_6oct23_018_017_data_000001.h5\n",
      "Successfully read TIFF data from: setup_6oct23_013_000_data_000001.h5\n",
      "Successfully read TIFF data from: setup_6oct23_013_015_data_000001.h5\n",
      "Successfully read TIFF data from: setup_6oct23_013_008_data_000001.h5\n",
      "Successfully read TIFF data from: setup_6oct23_017_041_data_000001.h5\n",
      "Successfully read TIFF data from: setup_6oct23_020_013_data_000001.h5\n",
      "Successfully read TIFF data from: setup_6oct23_020_006_data_000001.h5\n",
      "Successfully read TIFF data from: setup_6oct23_010_009_data_000001.h5\n",
      "Successfully read TIFF data from: setup_6oct23_023_007_data_000001.h5\n",
      "Successfully read TIFF data from: setup_6oct23_026_011_data_000001.h5\n",
      "Successfully read TIFF data from: setup_6oct23_026_004_data_000001.h5\n",
      "Successfully read TIFF data from: setup_6oct23_021_059_data_000001.h5\n",
      "Successfully read TIFF data from: setup_6oct23_017_025_data_000001.h5\n",
      "Successfully read TIFF data from: setup_6oct23_017_030_data_000001.h5\n",
      "Successfully read TIFF data from: setup_6oct23_003_000_data_000001.h5\n",
      "Successfully read TIFF data from: setup_6oct23_008_002_data_000001.h5\n",
      "Successfully read TIFF data from: setup_6oct23_005_002_data_000001.h5\n",
      "Successfully read TIFF data from: setup_6oct23_026_060_data_000001.h5\n",
      "Successfully read TIFF data from: setup_6oct23_006_003_data_000001.h5\n",
      "Successfully read TIFF data from: setup_6oct23_006_016_data_000001.h5\n",
      "Successfully read TIFF data from: setup_6oct23_021_028_data_000001.h5\n",
      "Successfully read TIFF data from: setup_6oct23_006_019_data_000001.h5\n",
      "Successfully read TIFF data from: setup_6oct23_021_027_data_000001.h5\n",
      "Successfully read TIFF data from: setup_6oct23_021_032_data_000001.h5\n",
      "Successfully read TIFF data from: setup_6oct23_013_012_data_000001.h5\n",
      "Successfully read TIFF data from: setup_6oct23_013_007_data_000001.h5\n",
      "Successfully read TIFF data from: setup_6oct23_018_010_data_000001.h5\n",
      "Successfully read TIFF data from: setup_6oct23_018_005_data_000001.h5\n",
      "Successfully read TIFF data from: setup_6oct23_020_009_data_000001.h5\n",
      "Successfully read TIFF data from: setup_6oct23_010_006_data_000001.h5\n",
      "Successfully read TIFF data from: setup_6oct23_010_013_data_000001.h5\n",
      "Successfully read TIFF data from: setup_6oct23_023_008_data_000001.h5\n",
      "Successfully read TIFF data from: setup_6oct23_015_005_data_000001.h5\n",
      "Successfully read TIFF data from: setup_6oct23_021_043_data_000001.h5\n",
      "Successfully read TIFF data from: setup_6oct23_021_056_data_000001.h5\n",
      "Successfully read TIFF data from: setup_6oct23_016_011_data_000001.h5\n",
      "Successfully read TIFF data from: setup_6oct23_016_004_data_000001.h5\n",
      "Successfully read TIFF data from: setup_6oct23_016_019_data_000001.h5\n",
      "Successfully read TIFF data from: setup_6oct23_025_002_data_000001.h5\n",
      "Successfully read TIFF data from: setup_6oct23_026_003_data_000001.h5\n",
      "Successfully read TIFF data from: setup_6oct23_026_016_data_000001.h5\n",
      "Successfully read TIFF data from: setup_6oct23_023_000_data_000001.h5\n",
      "Successfully read TIFF data from: setup_6oct23_020_001_data_000001.h5\n",
      "Successfully read TIFF data from: setup_6oct23_020_014_data_000001.h5\n",
      "Successfully read TIFF data from: setup_6oct23_017_046_data_000001.h5\n",
      "Successfully read TIFF data from: setup_6oct23_018_018_data_000001.h5\n",
      "Successfully read TIFF data from: setup_6oct23_006_011_data_000001.h5\n",
      "Successfully read TIFF data from: setup_6oct23_006_004_data_000001.h5\n",
      "Successfully read TIFF data from: setup_6oct23_011_020_data_000001.h5\n",
      "Successfully read TIFF data from: setup_6oct23_005_010_data_000001.h5\n",
      "Successfully read TIFF data from: setup_6oct23_005_005_data_000001.h5\n",
      "Successfully read TIFF data from: setup_6oct23_008_010_data_000001.h5\n",
      "Successfully read TIFF data from: setup_6oct23_017_022_data_000001.h5\n",
      "Successfully read TIFF data from: setup_6oct23_008_005_data_000001.h5\n",
      "Successfully read TIFF data from: setup_6oct23_003_012_data_000001.h5\n",
      "Successfully read TIFF data from: setup_6oct23_003_007_data_000001.h5\n",
      "Successfully read TIFF data from: setup_6oct23_017_037_data_000001.h5\n",
      "Successfully read TIFF data from: setup_6oct23_016_013_data_000001.h5\n",
      "Successfully read TIFF data from: setup_6oct23_016_006_data_000001.h5\n",
      "Successfully read TIFF data from: setup_6oct23_021_041_data_000001.h5\n",
      "Successfully read TIFF data from: setup_6oct23_021_054_data_000001.h5\n",
      "Successfully read TIFF data from: setup_6oct23_026_009_data_000001.h5\n",
      "Successfully read TIFF data from: setup_6oct23_015_007_data_000001.h5\n",
      "Successfully read TIFF data from: setup_6oct23_010_011_data_000001.h5\n",
      "Successfully read TIFF data from: setup_6oct23_010_004_data_000001.h5\n",
      "Successfully read TIFF data from: setup_6oct23_018_012_data_000001.h5\n",
      "Successfully read TIFF data from: setup_6oct23_018_007_data_000001.h5\n",
      "Successfully read TIFF data from: setup_6oct23_013_010_data_000001.h5\n",
      "Successfully read TIFF data from: setup_6oct23_013_005_data_000001.h5\n",
      "Successfully read TIFF data from: setup_6oct23_021_025_data_000001.h5\n",
      "Successfully read TIFF data from: setup_6oct23_021_030_data_000001.h5\n",
      "Successfully read TIFF data from: setup_6oct23_017_028_data_000001.h5\n",
      "Successfully read TIFF data from: setup_6oct23_017_035_data_000001.h5\n",
      "Successfully read TIFF data from: setup_6oct23_017_020_data_000001.h5\n",
      "Successfully read TIFF data from: setup_6oct23_003_010_data_000001.h5\n",
      "Successfully read TIFF data from: setup_6oct23_003_005_data_000001.h5\n",
      "Successfully read TIFF data from: setup_6oct23_008_012_data_000001.h5\n",
      "Successfully read TIFF data from: setup_6oct23_008_007_data_000001.h5\n",
      "Successfully read TIFF data from: setup_6oct23_005_012_data_000001.h5\n",
      "Successfully read TIFF data from: setup_6oct23_005_007_data_000001.h5\n",
      "Successfully read TIFF data from: setup_6oct23_021_038_data_000001.h5\n",
      "Successfully read TIFF data from: setup_6oct23_006_013_data_000001.h5\n",
      "Successfully read TIFF data from: setup_6oct23_006_006_data_000001.h5\n",
      "Successfully read TIFF data from: setup_6oct23_017_044_data_000001.h5\n",
      "Successfully read TIFF data from: setup_6oct23_020_003_data_000001.h5\n",
      "Successfully read TIFF data from: setup_6oct23_020_016_data_000001.h5\n",
      "Successfully read TIFF data from: setup_6oct23_013_018_data_000001.h5\n",
      "Successfully read TIFF data from: setup_6oct23_023_002_data_000001.h5\n",
      "Successfully read TIFF data from: setup_6oct23_010_019_data_000001.h5\n",
      "Successfully read TIFF data from: setup_6oct23_026_014_data_000001.h5\n",
      "Successfully read TIFF data from: setup_6oct23_026_001_data_000001.h5\n",
      "Successfully read TIFF data from: setup_6oct23_021_049_data_000001.h5\n",
      "Successfully read TIFF data from: setup_6oct23_025_000_data_000001.h5\n",
      "Successfully read TIFF data from: setup_6oct23_020_019_data_000001.h5\n",
      "Successfully read TIFF data from: setup_6oct23_013_002_data_000001.h5\n",
      "Successfully read TIFF data from: setup_6oct23_013_017_data_000001.h5\n",
      "Successfully read TIFF data from: setup_6oct23_018_000_data_000001.h5\n",
      "Successfully read TIFF data from: setup_6oct23_018_015_data_000001.h5\n",
      "Successfully read TIFF data from: setup_6oct23_010_003_data_000001.h5\n",
      "Successfully read TIFF data from: setup_6oct23_010_016_data_000001.h5\n",
      "Successfully read TIFF data from: setup_6oct23_015_000_data_000001.h5\n",
      "Successfully read TIFF data from: setup_6oct23_021_053_data_000001.h5\n",
      "Successfully read TIFF data from: setup_6oct23_021_046_data_000001.h5\n",
      "Successfully read TIFF data from: setup_6oct23_016_001_data_000001.h5\n",
      "Successfully read TIFF data from: setup_6oct23_016_014_data_000001.h5\n",
      "Successfully read TIFF data from: setup_6oct23_008_008_data_000001.h5\n",
      "Successfully read TIFF data from: setup_6oct23_005_008_data_000001.h5\n",
      "Successfully read TIFF data from: setup_6oct23_021_037_data_000001.h5\n",
      "Successfully read TIFF data from: setup_6oct23_021_022_data_000001.h5\n",
      "Successfully read TIFF data from: setup_6oct23_006_009_data_000001.h5\n",
      "Successfully read TIFF data from: setup_6oct23_006_001_data_000001.h5\n",
      "Successfully read TIFF data from: setup_6oct23_006_014_data_000001.h5\n",
      "Successfully read TIFF data from: setup_6oct23_005_000_data_000001.h5\n",
      "Successfully read TIFF data from: setup_6oct23_008_000_data_000001.h5\n",
      "Successfully read TIFF data from: setup_6oct23_003_002_data_000001.h5\n",
      "Successfully read TIFF data from: setup_6oct23_017_027_data_000001.h5\n",
      "Successfully read TIFF data from: setup_6oct23_017_032_data_000001.h5\n",
      "Successfully read TIFF data from: setup_6oct23_016_009_data_000001.h5\n",
      "Successfully read TIFF data from: setup_6oct23_026_013_data_000001.h5\n",
      "Successfully read TIFF data from: setup_6oct23_026_006_data_000001.h5\n",
      "Successfully read TIFF data from: setup_6oct23_015_008_data_000001.h5\n",
      "Successfully read TIFF data from: setup_6oct23_023_010_data_000001.h5\n",
      "Successfully read TIFF data from: setup_6oct23_023_005_data_000001.h5\n",
      "Successfully read TIFF data from: setup_6oct23_018_008_data_000001.h5\n",
      "Successfully read TIFF data from: setup_6oct23_020_011_data_000001.h5\n",
      "Successfully read TIFF data from: setup_6oct23_020_004_data_000001.h5\n",
      "Successfully read TIFF data from: setup_6oct23_017_043_data_000001.h5\n",
      "Successfully read TIFF data from: setup_6oct23_008_014_data_000001.h5\n",
      "Successfully read TIFF data from: setup_6oct23_008_001_data_000001.h5\n",
      "Successfully read TIFF data from: setup_6oct23_017_033_data_000001.h5\n",
      "Successfully read TIFF data from: setup_6oct23_017_026_data_000001.h5\n",
      "Successfully read TIFF data from: setup_6oct23_003_003_data_000001.h5\n",
      "Successfully read TIFF data from: setup_6oct23_005_014_data_000001.h5\n",
      "Successfully read TIFF data from: setup_6oct23_005_001_data_000001.h5\n",
      "Successfully read TIFF data from: setup_6oct23_006_015_data_000001.h5\n",
      "Successfully read TIFF data from: setup_6oct23_006_000_data_000001.h5\n",
      "Successfully read TIFF data from: setup_6oct23_017_042_data_000001.h5\n",
      "Successfully read TIFF data from: setup_6oct23_020_005_data_000001.h5\n",
      "Successfully read TIFF data from: setup_6oct23_020_010_data_000001.h5\n",
      "Successfully read TIFF data from: setup_6oct23_018_009_data_000001.h5\n",
      "Successfully read TIFF data from: setup_6oct23_023_004_data_000001.h5\n",
      "Successfully read TIFF data from: setup_6oct23_015_009_data_000001.h5\n",
      "Successfully read TIFF data from: setup_6oct23_026_007_data_000001.h5\n",
      "Successfully read TIFF data from: setup_6oct23_026_012_data_000001.h5\n",
      "Successfully read TIFF data from: setup_6oct23_016_008_data_000001.h5\n",
      "Successfully read TIFF data from: setup_6oct23_016_015_data_000001.h5\n",
      "Successfully read TIFF data from: setup_6oct23_016_000_data_000001.h5\n",
      "Successfully read TIFF data from: setup_6oct23_021_047_data_000001.h5\n",
      "Successfully read TIFF data from: setup_6oct23_021_052_data_000001.h5\n",
      "Successfully read TIFF data from: setup_6oct23_015_001_data_000001.h5\n",
      "Successfully read TIFF data from: setup_6oct23_010_017_data_000001.h5\n",
      "Successfully read TIFF data from: setup_6oct23_010_002_data_000001.h5\n",
      "Successfully read TIFF data from: setup_6oct23_013_016_data_000001.h5\n",
      "Successfully read TIFF data from: setup_6oct23_013_003_data_000001.h5\n",
      "Successfully read TIFF data from: setup_6oct23_018_014_data_000001.h5\n",
      "Successfully read TIFF data from: setup_6oct23_018_001_data_000001.h5\n",
      "Successfully read TIFF data from: setup_6oct23_020_018_data_000001.h5\n",
      "Successfully read TIFF data from: setup_6oct23_006_008_data_000001.h5\n",
      "Successfully read TIFF data from: setup_6oct23_021_023_data_000001.h5\n",
      "Successfully read TIFF data from: setup_6oct23_021_036_data_000001.h5\n",
      "Successfully read TIFF data from: setup_6oct23_005_009_data_000001.h5\n",
      "Successfully read TIFF data from: setup_6oct23_008_009_data_000001.h5\n",
      "Successfully read TIFF data from: setup_6oct23_006_007_data_000001.h5\n",
      "Successfully read TIFF data from: setup_6oct23_006_012_data_000001.h5\n",
      "Successfully read TIFF data from: setup_6oct23_019_020_data_000001.h5\n",
      "Successfully read TIFF data from: setup_6oct23_021_039_data_000001.h5\n",
      "Successfully read TIFF data from: setup_6oct23_005_006_data_000001.h5\n",
      "Successfully read TIFF data from: setup_6oct23_005_013_data_000001.h5\n",
      "Successfully read TIFF data from: setup_6oct23_003_004_data_000001.h5\n",
      "Successfully read TIFF data from: setup_6oct23_003_011_data_000001.h5\n",
      "Successfully read TIFF data from: setup_6oct23_017_021_data_000001.h5\n",
      "Successfully read TIFF data from: setup_6oct23_017_034_data_000001.h5\n",
      "Successfully read TIFF data from: setup_6oct23_008_006_data_000001.h5\n",
      "Successfully read TIFF data from: setup_6oct23_008_013_data_000001.h5\n",
      "Successfully read TIFF data from: setup_6oct23_025_001_data_000001.h5\n",
      "Successfully read TIFF data from: setup_6oct23_021_048_data_000001.h5\n",
      "Successfully read TIFF data from: setup_6oct23_026_015_data_000001.h5\n",
      "Successfully read TIFF data from: setup_6oct23_026_000_data_000001.h5\n",
      "Successfully read TIFF data from: setup_6oct23_010_018_data_000001.h5\n",
      "Successfully read TIFF data from: setup_6oct23_023_003_data_000001.h5\n",
      "Successfully read TIFF data from: setup_6oct23_013_019_data_000001.h5\n",
      "Successfully read TIFF data from: setup_6oct23_020_017_data_000001.h5\n",
      "Successfully read TIFF data from: setup_6oct23_020_002_data_000001.h5\n",
      "Successfully read TIFF data from: setup_6oct23_017_045_data_000001.h5\n",
      "Successfully read TIFF data from: setup_6oct23_017_050_data_000001.h5\n",
      "Successfully read TIFF data from: setup_6oct23_018_006_data_000001.h5\n",
      "Successfully read TIFF data from: setup_6oct23_018_013_data_000001.h5\n",
      "Successfully read TIFF data from: setup_6oct23_013_004_data_000001.h5\n",
      "Successfully read TIFF data from: setup_6oct23_013_011_data_000001.h5\n",
      "Successfully read TIFF data from: setup_6oct23_010_005_data_000001.h5\n",
      "Successfully read TIFF data from: setup_6oct23_010_010_data_000001.h5\n",
      "Successfully read TIFF data from: setup_6oct23_015_006_data_000001.h5\n",
      "Successfully read TIFF data from: setup_6oct23_026_008_data_000001.h5\n",
      "Successfully read TIFF data from: setup_6oct23_021_055_data_000001.h5\n",
      "Successfully read TIFF data from: setup_6oct23_021_040_data_000001.h5\n",
      "Successfully read TIFF data from: setup_6oct23_016_007_data_000001.h5\n",
      "Successfully read TIFF data from: setup_6oct23_016_012_data_000001.h5\n",
      "Successfully read TIFF data from: setup_6oct23_017_029_data_000001.h5\n",
      "Successfully read TIFF data from: setup_6oct23_021_031_data_000001.h5\n",
      "Successfully read TIFF data from: setup_6oct23_021_024_data_000001.h5\n",
      "Successfully read TIFF data from: setup_6oct23_014_014_data_000001.h5\n",
      "Successfully read TIFF data from: setup_6oct23_014_001_data_000001.h5\n",
      "Successfully read TIFF data from: setup_6oct23_020_047_data_000001.h5\n",
      "Successfully read TIFF data from: setup_6oct23_017_015_data_000001.h5\n",
      "Successfully read TIFF data from: setup_6oct23_017_000_data_000001.h5\n",
      "Successfully read TIFF data from: setup_6oct23_021_018_data_000001.h5\n",
      "Successfully read TIFF data from: setup_6oct23_019_014_data_000001.h5\n",
      "Successfully read TIFF data from: setup_6oct23_012_003_data_000001.h5\n",
      "Successfully read TIFF data from: setup_6oct23_019_001_data_000001.h5\n",
      "Successfully read TIFF data from: setup_6oct23_022_019_data_000001.h5\n",
      "Successfully read TIFF data from: setup_6oct23_011_017_data_000001.h5\n",
      "Successfully read TIFF data from: setup_6oct23_011_002_data_000001.h5\n",
      "Successfully read TIFF data from: setup_6oct23_026_045_data_000001.h5\n",
      "Successfully read TIFF data from: setup_6oct23_026_050_data_000001.h5\n",
      "Successfully read TIFF data from: setup_6oct23_004_009_data_000001.h5\n",
      "Successfully read TIFF data from: setup_6oct23_020_023_data_000001.h5\n",
      "Successfully read TIFF data from: setup_6oct23_020_036_data_000001.h5\n",
      "Successfully read TIFF data from: setup_6oct23_007_008_data_000001.h5\n",
      "Successfully read TIFF data from: setup_6oct23_009_009_data_000001.h5\n",
      "Successfully read TIFF data from: setup_6oct23_021_069_data_000001.h5\n",
      "Successfully read TIFF data from: setup_6oct23_026_021_data_000001.h5\n",
      "Successfully read TIFF data from: setup_6oct23_026_034_data_000001.h5\n",
      "Successfully read TIFF data from: setup_6oct23_026_029_data_000001.h5\n",
      "Successfully read TIFF data from: setup_6oct23_001_002_data_000001.h5\n",
      "Successfully read TIFF data from: setup_6oct23_009_014_data_000001.h5\n",
      "Successfully read TIFF data from: setup_6oct23_009_001_data_000001.h5\n",
      "Successfully read TIFF data from: setup_6oct23_021_061_data_000001.h5\n",
      "Successfully read TIFF data from: setup_6oct23_021_074_data_000001.h5\n",
      "Successfully read TIFF data from: setup_6oct23_002_003_data_000001.h5\n",
      "Successfully read TIFF data from: setup_6oct23_018_032_data_000001.h5\n",
      "Successfully read TIFF data from: setup_6oct23_018_027_data_000001.h5\n",
      "Successfully read TIFF data from: setup_6oct23_007_000_data_000001.h5\n",
      "Successfully read TIFF data from: setup_6oct23_004_014_data_000001.h5\n",
      "Successfully read TIFF data from: setup_6oct23_004_001_data_000001.h5\n",
      "Successfully read TIFF data from: setup_6oct23_026_058_data_000001.h5\n",
      "Successfully read TIFF data from: setup_6oct23_022_004_data_000001.h5\n",
      "Successfully read TIFF data from: setup_6oct23_022_011_data_000001.h5\n",
      "Successfully read TIFF data from: setup_6oct23_019_009_data_000001.h5\n",
      "Successfully read TIFF data from: setup_6oct23_021_005_data_000001.h5\n",
      "Successfully read TIFF data from: setup_6oct23_021_010_data_000001.h5\n",
      "Successfully read TIFF data from: setup_6oct23_024_006_data_000001.h5\n",
      "Successfully read TIFF data from: setup_6oct23_018_043_data_000001.h5\n",
      "Successfully read TIFF data from: setup_6oct23_017_008_data_000001.h5\n",
      "Successfully read TIFF data from: setup_6oct23_014_009_data_000001.h5\n",
      "Successfully read TIFF data from: setup_6oct23_026_057_data_000001.h5\n",
      "Successfully read TIFF data from: setup_6oct23_026_042_data_000001.h5\n",
      "Successfully read TIFF data from: setup_6oct23_011_005_data_000001.h5\n",
      "Successfully read TIFF data from: setup_6oct23_011_010_data_000001.h5\n",
      "Successfully read TIFF data from: setup_6oct23_019_006_data_000001.h5\n",
      "Successfully read TIFF data from: setup_6oct23_019_013_data_000001.h5\n",
      "Successfully read TIFF data from: setup_6oct23_012_004_data_000001.h5\n",
      "Successfully read TIFF data from: setup_6oct23_012_011_data_000001.h5\n",
      "Successfully read TIFF data from: setup_6oct23_006_021_data_000001.h5\n",
      "Successfully read TIFF data from: setup_6oct23_024_009_data_000001.h5\n",
      "Successfully read TIFF data from: setup_6oct23_017_007_data_000001.h5\n",
      "Successfully read TIFF data from: setup_6oct23_017_012_data_000001.h5\n",
      "Successfully read TIFF data from: setup_6oct23_020_040_data_000001.h5\n",
      "Successfully read TIFF data from: setup_6oct23_014_006_data_000001.h5\n",
      "Successfully read TIFF data from: setup_6oct23_014_013_data_000001.h5\n",
      "Successfully read TIFF data from: setup_6oct23_026_033_data_000001.h5\n",
      "Successfully read TIFF data from: setup_6oct23_026_026_data_000001.h5\n",
      "Successfully read TIFF data from: setup_6oct23_018_028_data_000001.h5\n",
      "Successfully read TIFF data from: setup_6oct23_020_031_data_000001.h5\n",
      "Successfully read TIFF data from: setup_6oct23_020_024_data_000001.h5\n",
      "Successfully read TIFF data from: setup_6oct23_004_006_data_000001.h5\n",
      "Successfully read TIFF data from: setup_6oct23_004_013_data_000001.h5\n",
      "Successfully read TIFF data from: setup_6oct23_020_039_data_000001.h5\n",
      "Successfully read TIFF data from: setup_6oct23_007_007_data_000001.h5\n",
      "Successfully read TIFF data from: setup_6oct23_018_020_data_000001.h5\n",
      "Successfully read TIFF data from: setup_6oct23_018_035_data_000001.h5\n",
      "Successfully read TIFF data from: setup_6oct23_002_004_data_000001.h5\n",
      "Successfully read TIFF data from: setup_6oct23_021_073_data_000001.h5\n",
      "Successfully read TIFF data from: setup_6oct23_021_066_data_000001.h5\n",
      "Successfully read TIFF data from: setup_6oct23_002_011_data_000001.h5\n",
      "Successfully read TIFF data from: setup_6oct23_009_006_data_000001.h5\n",
      "Successfully read TIFF data from: setup_6oct23_009_013_data_000001.h5\n",
      "Successfully read TIFF data from: setup_6oct23_001_005_data_000001.h5\n",
      "Successfully read TIFF data from: setup_6oct23_020_048_data_000001.h5\n",
      "Successfully read TIFF data from: setup_6oct23_018_044_data_000001.h5\n",
      "Successfully read TIFF data from: setup_6oct23_024_001_data_000001.h5\n",
      "Successfully read TIFF data from: setup_6oct23_021_017_data_000001.h5\n",
      "Successfully read TIFF data from: setup_6oct23_021_002_data_000001.h5\n",
      "Successfully read TIFF data from: setup_6oct23_022_016_data_000001.h5\n",
      "Successfully read TIFF data from: setup_6oct23_022_003_data_000001.h5\n",
      "Successfully read TIFF data from: setup_6oct23_011_018_data_000001.h5\n",
      "Successfully read TIFF data from: setup_6oct23_001_004_data_000001.h5\n",
      "Successfully read TIFF data from: setup_6oct23_021_067_data_000001.h5\n",
      "Successfully read TIFF data from: setup_6oct23_002_010_data_000001.h5\n",
      "Successfully read TIFF data from: setup_6oct23_002_005_data_000001.h5\n",
      "Successfully read TIFF data from: setup_6oct23_021_072_data_000001.h5\n",
      "Successfully read TIFF data from: setup_6oct23_009_012_data_000001.h5\n",
      "Successfully read TIFF data from: setup_6oct23_009_007_data_000001.h5\n",
      "Successfully read TIFF data from: setup_6oct23_007_006_data_000001.h5\n",
      "Successfully read TIFF data from: setup_6oct23_018_034_data_000001.h5\n",
      "Successfully read TIFF data from: setup_6oct23_018_021_data_000001.h5\n",
      "Successfully read TIFF data from: setup_6oct23_020_038_data_000001.h5\n",
      "Successfully read TIFF data from: setup_6oct23_004_012_data_000001.h5\n",
      "Successfully read TIFF data from: setup_6oct23_004_007_data_000001.h5\n",
      "Successfully read TIFF data from: setup_6oct23_011_019_data_000001.h5\n",
      "Successfully read TIFF data from: setup_6oct23_022_002_data_000001.h5\n",
      "Successfully read TIFF data from: setup_6oct23_022_017_data_000001.h5\n",
      "Successfully read TIFF data from: setup_6oct23_021_003_data_000001.h5\n",
      "Successfully read TIFF data from: setup_6oct23_021_016_data_000001.h5\n",
      "Successfully read TIFF data from: setup_6oct23_018_050_data_000001.h5\n",
      "Successfully read TIFF data from: setup_6oct23_018_045_data_000001.h5\n",
      "Successfully read TIFF data from: setup_6oct23_024_000_data_000001.h5\n",
      "Successfully read TIFF data from: setup_6oct23_020_049_data_000001.h5\n",
      "Successfully read TIFF data from: setup_6oct23_014_012_data_000001.h5\n",
      "Successfully read TIFF data from: setup_6oct23_014_007_data_000001.h5\n",
      "Successfully read TIFF data from: setup_6oct23_020_041_data_000001.h5\n",
      "Successfully read TIFF data from: setup_6oct23_017_013_data_000001.h5\n",
      "Successfully read TIFF data from: setup_6oct23_017_006_data_000001.h5\n",
      "Successfully read TIFF data from: setup_6oct23_024_008_data_000001.h5\n",
      "Successfully read TIFF data from: setup_6oct23_019_012_data_000001.h5\n",
      "Successfully read TIFF data from: setup_6oct23_019_007_data_000001.h5\n",
      "Successfully read TIFF data from: setup_6oct23_006_020_data_000001.h5\n",
      "Successfully read TIFF data from: setup_6oct23_012_010_data_000001.h5\n",
      "Successfully read TIFF data from: setup_6oct23_012_005_data_000001.h5\n",
      "Successfully read TIFF data from: setup_6oct23_011_011_data_000001.h5\n",
      "Successfully read TIFF data from: setup_6oct23_011_004_data_000001.h5\n",
      "Successfully read TIFF data from: setup_6oct23_026_043_data_000001.h5\n",
      "Successfully read TIFF data from: setup_6oct23_026_056_data_000001.h5\n",
      "Successfully read TIFF data from: setup_6oct23_020_025_data_000001.h5\n",
      "Successfully read TIFF data from: setup_6oct23_020_030_data_000001.h5\n",
      "Successfully read TIFF data from: setup_6oct23_018_029_data_000001.h5\n",
      "Successfully read TIFF data from: setup_6oct23_026_027_data_000001.h5\n",
      "Successfully read TIFF data from: setup_6oct23_026_032_data_000001.h5\n",
      "Successfully read TIFF data from: setup_6oct23_004_000_data_000001.h5\n",
      "Successfully read TIFF data from: setup_6oct23_018_026_data_000001.h5\n",
      "Successfully read TIFF data from: setup_6oct23_018_033_data_000001.h5\n",
      "Successfully read TIFF data from: setup_6oct23_007_001_data_000001.h5\n",
      "Successfully read TIFF data from: setup_6oct23_009_000_data_000001.h5\n",
      "Successfully read TIFF data from: setup_6oct23_021_075_data_000001.h5\n",
      "Successfully read TIFF data from: setup_6oct23_002_002_data_000001.h5\n",
      "Successfully read TIFF data from: setup_6oct23_021_060_data_000001.h5\n",
      "Successfully read TIFF data from: setup_6oct23_001_003_data_000001.h5\n",
      "Successfully read TIFF data from: setup_2023_07_28_090_001_data_000001.h5\n",
      "Successfully read TIFF data from: setup_6oct23_026_028_data_000001.h5\n",
      "Successfully read TIFF data from: setup_6oct23_014_008_data_000001.h5\n",
      "Successfully read TIFF data from: setup_6oct23_017_009_data_000001.h5\n",
      "Successfully read TIFF data from: setup_6oct23_024_012_data_000001.h5\n",
      "Successfully read TIFF data from: setup_6oct23_024_007_data_000001.h5\n",
      "Successfully read TIFF data from: setup_6oct23_018_042_data_000001.h5\n",
      "Successfully read TIFF data from: setup_6oct23_021_011_data_000001.h5\n",
      "Successfully read TIFF data from: setup_6oct23_021_004_data_000001.h5\n",
      "Successfully read TIFF data from: setup_6oct23_019_008_data_000001.h5\n",
      "Successfully read TIFF data from: setup_6oct23_022_010_data_000001.h5\n",
      "Successfully read TIFF data from: setup_6oct23_022_005_data_000001.h5\n",
      "Successfully read TIFF data from: setup_6oct23_026_059_data_000001.h5\n",
      "Successfully read TIFF data from: setup_6oct23_026_051_data_000001.h5\n",
      "Successfully read TIFF data from: setup_6oct23_026_044_data_000001.h5\n",
      "Successfully read TIFF data from: setup_6oct23_011_003_data_000001.h5\n",
      "Successfully read TIFF data from: setup_6oct23_011_016_data_000001.h5\n",
      "Successfully read TIFF data from: setup_6oct23_022_018_data_000001.h5\n",
      "Successfully read TIFF data from: setup_6oct23_012_002_data_000001.h5\n",
      "Successfully read TIFF data from: setup_6oct23_019_000_data_000001.h5\n",
      "Successfully read TIFF data from: setup_6oct23_019_015_data_000001.h5\n",
      "Successfully read TIFF data from: setup_6oct23_021_019_data_000001.h5\n",
      "Successfully read TIFF data from: setup_6oct23_017_001_data_000001.h5\n",
      "Successfully read TIFF data from: setup_6oct23_017_014_data_000001.h5\n",
      "Successfully read TIFF data from: setup_6oct23_020_046_data_000001.h5\n",
      "Successfully read TIFF data from: setup_6oct23_014_000_data_000001.h5\n",
      "Successfully read TIFF data from: setup_6oct23_026_035_data_000001.h5\n",
      "Successfully read TIFF data from: setup_6oct23_026_020_data_000001.h5\n",
      "Successfully read TIFF data from: setup_6oct23_009_008_data_000001.h5\n",
      "Successfully read TIFF data from: setup_6oct23_021_068_data_000001.h5\n",
      "Successfully read TIFF data from: setup_6oct23_007_009_data_000001.h5\n",
      "Successfully read TIFF data from: setup_6oct23_020_037_data_000001.h5\n",
      "Successfully read TIFF data from: setup_6oct23_020_022_data_000001.h5\n",
      "Successfully read TIFF data from: setup_6oct23_004_008_data_000001.h5\n",
      "Successfully read TIFF data from: setup_6oct23_022_012_data_000001.h5\n",
      "Successfully read TIFF data from: setup_6oct23_022_007_data_000001.h5\n",
      "Successfully read TIFF data from: setup_6oct23_011_009_data_000001.h5\n",
      "Successfully read TIFF data from: setup_6oct23_021_013_data_000001.h5\n",
      "Successfully read TIFF data from: setup_6oct23_021_006_data_000001.h5\n",
      "Successfully read TIFF data from: setup_6oct23_012_008_data_000001.h5\n",
      "Successfully read TIFF data from: setup_6oct23_018_040_data_000001.h5\n",
      "Successfully read TIFF data from: setup_6oct23_024_010_data_000001.h5\n",
      "Successfully read TIFF data from: setup_6oct23_024_005_data_000001.h5\n",
      "Successfully read TIFF data from: setup_6oct23_001_001_data_000001.h5\n",
      "Successfully read TIFF data from: setup_6oct23_021_077_data_000001.h5\n",
      "Successfully read TIFF data from: setup_6oct23_002_000_data_000001.h5\n",
      "Successfully read TIFF data from: setup_6oct23_021_062_data_000001.h5\n",
      "Successfully read TIFF data from: setup_6oct23_009_002_data_000001.h5\n",
      "Successfully read TIFF data from: setup_6oct23_020_028_data_000001.h5\n",
      "Successfully read TIFF data from: setup_6oct23_007_003_data_000001.h5\n",
      "Successfully read TIFF data from: setup_6oct23_018_024_data_000001.h5\n",
      "Successfully read TIFF data from: setup_6oct23_018_031_data_000001.h5\n",
      "Successfully read TIFF data from: setup_6oct23_004_002_data_000001.h5\n",
      "Successfully read TIFF data from: setup_6oct23_018_039_data_000001.h5\n",
      "Successfully read TIFF data from: setup_6oct23_020_035_data_000001.h5\n",
      "Successfully read TIFF data from: setup_6oct23_020_020_data_000001.h5\n",
      "Successfully read TIFF data from: setup_6oct23_002_008_data_000001.h5\n",
      "Successfully read TIFF data from: setup_6oct23_026_037_data_000001.h5\n",
      "Successfully read TIFF data from: setup_6oct23_026_022_data_000001.h5\n",
      "Successfully read TIFF data from: setup_6oct23_014_002_data_000001.h5\n",
      "Successfully read TIFF data from: setup_6oct23_018_048_data_000001.h5\n",
      "Successfully read TIFF data from: setup_6oct23_021_080_data_000001.h5\n",
      "Successfully read TIFF data from: setup_6oct23_020_044_data_000001.h5\n",
      "Successfully read TIFF data from: setup_6oct23_017_003_data_000001.h5\n",
      "Successfully read TIFF data from: setup_6oct23_017_016_data_000001.h5\n",
      "Successfully read TIFF data from: setup_6oct23_019_002_data_000001.h5\n",
      "Successfully read TIFF data from: setup_6oct23_019_017_data_000001.h5\n",
      "Successfully read TIFF data from: setup_6oct23_012_000_data_000001.h5\n",
      "Successfully read TIFF data from: setup_6oct23_011_001_data_000001.h5\n",
      "Successfully read TIFF data from: setup_6oct23_011_014_data_000001.h5\n",
      "Successfully read TIFF data from: setup_6oct23_026_053_data_000001.h5\n",
      "Successfully read TIFF data from: setup_6oct23_026_046_data_000001.h5\n",
      "Successfully read TIFF data from: setup_6oct23_024_002_data_000001.h5\n",
      "Successfully read TIFF data from: setup_6oct23_018_047_data_000001.h5\n",
      "Successfully read TIFF data from: setup_6oct23_017_019_data_000001.h5\n",
      "Successfully read TIFF data from: setup_6oct23_019_018_data_000001.h5\n",
      "Successfully read TIFF data from: setup_6oct23_021_001_data_000001.h5\n",
      "Successfully read TIFF data from: setup_6oct23_021_014_data_000001.h5\n",
      "Successfully read TIFF data from: setup_6oct23_026_049_data_000001.h5\n",
      "Successfully read TIFF data from: setup_6oct23_022_000_data_000001.h5\n",
      "Successfully read TIFF data from: setup_6oct23_022_015_data_000001.h5\n",
      "Successfully read TIFF data from: setup_6oct23_004_010_data_000001.h5\n",
      "Successfully read TIFF data from: setup_6oct23_004_005_data_000001.h5\n",
      "Successfully read TIFF data from: setup_6oct23_010_020_data_000001.h5\n",
      "Successfully read TIFF data from: setup_6oct23_018_036_data_000001.h5\n",
      "Successfully read TIFF data from: setup_6oct23_018_023_data_000001.h5\n",
      "Successfully read TIFF data from: setup_6oct23_007_004_data_000001.h5\n",
      "Successfully read TIFF data from: setup_6oct23_009_010_data_000001.h5\n",
      "Successfully read TIFF data from: setup_6oct23_009_005_data_000001.h5\n",
      "Successfully read TIFF data from: setup_6oct23_021_065_data_000001.h5\n",
      "Successfully read TIFF data from: setup_6oct23_002_012_data_000001.h5\n",
      "Successfully read TIFF data from: setup_6oct23_002_007_data_000001.h5\n",
      "Successfully read TIFF data from: setup_6oct23_021_070_data_000001.h5\n",
      "Successfully read TIFF data from: setup_6oct23_026_038_data_000001.h5\n",
      "Successfully read TIFF data from: setup_6oct23_001_006_data_000001.h5\n",
      "Successfully read TIFF data from: setup_6oct23_026_025_data_000001.h5\n",
      "Successfully read TIFF data from: setup_6oct23_026_030_data_000001.h5\n",
      "Successfully read TIFF data from: setup_6oct23_021_078_data_000001.h5\n",
      "Successfully read TIFF data from: setup_6oct23_020_027_data_000001.h5\n",
      "Successfully read TIFF data from: setup_6oct23_020_032_data_000001.h5\n",
      "Successfully read TIFF data from: setup_6oct23_011_013_data_000001.h5\n",
      "Successfully read TIFF data from: setup_6oct23_022_008_data_000001.h5\n",
      "Successfully read TIFF data from: setup_6oct23_026_041_data_000001.h5\n",
      "Successfully read TIFF data from: setup_6oct23_026_054_data_000001.h5\n",
      "Successfully read TIFF data from: setup_6oct23_011_006_data_000001.h5\n",
      "Successfully read TIFF data from: setup_6oct23_021_009_data_000001.h5\n",
      "Successfully read TIFF data from: setup_6oct23_012_007_data_000001.h5\n",
      "Successfully read TIFF data from: setup_6oct23_019_010_data_000001.h5\n",
      "Successfully read TIFF data from: setup_6oct23_019_005_data_000001.h5\n",
      "Successfully read TIFF data from: setup_6oct23_017_011_data_000001.h5\n",
      "Successfully read TIFF data from: setup_6oct23_017_004_data_000001.h5\n",
      "Successfully read TIFF data from: setup_6oct23_020_043_data_000001.h5\n",
      "Successfully read TIFF data from: setup_6oct23_014_010_data_000001.h5\n",
      "Successfully read TIFF data from: setup_6oct23_014_005_data_000001.h5\n",
      "Successfully read TIFF data from: setup_6oct23_020_033_data_000001.h5\n",
      "Successfully read TIFF data from: setup_6oct23_020_026_data_000001.h5\n",
      "Successfully read TIFF data from: setup_6oct23_021_079_data_000001.h5\n",
      "Successfully read TIFF data from: setup_6oct23_026_031_data_000001.h5\n",
      "Successfully read TIFF data from: setup_6oct23_026_024_data_000001.h5\n",
      "Successfully read TIFF data from: setup_6oct23_014_004_data_000001.h5\n",
      "Successfully read TIFF data from: setup_6oct23_014_011_data_000001.h5\n",
      "Successfully read TIFF data from: setup_6oct23_017_005_data_000001.h5\n",
      "Successfully read TIFF data from: setup_6oct23_020_042_data_000001.h5\n",
      "Successfully read TIFF data from: setup_6oct23_017_010_data_000001.h5\n",
      "Successfully read TIFF data from: setup_6oct23_012_006_data_000001.h5\n",
      "Successfully read TIFF data from: setup_6oct23_019_004_data_000001.h5\n",
      "Successfully read TIFF data from: setup_6oct23_019_011_data_000001.h5\n",
      "Successfully read TIFF data from: setup_6oct23_021_008_data_000001.h5\n",
      "Successfully read TIFF data from: setup_6oct23_011_007_data_000001.h5\n",
      "Successfully read TIFF data from: setup_6oct23_011_012_data_000001.h5\n",
      "Successfully read TIFF data from: setup_6oct23_026_055_data_000001.h5\n",
      "Successfully read TIFF data from: setup_6oct23_026_040_data_000001.h5\n",
      "Successfully read TIFF data from: setup_6oct23_022_009_data_000001.h5\n",
      "Successfully read TIFF data from: setup_6oct23_022_014_data_000001.h5\n",
      "Successfully read TIFF data from: setup_6oct23_022_001_data_000001.h5\n",
      "Successfully read TIFF data from: setup_6oct23_026_048_data_000001.h5\n",
      "Successfully read TIFF data from: setup_6oct23_021_015_data_000001.h5\n",
      "Successfully read TIFF data from: setup_6oct23_021_000_data_000001.h5\n",
      "Successfully read TIFF data from: setup_6oct23_019_019_data_000001.h5\n",
      "Successfully read TIFF data from: setup_6oct23_017_018_data_000001.h5\n",
      "Successfully read TIFF data from: setup_6oct23_024_003_data_000001.h5\n",
      "Successfully read TIFF data from: setup_6oct23_018_046_data_000001.h5\n",
      "Successfully read TIFF data from: setup_6oct23_001_007_data_000001.h5\n",
      "Successfully read TIFF data from: setup_6oct23_026_039_data_000001.h5\n",
      "Successfully read TIFF data from: setup_6oct23_009_004_data_000001.h5\n",
      "Successfully read TIFF data from: setup_6oct23_009_011_data_000001.h5\n",
      "Successfully read TIFF data from: setup_6oct23_002_006_data_000001.h5\n",
      "Successfully read TIFF data from: setup_6oct23_021_071_data_000001.h5\n",
      "Successfully read TIFF data from: setup_6oct23_021_064_data_000001.h5\n",
      "Successfully read TIFF data from: setup_6oct23_018_022_data_000001.h5\n",
      "Successfully read TIFF data from: setup_6oct23_018_037_data_000001.h5\n",
      "Successfully read TIFF data from: setup_6oct23_007_005_data_000001.h5\n",
      "Successfully read TIFF data from: setup_6oct23_007_010_data_000001.h5\n",
      "Successfully read TIFF data from: setup_6oct23_013_020_data_000001.h5\n",
      "Successfully read TIFF data from: setup_6oct23_010_021_data_000001.h5\n",
      "Successfully read TIFF data from: setup_6oct23_004_004_data_000001.h5\n",
      "Successfully read TIFF data from: setup_6oct23_004_011_data_000001.h5\n",
      "Successfully read TIFF data from: setup_6oct23_001_008_data_000001.h5\n",
      "Successfully read TIFF data from: setup_6oct23_026_023_data_000001.h5\n",
      "Successfully read TIFF data from: setup_6oct23_026_036_data_000001.h5\n",
      "Successfully read TIFF data from: setup_6oct23_002_009_data_000001.h5\n",
      "Successfully read TIFF data from: setup_6oct23_020_021_data_000001.h5\n",
      "Successfully read TIFF data from: setup_6oct23_020_034_data_000001.h5\n",
      "Successfully read TIFF data from: setup_6oct23_018_038_data_000001.h5\n",
      "Successfully read TIFF data from: setup_6oct23_011_000_data_000001.h5\n",
      "Successfully read TIFF data from: setup_6oct23_026_047_data_000001.h5\n",
      "Successfully read TIFF data from: setup_6oct23_026_052_data_000001.h5\n",
      "Successfully read TIFF data from: setup_6oct23_011_015_data_000001.h5\n",
      "Successfully read TIFF data from: setup_6oct23_019_016_data_000001.h5\n",
      "Successfully read TIFF data from: setup_6oct23_019_003_data_000001.h5\n",
      "Successfully read TIFF data from: setup_6oct23_012_001_data_000001.h5\n",
      "Successfully read TIFF data from: setup_6oct23_021_081_data_000001.h5\n",
      "Successfully read TIFF data from: setup_6oct23_017_017_data_000001.h5\n",
      "Successfully read TIFF data from: setup_6oct23_017_002_data_000001.h5\n",
      "Successfully read TIFF data from: setup_6oct23_020_045_data_000001.h5\n",
      "Successfully read TIFF data from: setup_6oct23_020_050_data_000001.h5\n",
      "Successfully read TIFF data from: setup_6oct23_018_049_data_000001.h5\n",
      "Successfully read TIFF data from: setup_6oct23_014_003_data_000001.h5\n",
      "Successfully read TIFF data from: setup_6oct23_018_041_data_000001.h5\n",
      "Successfully read TIFF data from: setup_6oct23_024_004_data_000001.h5\n",
      "Successfully read TIFF data from: setup_6oct23_024_011_data_000001.h5\n",
      "Successfully read TIFF data from: setup_6oct23_012_009_data_000001.h5\n",
      "Successfully read TIFF data from: setup_6oct23_021_007_data_000001.h5\n",
      "Successfully read TIFF data from: setup_6oct23_021_012_data_000001.h5\n",
      "Successfully read TIFF data from: setup_6oct23_011_008_data_000001.h5\n",
      "Successfully read TIFF data from: setup_6oct23_022_006_data_000001.h5\n",
      "Successfully read TIFF data from: setup_6oct23_022_013_data_000001.h5\n",
      "Successfully read TIFF data from: setup_6oct23_004_003_data_000001.h5\n",
      "Successfully read TIFF data from: setup_6oct23_007_002_data_000001.h5\n",
      "Successfully read TIFF data from: setup_6oct23_018_030_data_000001.h5\n",
      "Successfully read TIFF data from: setup_6oct23_018_025_data_000001.h5\n",
      "Successfully read TIFF data from: setup_6oct23_020_029_data_000001.h5\n",
      "Successfully read TIFF data from: setup_6oct23_021_063_data_000001.h5\n",
      "Successfully read TIFF data from: setup_6oct23_021_076_data_000001.h5\n",
      "Successfully read TIFF data from: setup_6oct23_002_001_data_000001.h5\n",
      "Successfully read TIFF data from: setup_6oct23_009_003_data_000001.h5\n",
      "Successfully read TIFF data from: setup_6oct23_001_000_data_000001.h5\n",
      "Successfully read TIFF data from: setup_6oct23_000_961_data_000001.h5\n",
      "Saved TIFF to /nsls2/data/staff/xyang4/data_cs/ca3ir4sn13/setup_6oct23_tiff_0910/setup_6oct23_018_019_data_000001.tiff\n",
      "Saved TIFF to /nsls2/data/staff/xyang4/data_cs/ca3ir4sn13/setup_6oct23_tiff_0910/setup_6oct23_017_047_data_000001.tiff\n",
      "Saved TIFF to /nsls2/data/staff/xyang4/data_cs/ca3ir4sn13/setup_6oct23_tiff_0910/setup_6oct23_020_015_data_000001.tiff\n",
      "Saved TIFF to /nsls2/data/staff/xyang4/data_cs/ca3ir4sn13/setup_6oct23_tiff_0910/setup_6oct23_020_000_data_000001.tiff\n",
      "Saved TIFF to /nsls2/data/staff/xyang4/data_cs/ca3ir4sn13/setup_6oct23_tiff_0910/setup_6oct23_023_001_data_000001.tiff\n",
      "Saved TIFF to /nsls2/data/staff/xyang4/data_cs/ca3ir4sn13/setup_6oct23_tiff_0910/setup_6oct23_026_017_data_000001.tiff\n",
      "Saved TIFF to /nsls2/data/staff/xyang4/data_cs/ca3ir4sn13/setup_6oct23_tiff_0910/setup_6oct23_026_002_data_000001.tiff\n",
      "Saved TIFF to /nsls2/data/staff/xyang4/data_cs/ca3ir4sn13/setup_6oct23_tiff_0910/setup_6oct23_025_003_data_000001.tiff\n",
      "Saved TIFF to /nsls2/data/staff/xyang4/data_cs/ca3ir4sn13/setup_6oct23_tiff_0910/setup_6oct23_016_018_data_000001.tiff\n",
      "Saved TIFF to /nsls2/data/staff/xyang4/data_cs/ca3ir4sn13/setup_6oct23_tiff_0910/setup_6oct23_008_004_data_000001.tiff\n",
      "Saved TIFF to /nsls2/data/staff/xyang4/data_cs/ca3ir4sn13/setup_6oct23_tiff_0910/setup_6oct23_008_011_data_000001.tiff\n",
      "Saved TIFF to /nsls2/data/staff/xyang4/data_cs/ca3ir4sn13/setup_6oct23_tiff_0910/setup_6oct23_017_023_data_000001.tiff\n",
      "Saved TIFF to /nsls2/data/staff/xyang4/data_cs/ca3ir4sn13/setup_6oct23_tiff_0910/setup_6oct23_017_036_data_000001.tiff\n",
      "Saved TIFF to /nsls2/data/staff/xyang4/data_cs/ca3ir4sn13/setup_6oct23_tiff_0910/setup_6oct23_003_006_data_000001.tiff\n",
      "Saved TIFF to /nsls2/data/staff/xyang4/data_cs/ca3ir4sn13/setup_6oct23_tiff_0910/setup_6oct23_005_004_data_000001.tiff\n",
      "Saved TIFF to /nsls2/data/staff/xyang4/data_cs/ca3ir4sn13/setup_6oct23_tiff_0910/setup_6oct23_005_011_data_000001.tiff\n",
      "Saved TIFF to /nsls2/data/staff/xyang4/data_cs/ca3ir4sn13/setup_6oct23_tiff_0910/setup_6oct23_011_021_data_000001.tiff\n",
      "Saved TIFF to /nsls2/data/staff/xyang4/data_cs/ca3ir4sn13/setup_6oct23_tiff_0910/setup_6oct23_006_005_data_000001.tiff\n",
      "Saved TIFF to /nsls2/data/staff/xyang4/data_cs/ca3ir4sn13/setup_6oct23_tiff_0910/setup_6oct23_006_010_data_000001.tiff\n",
      "Saved TIFF to /nsls2/data/staff/xyang4/data_cs/ca3ir4sn13/setup_6oct23_tiff_0910/setup_6oct23_021_033_data_000001.tiff\n",
      "Saved TIFF to /nsls2/data/staff/xyang4/data_cs/ca3ir4sn13/setup_6oct23_tiff_0910/setup_6oct23_021_026_data_000001.tiff\n",
      "Saved TIFF to /nsls2/data/staff/xyang4/data_cs/ca3ir4sn13/setup_6oct23_tiff_0910/setup_6oct23_006_018_data_000001.tiff\n",
      "Saved TIFF to /nsls2/data/staff/xyang4/data_cs/ca3ir4sn13/setup_6oct23_tiff_0910/setup_6oct23_016_005_data_000001.tiff\n",
      "Saved TIFF to /nsls2/data/staff/xyang4/data_cs/ca3ir4sn13/setup_6oct23_tiff_0910/setup_6oct23_016_010_data_000001.tiff\n",
      "Saved TIFF to /nsls2/data/staff/xyang4/data_cs/ca3ir4sn13/setup_6oct23_tiff_0910/setup_6oct23_021_057_data_000001.tiff\n",
      "Saved TIFF to /nsls2/data/staff/xyang4/data_cs/ca3ir4sn13/setup_6oct23_tiff_0910/setup_6oct23_021_042_data_000001.tiff\n",
      "Saved TIFF to /nsls2/data/staff/xyang4/data_cs/ca3ir4sn13/setup_6oct23_tiff_0910/setup_6oct23_015_004_data_000001.tiff\n",
      "Saved TIFF to /nsls2/data/staff/xyang4/data_cs/ca3ir4sn13/setup_6oct23_tiff_0910/setup_6oct23_023_009_data_000001.tiff\n",
      "Saved TIFF to /nsls2/data/staff/xyang4/data_cs/ca3ir4sn13/setup_6oct23_tiff_0910/setup_6oct23_010_007_data_000001.tiff\n",
      "Saved TIFF to /nsls2/data/staff/xyang4/data_cs/ca3ir4sn13/setup_6oct23_tiff_0910/setup_6oct23_010_012_data_000001.tiff\n",
      "Saved TIFF to /nsls2/data/staff/xyang4/data_cs/ca3ir4sn13/setup_6oct23_tiff_0910/setup_6oct23_020_008_data_000001.tiff\n",
      "Saved TIFF to /nsls2/data/staff/xyang4/data_cs/ca3ir4sn13/setup_6oct23_tiff_0910/setup_6oct23_013_006_data_000001.tiff\n",
      "Saved TIFF to /nsls2/data/staff/xyang4/data_cs/ca3ir4sn13/setup_6oct23_tiff_0910/setup_6oct23_013_013_data_000001.tiff\n",
      "Saved TIFF to /nsls2/data/staff/xyang4/data_cs/ca3ir4sn13/setup_6oct23_tiff_0910/setup_6oct23_018_004_data_000001.tiff\n",
      "Saved TIFF to /nsls2/data/staff/xyang4/data_cs/ca3ir4sn13/setup_6oct23_tiff_0910/setup_6oct23_026_010_data_000001.tiff\n",
      "Saved TIFF to /nsls2/data/staff/xyang4/data_cs/ca3ir4sn13/setup_6oct23_tiff_0910/setup_6oct23_018_011_data_000001.tiff\n",
      "Saved TIFF to /nsls2/data/staff/xyang4/data_cs/ca3ir4sn13/setup_6oct23_tiff_0910/setup_6oct23_021_058_data_000001.tiff\n",
      "Saved TIFF to /nsls2/data/staff/xyang4/data_cs/ca3ir4sn13/setup_6oct23_tiff_0910/setup_6oct23_025_004_data_000001.tiff\n",
      "Saved TIFF to /nsls2/data/staff/xyang4/data_cs/ca3ir4sn13/setup_6oct23_tiff_0910/setup_6oct23_026_005_data_000001.tiff\n",
      "Saved TIFF to /nsls2/data/staff/xyang4/data_cs/ca3ir4sn13/setup_6oct23_tiff_0910/setup_6oct23_023_006_data_000001.tiff\n",
      "Saved TIFF to /nsls2/data/staff/xyang4/data_cs/ca3ir4sn13/setup_6oct23_tiff_0910/setup_6oct23_010_008_data_000001.tiff\n",
      "Saved TIFF to /nsls2/data/staff/xyang4/data_cs/ca3ir4sn13/setup_6oct23_tiff_0910/setup_6oct23_020_007_data_000001.tiff\n",
      "Saved TIFF to /nsls2/data/staff/xyang4/data_cs/ca3ir4sn13/setup_6oct23_tiff_0910/setup_6oct23_020_012_data_000001.tiff\n",
      "Saved TIFF to /nsls2/data/staff/xyang4/data_cs/ca3ir4sn13/setup_6oct23_tiff_0910/setup_6oct23_017_040_data_000001.tiff\n",
      "Saved TIFF to /nsls2/data/staff/xyang4/data_cs/ca3ir4sn13/setup_6oct23_tiff_0910/setup_6oct23_013_009_data_000001.tiff\n",
      "Saved TIFF to /nsls2/data/staff/xyang4/data_cs/ca3ir4sn13/setup_6oct23_tiff_0910/setup_6oct23_021_029_data_000001.tiff\n",
      "Saved TIFF to /nsls2/data/staff/xyang4/data_cs/ca3ir4sn13/setup_6oct23_tiff_0910/setup_6oct23_006_017_data_000001.tiff\n",
      "Saved TIFF to /nsls2/data/staff/xyang4/data_cs/ca3ir4sn13/setup_6oct23_tiff_0910/setup_6oct23_006_002_data_000001.tiff\n",
      "Saved TIFF to /nsls2/data/staff/xyang4/data_cs/ca3ir4sn13/setup_6oct23_tiff_0910/setup_6oct23_005_003_data_000001.tiff\n",
      "Saved TIFF to /nsls2/data/staff/xyang4/data_cs/ca3ir4sn13/setup_6oct23_tiff_0910/setup_6oct23_003_001_data_000001.tiff\n",
      "Saved TIFF to /nsls2/data/staff/xyang4/data_cs/ca3ir4sn13/setup_6oct23_tiff_0910/setup_6oct23_017_031_data_000001.tiff\n",
      "Saved TIFF to /nsls2/data/staff/xyang4/data_cs/ca3ir4sn13/setup_6oct23_tiff_0910/setup_6oct23_017_024_data_000001.tiff\n",
      "Saved TIFF to /nsls2/data/staff/xyang4/data_cs/ca3ir4sn13/setup_6oct23_tiff_0910/setup_6oct23_008_003_data_000001.tiff\n",
      "Saved TIFF to /nsls2/data/staff/xyang4/data_cs/ca3ir4sn13/setup_6oct23_tiff_0910/setup_6oct23_003_009_data_000001.tiff\n",
      "Saved TIFF to /nsls2/data/staff/xyang4/data_cs/ca3ir4sn13/setup_6oct23_tiff_0910/setup_6oct23_017_039_data_000001.tiff\n",
      "Saved TIFF to /nsls2/data/staff/xyang4/data_cs/ca3ir4sn13/setup_6oct23_tiff_0910/setup_6oct23_022_020_data_000001.tiff\n",
      "Saved TIFF to /nsls2/data/staff/xyang4/data_cs/ca3ir4sn13/setup_6oct23_tiff_0910/setup_6oct23_021_021_data_000001.tiff\n",
      "Saved TIFF to /nsls2/data/staff/xyang4/data_cs/ca3ir4sn13/setup_6oct23_tiff_0910/setup_6oct23_021_034_data_000001.tiff\n",
      "Saved TIFF to /nsls2/data/staff/xyang4/data_cs/ca3ir4sn13/setup_6oct23_tiff_0910/setup_6oct23_018_016_data_000001.tiff\n",
      "Saved TIFF to /nsls2/data/staff/xyang4/data_cs/ca3ir4sn13/setup_6oct23_tiff_0910/setup_6oct23_018_003_data_000001.tiff\n",
      "Saved TIFF to /nsls2/data/staff/xyang4/data_cs/ca3ir4sn13/setup_6oct23_tiff_0910/setup_6oct23_013_014_data_000001.tiff\n",
      "Saved TIFF to /nsls2/data/staff/xyang4/data_cs/ca3ir4sn13/setup_6oct23_tiff_0910/setup_6oct23_013_001_data_000001.tiff\n",
      "Saved TIFF to /nsls2/data/staff/xyang4/data_cs/ca3ir4sn13/setup_6oct23_tiff_0910/setup_6oct23_017_048_data_000001.tiff\n",
      "Saved TIFF to /nsls2/data/staff/xyang4/data_cs/ca3ir4sn13/setup_6oct23_tiff_0910/setup_6oct23_010_015_data_000001.tiff\n",
      "Saved TIFF to /nsls2/data/staff/xyang4/data_cs/ca3ir4sn13/setup_6oct23_tiff_0910/setup_6oct23_010_000_data_000001.tiff\n",
      "Saved TIFF to /nsls2/data/staff/xyang4/data_cs/ca3ir4sn13/setup_6oct23_tiff_0910/setup_6oct23_026_018_data_000001.tiff\n",
      "Saved TIFF to /nsls2/data/staff/xyang4/data_cs/ca3ir4sn13/setup_6oct23_tiff_0910/setup_6oct23_015_003_data_000001.tiff\n",
      "Saved TIFF to /nsls2/data/staff/xyang4/data_cs/ca3ir4sn13/setup_6oct23_tiff_0910/setup_6oct23_021_045_data_000001.tiff\n",
      "Saved TIFF to /nsls2/data/staff/xyang4/data_cs/ca3ir4sn13/setup_6oct23_tiff_0910/setup_6oct23_021_050_data_000001.tiff\n",
      "Saved TIFF to /nsls2/data/staff/xyang4/data_cs/ca3ir4sn13/setup_6oct23_tiff_0910/setup_6oct23_016_017_data_000001.tiff\n",
      "Saved TIFF to /nsls2/data/staff/xyang4/data_cs/ca3ir4sn13/setup_6oct23_tiff_0910/setup_6oct23_016_002_data_000001.tiff\n",
      "Saved TIFF to /nsls2/data/staff/xyang4/data_cs/ca3ir4sn13/setup_6oct23_tiff_0910/setup_6oct23_021_035_data_000001.tiff\n",
      "Saved TIFF to /nsls2/data/staff/xyang4/data_cs/ca3ir4sn13/setup_6oct23_tiff_0910/setup_6oct23_021_020_data_000001.tiff\n",
      "Saved TIFF to /nsls2/data/staff/xyang4/data_cs/ca3ir4sn13/setup_6oct23_tiff_0910/setup_6oct23_017_038_data_000001.tiff\n",
      "Saved TIFF to /nsls2/data/staff/xyang4/data_cs/ca3ir4sn13/setup_6oct23_tiff_0910/setup_6oct23_003_008_data_000001.tiff\n",
      "Saved TIFF to /nsls2/data/staff/xyang4/data_cs/ca3ir4sn13/setup_6oct23_tiff_0910/setup_6oct23_016_003_data_000001.tiff\n",
      "Saved TIFF to /nsls2/data/staff/xyang4/data_cs/ca3ir4sn13/setup_6oct23_tiff_0910/setup_6oct23_016_016_data_000001.tiff\n",
      "Saved TIFF to /nsls2/data/staff/xyang4/data_cs/ca3ir4sn13/setup_6oct23_tiff_0910/setup_6oct23_021_051_data_000001.tiff\n",
      "Saved TIFF to /nsls2/data/staff/xyang4/data_cs/ca3ir4sn13/setup_6oct23_tiff_0910/setup_6oct23_021_044_data_000001.tiff\n",
      "Saved TIFF to /nsls2/data/staff/xyang4/data_cs/ca3ir4sn13/setup_6oct23_tiff_0910/setup_6oct23_015_002_data_000001.tiff\n",
      "Saved TIFF to /nsls2/data/staff/xyang4/data_cs/ca3ir4sn13/setup_6oct23_tiff_0910/setup_6oct23_026_019_data_000001.tiff\n",
      "Saved TIFF to /nsls2/data/staff/xyang4/data_cs/ca3ir4sn13/setup_6oct23_tiff_0910/setup_6oct23_010_001_data_000001.tiff\n",
      "Saved TIFF to /nsls2/data/staff/xyang4/data_cs/ca3ir4sn13/setup_6oct23_tiff_0910/setup_6oct23_010_014_data_000001.tiff\n",
      "Saved TIFF to /nsls2/data/staff/xyang4/data_cs/ca3ir4sn13/setup_6oct23_tiff_0910/setup_6oct23_017_049_data_000001.tiff\n",
      "Saved TIFF to /nsls2/data/staff/xyang4/data_cs/ca3ir4sn13/setup_6oct23_tiff_0910/setup_6oct23_018_002_data_000001.tiff\n",
      "Saved TIFF to /nsls2/data/staff/xyang4/data_cs/ca3ir4sn13/setup_6oct23_tiff_0910/setup_6oct23_018_017_data_000001.tiff\n",
      "Saved TIFF to /nsls2/data/staff/xyang4/data_cs/ca3ir4sn13/setup_6oct23_tiff_0910/setup_6oct23_013_000_data_000001.tiff\n",
      "Saved TIFF to /nsls2/data/staff/xyang4/data_cs/ca3ir4sn13/setup_6oct23_tiff_0910/setup_6oct23_013_015_data_000001.tiff\n",
      "Saved TIFF to /nsls2/data/staff/xyang4/data_cs/ca3ir4sn13/setup_6oct23_tiff_0910/setup_6oct23_013_008_data_000001.tiff\n",
      "Saved TIFF to /nsls2/data/staff/xyang4/data_cs/ca3ir4sn13/setup_6oct23_tiff_0910/setup_6oct23_017_041_data_000001.tiff\n",
      "Saved TIFF to /nsls2/data/staff/xyang4/data_cs/ca3ir4sn13/setup_6oct23_tiff_0910/setup_6oct23_020_013_data_000001.tiff\n",
      "Saved TIFF to /nsls2/data/staff/xyang4/data_cs/ca3ir4sn13/setup_6oct23_tiff_0910/setup_6oct23_020_006_data_000001.tiff\n",
      "Saved TIFF to /nsls2/data/staff/xyang4/data_cs/ca3ir4sn13/setup_6oct23_tiff_0910/setup_6oct23_010_009_data_000001.tiff\n",
      "Saved TIFF to /nsls2/data/staff/xyang4/data_cs/ca3ir4sn13/setup_6oct23_tiff_0910/setup_6oct23_023_007_data_000001.tiff\n",
      "Saved TIFF to /nsls2/data/staff/xyang4/data_cs/ca3ir4sn13/setup_6oct23_tiff_0910/setup_6oct23_026_011_data_000001.tiff\n",
      "Saved TIFF to /nsls2/data/staff/xyang4/data_cs/ca3ir4sn13/setup_6oct23_tiff_0910/setup_6oct23_026_004_data_000001.tiff\n",
      "Saved TIFF to /nsls2/data/staff/xyang4/data_cs/ca3ir4sn13/setup_6oct23_tiff_0910/setup_6oct23_021_059_data_000001.tiff\n",
      "Saved TIFF to /nsls2/data/staff/xyang4/data_cs/ca3ir4sn13/setup_6oct23_tiff_0910/setup_6oct23_017_025_data_000001.tiff\n",
      "Saved TIFF to /nsls2/data/staff/xyang4/data_cs/ca3ir4sn13/setup_6oct23_tiff_0910/setup_6oct23_017_030_data_000001.tiff\n",
      "Saved TIFF to /nsls2/data/staff/xyang4/data_cs/ca3ir4sn13/setup_6oct23_tiff_0910/setup_6oct23_003_000_data_000001.tiff\n",
      "Saved TIFF to /nsls2/data/staff/xyang4/data_cs/ca3ir4sn13/setup_6oct23_tiff_0910/setup_6oct23_008_002_data_000001.tiff\n",
      "Saved TIFF to /nsls2/data/staff/xyang4/data_cs/ca3ir4sn13/setup_6oct23_tiff_0910/setup_6oct23_005_002_data_000001.tiff\n",
      "Saved TIFF to /nsls2/data/staff/xyang4/data_cs/ca3ir4sn13/setup_6oct23_tiff_0910/setup_6oct23_026_060_data_000001.tiff\n",
      "Saved TIFF to /nsls2/data/staff/xyang4/data_cs/ca3ir4sn13/setup_6oct23_tiff_0910/setup_6oct23_006_003_data_000001.tiff\n",
      "Saved TIFF to /nsls2/data/staff/xyang4/data_cs/ca3ir4sn13/setup_6oct23_tiff_0910/setup_6oct23_006_016_data_000001.tiff\n",
      "Saved TIFF to /nsls2/data/staff/xyang4/data_cs/ca3ir4sn13/setup_6oct23_tiff_0910/setup_6oct23_021_028_data_000001.tiff\n",
      "Saved TIFF to /nsls2/data/staff/xyang4/data_cs/ca3ir4sn13/setup_6oct23_tiff_0910/setup_6oct23_006_019_data_000001.tiff\n",
      "Saved TIFF to /nsls2/data/staff/xyang4/data_cs/ca3ir4sn13/setup_6oct23_tiff_0910/setup_6oct23_021_027_data_000001.tiff\n",
      "Saved TIFF to /nsls2/data/staff/xyang4/data_cs/ca3ir4sn13/setup_6oct23_tiff_0910/setup_6oct23_021_032_data_000001.tiff\n",
      "Saved TIFF to /nsls2/data/staff/xyang4/data_cs/ca3ir4sn13/setup_6oct23_tiff_0910/setup_6oct23_013_012_data_000001.tiff\n",
      "Saved TIFF to /nsls2/data/staff/xyang4/data_cs/ca3ir4sn13/setup_6oct23_tiff_0910/setup_6oct23_013_007_data_000001.tiff\n",
      "Saved TIFF to /nsls2/data/staff/xyang4/data_cs/ca3ir4sn13/setup_6oct23_tiff_0910/setup_6oct23_018_010_data_000001.tiff\n",
      "Saved TIFF to /nsls2/data/staff/xyang4/data_cs/ca3ir4sn13/setup_6oct23_tiff_0910/setup_6oct23_018_005_data_000001.tiff\n",
      "Saved TIFF to /nsls2/data/staff/xyang4/data_cs/ca3ir4sn13/setup_6oct23_tiff_0910/setup_6oct23_020_009_data_000001.tiff\n",
      "Saved TIFF to /nsls2/data/staff/xyang4/data_cs/ca3ir4sn13/setup_6oct23_tiff_0910/setup_6oct23_010_006_data_000001.tiff\n",
      "Saved TIFF to /nsls2/data/staff/xyang4/data_cs/ca3ir4sn13/setup_6oct23_tiff_0910/setup_6oct23_010_013_data_000001.tiff\n",
      "Saved TIFF to /nsls2/data/staff/xyang4/data_cs/ca3ir4sn13/setup_6oct23_tiff_0910/setup_6oct23_023_008_data_000001.tiff\n",
      "Saved TIFF to /nsls2/data/staff/xyang4/data_cs/ca3ir4sn13/setup_6oct23_tiff_0910/setup_6oct23_015_005_data_000001.tiff\n",
      "Saved TIFF to /nsls2/data/staff/xyang4/data_cs/ca3ir4sn13/setup_6oct23_tiff_0910/setup_6oct23_021_043_data_000001.tiff\n",
      "Saved TIFF to /nsls2/data/staff/xyang4/data_cs/ca3ir4sn13/setup_6oct23_tiff_0910/setup_6oct23_021_056_data_000001.tiff\n",
      "Saved TIFF to /nsls2/data/staff/xyang4/data_cs/ca3ir4sn13/setup_6oct23_tiff_0910/setup_6oct23_016_011_data_000001.tiff\n",
      "Saved TIFF to /nsls2/data/staff/xyang4/data_cs/ca3ir4sn13/setup_6oct23_tiff_0910/setup_6oct23_016_004_data_000001.tiff\n",
      "Saved TIFF to /nsls2/data/staff/xyang4/data_cs/ca3ir4sn13/setup_6oct23_tiff_0910/setup_6oct23_016_019_data_000001.tiff\n",
      "Saved TIFF to /nsls2/data/staff/xyang4/data_cs/ca3ir4sn13/setup_6oct23_tiff_0910/setup_6oct23_025_002_data_000001.tiff\n",
      "Saved TIFF to /nsls2/data/staff/xyang4/data_cs/ca3ir4sn13/setup_6oct23_tiff_0910/setup_6oct23_026_003_data_000001.tiff\n",
      "Saved TIFF to /nsls2/data/staff/xyang4/data_cs/ca3ir4sn13/setup_6oct23_tiff_0910/setup_6oct23_026_016_data_000001.tiff\n",
      "Saved TIFF to /nsls2/data/staff/xyang4/data_cs/ca3ir4sn13/setup_6oct23_tiff_0910/setup_6oct23_023_000_data_000001.tiff\n",
      "Saved TIFF to /nsls2/data/staff/xyang4/data_cs/ca3ir4sn13/setup_6oct23_tiff_0910/setup_6oct23_020_001_data_000001.tiff\n",
      "Saved TIFF to /nsls2/data/staff/xyang4/data_cs/ca3ir4sn13/setup_6oct23_tiff_0910/setup_6oct23_020_014_data_000001.tiff\n",
      "Saved TIFF to /nsls2/data/staff/xyang4/data_cs/ca3ir4sn13/setup_6oct23_tiff_0910/setup_6oct23_017_046_data_000001.tiff\n",
      "Saved TIFF to /nsls2/data/staff/xyang4/data_cs/ca3ir4sn13/setup_6oct23_tiff_0910/setup_6oct23_018_018_data_000001.tiff\n",
      "Saved TIFF to /nsls2/data/staff/xyang4/data_cs/ca3ir4sn13/setup_6oct23_tiff_0910/setup_6oct23_006_011_data_000001.tiff\n",
      "Saved TIFF to /nsls2/data/staff/xyang4/data_cs/ca3ir4sn13/setup_6oct23_tiff_0910/setup_6oct23_006_004_data_000001.tiff\n",
      "Saved TIFF to /nsls2/data/staff/xyang4/data_cs/ca3ir4sn13/setup_6oct23_tiff_0910/setup_6oct23_011_020_data_000001.tiff\n",
      "Saved TIFF to /nsls2/data/staff/xyang4/data_cs/ca3ir4sn13/setup_6oct23_tiff_0910/setup_6oct23_005_010_data_000001.tiff\n",
      "Saved TIFF to /nsls2/data/staff/xyang4/data_cs/ca3ir4sn13/setup_6oct23_tiff_0910/setup_6oct23_005_005_data_000001.tiff\n",
      "Saved TIFF to /nsls2/data/staff/xyang4/data_cs/ca3ir4sn13/setup_6oct23_tiff_0910/setup_6oct23_008_010_data_000001.tiff\n",
      "Saved TIFF to /nsls2/data/staff/xyang4/data_cs/ca3ir4sn13/setup_6oct23_tiff_0910/setup_6oct23_017_022_data_000001.tiff\n",
      "Saved TIFF to /nsls2/data/staff/xyang4/data_cs/ca3ir4sn13/setup_6oct23_tiff_0910/setup_6oct23_008_005_data_000001.tiff\n",
      "Saved TIFF to /nsls2/data/staff/xyang4/data_cs/ca3ir4sn13/setup_6oct23_tiff_0910/setup_6oct23_003_012_data_000001.tiff\n",
      "Saved TIFF to /nsls2/data/staff/xyang4/data_cs/ca3ir4sn13/setup_6oct23_tiff_0910/setup_6oct23_003_007_data_000001.tiff\n",
      "Saved TIFF to /nsls2/data/staff/xyang4/data_cs/ca3ir4sn13/setup_6oct23_tiff_0910/setup_6oct23_017_037_data_000001.tiff\n",
      "Saved TIFF to /nsls2/data/staff/xyang4/data_cs/ca3ir4sn13/setup_6oct23_tiff_0910/setup_6oct23_016_013_data_000001.tiff\n",
      "Saved TIFF to /nsls2/data/staff/xyang4/data_cs/ca3ir4sn13/setup_6oct23_tiff_0910/setup_6oct23_016_006_data_000001.tiff\n",
      "Saved TIFF to /nsls2/data/staff/xyang4/data_cs/ca3ir4sn13/setup_6oct23_tiff_0910/setup_6oct23_021_041_data_000001.tiff\n",
      "Saved TIFF to /nsls2/data/staff/xyang4/data_cs/ca3ir4sn13/setup_6oct23_tiff_0910/setup_6oct23_021_054_data_000001.tiff\n",
      "Saved TIFF to /nsls2/data/staff/xyang4/data_cs/ca3ir4sn13/setup_6oct23_tiff_0910/setup_6oct23_026_009_data_000001.tiff\n",
      "Saved TIFF to /nsls2/data/staff/xyang4/data_cs/ca3ir4sn13/setup_6oct23_tiff_0910/setup_6oct23_015_007_data_000001.tiff\n",
      "Saved TIFF to /nsls2/data/staff/xyang4/data_cs/ca3ir4sn13/setup_6oct23_tiff_0910/setup_6oct23_010_011_data_000001.tiff\n",
      "Saved TIFF to /nsls2/data/staff/xyang4/data_cs/ca3ir4sn13/setup_6oct23_tiff_0910/setup_6oct23_010_004_data_000001.tiff\n",
      "Saved TIFF to /nsls2/data/staff/xyang4/data_cs/ca3ir4sn13/setup_6oct23_tiff_0910/setup_6oct23_018_012_data_000001.tiff\n",
      "Saved TIFF to /nsls2/data/staff/xyang4/data_cs/ca3ir4sn13/setup_6oct23_tiff_0910/setup_6oct23_018_007_data_000001.tiff\n",
      "Saved TIFF to /nsls2/data/staff/xyang4/data_cs/ca3ir4sn13/setup_6oct23_tiff_0910/setup_6oct23_013_010_data_000001.tiff\n",
      "Saved TIFF to /nsls2/data/staff/xyang4/data_cs/ca3ir4sn13/setup_6oct23_tiff_0910/setup_6oct23_013_005_data_000001.tiff\n",
      "Saved TIFF to /nsls2/data/staff/xyang4/data_cs/ca3ir4sn13/setup_6oct23_tiff_0910/setup_6oct23_021_025_data_000001.tiff\n",
      "Saved TIFF to /nsls2/data/staff/xyang4/data_cs/ca3ir4sn13/setup_6oct23_tiff_0910/setup_6oct23_021_030_data_000001.tiff\n",
      "Saved TIFF to /nsls2/data/staff/xyang4/data_cs/ca3ir4sn13/setup_6oct23_tiff_0910/setup_6oct23_017_028_data_000001.tiff\n",
      "Saved TIFF to /nsls2/data/staff/xyang4/data_cs/ca3ir4sn13/setup_6oct23_tiff_0910/setup_6oct23_017_035_data_000001.tiff\n",
      "Saved TIFF to /nsls2/data/staff/xyang4/data_cs/ca3ir4sn13/setup_6oct23_tiff_0910/setup_6oct23_017_020_data_000001.tiff\n",
      "Saved TIFF to /nsls2/data/staff/xyang4/data_cs/ca3ir4sn13/setup_6oct23_tiff_0910/setup_6oct23_003_010_data_000001.tiff\n",
      "Saved TIFF to /nsls2/data/staff/xyang4/data_cs/ca3ir4sn13/setup_6oct23_tiff_0910/setup_6oct23_003_005_data_000001.tiff\n",
      "Saved TIFF to /nsls2/data/staff/xyang4/data_cs/ca3ir4sn13/setup_6oct23_tiff_0910/setup_6oct23_008_012_data_000001.tiff\n",
      "Saved TIFF to /nsls2/data/staff/xyang4/data_cs/ca3ir4sn13/setup_6oct23_tiff_0910/setup_6oct23_008_007_data_000001.tiff\n",
      "Saved TIFF to /nsls2/data/staff/xyang4/data_cs/ca3ir4sn13/setup_6oct23_tiff_0910/setup_6oct23_005_012_data_000001.tiff\n",
      "Saved TIFF to /nsls2/data/staff/xyang4/data_cs/ca3ir4sn13/setup_6oct23_tiff_0910/setup_6oct23_005_007_data_000001.tiff\n",
      "Saved TIFF to /nsls2/data/staff/xyang4/data_cs/ca3ir4sn13/setup_6oct23_tiff_0910/setup_6oct23_021_038_data_000001.tiff\n",
      "Saved TIFF to /nsls2/data/staff/xyang4/data_cs/ca3ir4sn13/setup_6oct23_tiff_0910/setup_6oct23_006_013_data_000001.tiff\n",
      "Saved TIFF to /nsls2/data/staff/xyang4/data_cs/ca3ir4sn13/setup_6oct23_tiff_0910/setup_6oct23_006_006_data_000001.tiff\n",
      "Saved TIFF to /nsls2/data/staff/xyang4/data_cs/ca3ir4sn13/setup_6oct23_tiff_0910/setup_6oct23_017_044_data_000001.tiff\n",
      "Saved TIFF to /nsls2/data/staff/xyang4/data_cs/ca3ir4sn13/setup_6oct23_tiff_0910/setup_6oct23_020_003_data_000001.tiff\n",
      "Saved TIFF to /nsls2/data/staff/xyang4/data_cs/ca3ir4sn13/setup_6oct23_tiff_0910/setup_6oct23_020_016_data_000001.tiff\n",
      "Saved TIFF to /nsls2/data/staff/xyang4/data_cs/ca3ir4sn13/setup_6oct23_tiff_0910/setup_6oct23_013_018_data_000001.tiff\n",
      "Saved TIFF to /nsls2/data/staff/xyang4/data_cs/ca3ir4sn13/setup_6oct23_tiff_0910/setup_6oct23_023_002_data_000001.tiff\n",
      "Saved TIFF to /nsls2/data/staff/xyang4/data_cs/ca3ir4sn13/setup_6oct23_tiff_0910/setup_6oct23_010_019_data_000001.tiff\n",
      "Saved TIFF to /nsls2/data/staff/xyang4/data_cs/ca3ir4sn13/setup_6oct23_tiff_0910/setup_6oct23_026_014_data_000001.tiff\n",
      "Saved TIFF to /nsls2/data/staff/xyang4/data_cs/ca3ir4sn13/setup_6oct23_tiff_0910/setup_6oct23_026_001_data_000001.tiff\n",
      "Saved TIFF to /nsls2/data/staff/xyang4/data_cs/ca3ir4sn13/setup_6oct23_tiff_0910/setup_6oct23_021_049_data_000001.tiff\n",
      "Saved TIFF to /nsls2/data/staff/xyang4/data_cs/ca3ir4sn13/setup_6oct23_tiff_0910/setup_6oct23_025_000_data_000001.tiff\n",
      "Saved TIFF to /nsls2/data/staff/xyang4/data_cs/ca3ir4sn13/setup_6oct23_tiff_0910/setup_6oct23_020_019_data_000001.tiff\n",
      "Saved TIFF to /nsls2/data/staff/xyang4/data_cs/ca3ir4sn13/setup_6oct23_tiff_0910/setup_6oct23_013_002_data_000001.tiff\n",
      "Saved TIFF to /nsls2/data/staff/xyang4/data_cs/ca3ir4sn13/setup_6oct23_tiff_0910/setup_6oct23_013_017_data_000001.tiff\n",
      "Saved TIFF to /nsls2/data/staff/xyang4/data_cs/ca3ir4sn13/setup_6oct23_tiff_0910/setup_6oct23_018_000_data_000001.tiff\n",
      "Saved TIFF to /nsls2/data/staff/xyang4/data_cs/ca3ir4sn13/setup_6oct23_tiff_0910/setup_6oct23_018_015_data_000001.tiff\n",
      "Saved TIFF to /nsls2/data/staff/xyang4/data_cs/ca3ir4sn13/setup_6oct23_tiff_0910/setup_6oct23_010_003_data_000001.tiff\n",
      "Saved TIFF to /nsls2/data/staff/xyang4/data_cs/ca3ir4sn13/setup_6oct23_tiff_0910/setup_6oct23_010_016_data_000001.tiff\n",
      "Saved TIFF to /nsls2/data/staff/xyang4/data_cs/ca3ir4sn13/setup_6oct23_tiff_0910/setup_6oct23_015_000_data_000001.tiff\n",
      "Saved TIFF to /nsls2/data/staff/xyang4/data_cs/ca3ir4sn13/setup_6oct23_tiff_0910/setup_6oct23_021_053_data_000001.tiff\n",
      "Saved TIFF to /nsls2/data/staff/xyang4/data_cs/ca3ir4sn13/setup_6oct23_tiff_0910/setup_6oct23_021_046_data_000001.tiff\n",
      "Saved TIFF to /nsls2/data/staff/xyang4/data_cs/ca3ir4sn13/setup_6oct23_tiff_0910/setup_6oct23_016_001_data_000001.tiff\n",
      "Saved TIFF to /nsls2/data/staff/xyang4/data_cs/ca3ir4sn13/setup_6oct23_tiff_0910/setup_6oct23_016_014_data_000001.tiff\n",
      "Saved TIFF to /nsls2/data/staff/xyang4/data_cs/ca3ir4sn13/setup_6oct23_tiff_0910/setup_6oct23_008_008_data_000001.tiff\n",
      "Saved TIFF to /nsls2/data/staff/xyang4/data_cs/ca3ir4sn13/setup_6oct23_tiff_0910/setup_6oct23_005_008_data_000001.tiff\n",
      "Saved TIFF to /nsls2/data/staff/xyang4/data_cs/ca3ir4sn13/setup_6oct23_tiff_0910/setup_6oct23_021_037_data_000001.tiff\n",
      "Saved TIFF to /nsls2/data/staff/xyang4/data_cs/ca3ir4sn13/setup_6oct23_tiff_0910/setup_6oct23_021_022_data_000001.tiff\n",
      "Saved TIFF to /nsls2/data/staff/xyang4/data_cs/ca3ir4sn13/setup_6oct23_tiff_0910/setup_6oct23_006_009_data_000001.tiff\n",
      "Saved TIFF to /nsls2/data/staff/xyang4/data_cs/ca3ir4sn13/setup_6oct23_tiff_0910/setup_6oct23_006_001_data_000001.tiff\n",
      "Saved TIFF to /nsls2/data/staff/xyang4/data_cs/ca3ir4sn13/setup_6oct23_tiff_0910/setup_6oct23_006_014_data_000001.tiff\n",
      "Saved TIFF to /nsls2/data/staff/xyang4/data_cs/ca3ir4sn13/setup_6oct23_tiff_0910/setup_6oct23_005_000_data_000001.tiff\n",
      "Saved TIFF to /nsls2/data/staff/xyang4/data_cs/ca3ir4sn13/setup_6oct23_tiff_0910/setup_6oct23_008_000_data_000001.tiff\n",
      "Saved TIFF to /nsls2/data/staff/xyang4/data_cs/ca3ir4sn13/setup_6oct23_tiff_0910/setup_6oct23_003_002_data_000001.tiff\n",
      "Saved TIFF to /nsls2/data/staff/xyang4/data_cs/ca3ir4sn13/setup_6oct23_tiff_0910/setup_6oct23_017_027_data_000001.tiff\n",
      "Saved TIFF to /nsls2/data/staff/xyang4/data_cs/ca3ir4sn13/setup_6oct23_tiff_0910/setup_6oct23_017_032_data_000001.tiff\n",
      "Saved TIFF to /nsls2/data/staff/xyang4/data_cs/ca3ir4sn13/setup_6oct23_tiff_0910/setup_6oct23_016_009_data_000001.tiff\n",
      "Saved TIFF to /nsls2/data/staff/xyang4/data_cs/ca3ir4sn13/setup_6oct23_tiff_0910/setup_6oct23_026_013_data_000001.tiff\n",
      "Saved TIFF to /nsls2/data/staff/xyang4/data_cs/ca3ir4sn13/setup_6oct23_tiff_0910/setup_6oct23_026_006_data_000001.tiff\n",
      "Saved TIFF to /nsls2/data/staff/xyang4/data_cs/ca3ir4sn13/setup_6oct23_tiff_0910/setup_6oct23_015_008_data_000001.tiff\n",
      "Saved TIFF to /nsls2/data/staff/xyang4/data_cs/ca3ir4sn13/setup_6oct23_tiff_0910/setup_6oct23_023_010_data_000001.tiff\n",
      "Saved TIFF to /nsls2/data/staff/xyang4/data_cs/ca3ir4sn13/setup_6oct23_tiff_0910/setup_6oct23_023_005_data_000001.tiff\n",
      "Saved TIFF to /nsls2/data/staff/xyang4/data_cs/ca3ir4sn13/setup_6oct23_tiff_0910/setup_6oct23_018_008_data_000001.tiff\n",
      "Saved TIFF to /nsls2/data/staff/xyang4/data_cs/ca3ir4sn13/setup_6oct23_tiff_0910/setup_6oct23_020_011_data_000001.tiff\n",
      "Saved TIFF to /nsls2/data/staff/xyang4/data_cs/ca3ir4sn13/setup_6oct23_tiff_0910/setup_6oct23_020_004_data_000001.tiff\n",
      "Saved TIFF to /nsls2/data/staff/xyang4/data_cs/ca3ir4sn13/setup_6oct23_tiff_0910/setup_6oct23_017_043_data_000001.tiff\n",
      "Saved TIFF to /nsls2/data/staff/xyang4/data_cs/ca3ir4sn13/setup_6oct23_tiff_0910/setup_6oct23_008_014_data_000001.tiff\n",
      "Saved TIFF to /nsls2/data/staff/xyang4/data_cs/ca3ir4sn13/setup_6oct23_tiff_0910/setup_6oct23_008_001_data_000001.tiff\n",
      "Saved TIFF to /nsls2/data/staff/xyang4/data_cs/ca3ir4sn13/setup_6oct23_tiff_0910/setup_6oct23_017_033_data_000001.tiff\n",
      "Saved TIFF to /nsls2/data/staff/xyang4/data_cs/ca3ir4sn13/setup_6oct23_tiff_0910/setup_6oct23_017_026_data_000001.tiff\n",
      "Saved TIFF to /nsls2/data/staff/xyang4/data_cs/ca3ir4sn13/setup_6oct23_tiff_0910/setup_6oct23_003_003_data_000001.tiff\n",
      "Saved TIFF to /nsls2/data/staff/xyang4/data_cs/ca3ir4sn13/setup_6oct23_tiff_0910/setup_6oct23_005_014_data_000001.tiff\n",
      "Saved TIFF to /nsls2/data/staff/xyang4/data_cs/ca3ir4sn13/setup_6oct23_tiff_0910/setup_6oct23_005_001_data_000001.tiff\n",
      "Saved TIFF to /nsls2/data/staff/xyang4/data_cs/ca3ir4sn13/setup_6oct23_tiff_0910/setup_6oct23_006_015_data_000001.tiff\n",
      "Saved TIFF to /nsls2/data/staff/xyang4/data_cs/ca3ir4sn13/setup_6oct23_tiff_0910/setup_6oct23_006_000_data_000001.tiff\n",
      "Saved TIFF to /nsls2/data/staff/xyang4/data_cs/ca3ir4sn13/setup_6oct23_tiff_0910/setup_6oct23_017_042_data_000001.tiff\n",
      "Saved TIFF to /nsls2/data/staff/xyang4/data_cs/ca3ir4sn13/setup_6oct23_tiff_0910/setup_6oct23_020_005_data_000001.tiff\n",
      "Saved TIFF to /nsls2/data/staff/xyang4/data_cs/ca3ir4sn13/setup_6oct23_tiff_0910/setup_6oct23_020_010_data_000001.tiff\n",
      "Saved TIFF to /nsls2/data/staff/xyang4/data_cs/ca3ir4sn13/setup_6oct23_tiff_0910/setup_6oct23_018_009_data_000001.tiff\n",
      "Saved TIFF to /nsls2/data/staff/xyang4/data_cs/ca3ir4sn13/setup_6oct23_tiff_0910/setup_6oct23_023_004_data_000001.tiff\n",
      "Saved TIFF to /nsls2/data/staff/xyang4/data_cs/ca3ir4sn13/setup_6oct23_tiff_0910/setup_6oct23_015_009_data_000001.tiff\n",
      "Saved TIFF to /nsls2/data/staff/xyang4/data_cs/ca3ir4sn13/setup_6oct23_tiff_0910/setup_6oct23_026_007_data_000001.tiff\n",
      "Saved TIFF to /nsls2/data/staff/xyang4/data_cs/ca3ir4sn13/setup_6oct23_tiff_0910/setup_6oct23_026_012_data_000001.tiff\n",
      "Saved TIFF to /nsls2/data/staff/xyang4/data_cs/ca3ir4sn13/setup_6oct23_tiff_0910/setup_6oct23_016_008_data_000001.tiff\n",
      "Saved TIFF to /nsls2/data/staff/xyang4/data_cs/ca3ir4sn13/setup_6oct23_tiff_0910/setup_6oct23_016_015_data_000001.tiff\n",
      "Saved TIFF to /nsls2/data/staff/xyang4/data_cs/ca3ir4sn13/setup_6oct23_tiff_0910/setup_6oct23_016_000_data_000001.tiff\n",
      "Saved TIFF to /nsls2/data/staff/xyang4/data_cs/ca3ir4sn13/setup_6oct23_tiff_0910/setup_6oct23_021_047_data_000001.tiff\n",
      "Saved TIFF to /nsls2/data/staff/xyang4/data_cs/ca3ir4sn13/setup_6oct23_tiff_0910/setup_6oct23_021_052_data_000001.tiff\n",
      "Saved TIFF to /nsls2/data/staff/xyang4/data_cs/ca3ir4sn13/setup_6oct23_tiff_0910/setup_6oct23_015_001_data_000001.tiff\n",
      "Saved TIFF to /nsls2/data/staff/xyang4/data_cs/ca3ir4sn13/setup_6oct23_tiff_0910/setup_6oct23_010_017_data_000001.tiff\n",
      "Saved TIFF to /nsls2/data/staff/xyang4/data_cs/ca3ir4sn13/setup_6oct23_tiff_0910/setup_6oct23_010_002_data_000001.tiff\n",
      "Saved TIFF to /nsls2/data/staff/xyang4/data_cs/ca3ir4sn13/setup_6oct23_tiff_0910/setup_6oct23_013_016_data_000001.tiff\n",
      "Saved TIFF to /nsls2/data/staff/xyang4/data_cs/ca3ir4sn13/setup_6oct23_tiff_0910/setup_6oct23_013_003_data_000001.tiff\n",
      "Saved TIFF to /nsls2/data/staff/xyang4/data_cs/ca3ir4sn13/setup_6oct23_tiff_0910/setup_6oct23_018_014_data_000001.tiff\n",
      "Saved TIFF to /nsls2/data/staff/xyang4/data_cs/ca3ir4sn13/setup_6oct23_tiff_0910/setup_6oct23_018_001_data_000001.tiff\n",
      "Saved TIFF to /nsls2/data/staff/xyang4/data_cs/ca3ir4sn13/setup_6oct23_tiff_0910/setup_6oct23_020_018_data_000001.tiff\n",
      "Saved TIFF to /nsls2/data/staff/xyang4/data_cs/ca3ir4sn13/setup_6oct23_tiff_0910/setup_6oct23_006_008_data_000001.tiff\n",
      "Saved TIFF to /nsls2/data/staff/xyang4/data_cs/ca3ir4sn13/setup_6oct23_tiff_0910/setup_6oct23_021_023_data_000001.tiff\n",
      "Saved TIFF to /nsls2/data/staff/xyang4/data_cs/ca3ir4sn13/setup_6oct23_tiff_0910/setup_6oct23_021_036_data_000001.tiff\n",
      "Saved TIFF to /nsls2/data/staff/xyang4/data_cs/ca3ir4sn13/setup_6oct23_tiff_0910/setup_6oct23_005_009_data_000001.tiff\n",
      "Saved TIFF to /nsls2/data/staff/xyang4/data_cs/ca3ir4sn13/setup_6oct23_tiff_0910/setup_6oct23_008_009_data_000001.tiff\n",
      "Saved TIFF to /nsls2/data/staff/xyang4/data_cs/ca3ir4sn13/setup_6oct23_tiff_0910/setup_6oct23_006_007_data_000001.tiff\n",
      "Saved TIFF to /nsls2/data/staff/xyang4/data_cs/ca3ir4sn13/setup_6oct23_tiff_0910/setup_6oct23_006_012_data_000001.tiff\n",
      "Saved TIFF to /nsls2/data/staff/xyang4/data_cs/ca3ir4sn13/setup_6oct23_tiff_0910/setup_6oct23_019_020_data_000001.tiff\n",
      "Saved TIFF to /nsls2/data/staff/xyang4/data_cs/ca3ir4sn13/setup_6oct23_tiff_0910/setup_6oct23_021_039_data_000001.tiff\n",
      "Saved TIFF to /nsls2/data/staff/xyang4/data_cs/ca3ir4sn13/setup_6oct23_tiff_0910/setup_6oct23_005_006_data_000001.tiff\n",
      "Saved TIFF to /nsls2/data/staff/xyang4/data_cs/ca3ir4sn13/setup_6oct23_tiff_0910/setup_6oct23_005_013_data_000001.tiff\n",
      "Saved TIFF to /nsls2/data/staff/xyang4/data_cs/ca3ir4sn13/setup_6oct23_tiff_0910/setup_6oct23_003_004_data_000001.tiff\n",
      "Saved TIFF to /nsls2/data/staff/xyang4/data_cs/ca3ir4sn13/setup_6oct23_tiff_0910/setup_6oct23_003_011_data_000001.tiff\n",
      "Saved TIFF to /nsls2/data/staff/xyang4/data_cs/ca3ir4sn13/setup_6oct23_tiff_0910/setup_6oct23_017_021_data_000001.tiff\n",
      "Saved TIFF to /nsls2/data/staff/xyang4/data_cs/ca3ir4sn13/setup_6oct23_tiff_0910/setup_6oct23_017_034_data_000001.tiff\n",
      "Saved TIFF to /nsls2/data/staff/xyang4/data_cs/ca3ir4sn13/setup_6oct23_tiff_0910/setup_6oct23_008_006_data_000001.tiff\n",
      "Saved TIFF to /nsls2/data/staff/xyang4/data_cs/ca3ir4sn13/setup_6oct23_tiff_0910/setup_6oct23_008_013_data_000001.tiff\n",
      "Saved TIFF to /nsls2/data/staff/xyang4/data_cs/ca3ir4sn13/setup_6oct23_tiff_0910/setup_6oct23_025_001_data_000001.tiff\n",
      "Saved TIFF to /nsls2/data/staff/xyang4/data_cs/ca3ir4sn13/setup_6oct23_tiff_0910/setup_6oct23_021_048_data_000001.tiff\n",
      "Saved TIFF to /nsls2/data/staff/xyang4/data_cs/ca3ir4sn13/setup_6oct23_tiff_0910/setup_6oct23_026_015_data_000001.tiff\n",
      "Saved TIFF to /nsls2/data/staff/xyang4/data_cs/ca3ir4sn13/setup_6oct23_tiff_0910/setup_6oct23_026_000_data_000001.tiff\n",
      "Saved TIFF to /nsls2/data/staff/xyang4/data_cs/ca3ir4sn13/setup_6oct23_tiff_0910/setup_6oct23_010_018_data_000001.tiff\n",
      "Saved TIFF to /nsls2/data/staff/xyang4/data_cs/ca3ir4sn13/setup_6oct23_tiff_0910/setup_6oct23_023_003_data_000001.tiff\n",
      "Saved TIFF to /nsls2/data/staff/xyang4/data_cs/ca3ir4sn13/setup_6oct23_tiff_0910/setup_6oct23_013_019_data_000001.tiff\n",
      "Saved TIFF to /nsls2/data/staff/xyang4/data_cs/ca3ir4sn13/setup_6oct23_tiff_0910/setup_6oct23_020_017_data_000001.tiff\n",
      "Saved TIFF to /nsls2/data/staff/xyang4/data_cs/ca3ir4sn13/setup_6oct23_tiff_0910/setup_6oct23_020_002_data_000001.tiff\n",
      "Saved TIFF to /nsls2/data/staff/xyang4/data_cs/ca3ir4sn13/setup_6oct23_tiff_0910/setup_6oct23_017_045_data_000001.tiff\n",
      "Saved TIFF to /nsls2/data/staff/xyang4/data_cs/ca3ir4sn13/setup_6oct23_tiff_0910/setup_6oct23_017_050_data_000001.tiff\n",
      "Saved TIFF to /nsls2/data/staff/xyang4/data_cs/ca3ir4sn13/setup_6oct23_tiff_0910/setup_6oct23_018_006_data_000001.tiff\n",
      "Saved TIFF to /nsls2/data/staff/xyang4/data_cs/ca3ir4sn13/setup_6oct23_tiff_0910/setup_6oct23_018_013_data_000001.tiff\n",
      "Saved TIFF to /nsls2/data/staff/xyang4/data_cs/ca3ir4sn13/setup_6oct23_tiff_0910/setup_6oct23_013_004_data_000001.tiff\n",
      "Saved TIFF to /nsls2/data/staff/xyang4/data_cs/ca3ir4sn13/setup_6oct23_tiff_0910/setup_6oct23_013_011_data_000001.tiff\n",
      "Saved TIFF to /nsls2/data/staff/xyang4/data_cs/ca3ir4sn13/setup_6oct23_tiff_0910/setup_6oct23_010_005_data_000001.tiff\n",
      "Saved TIFF to /nsls2/data/staff/xyang4/data_cs/ca3ir4sn13/setup_6oct23_tiff_0910/setup_6oct23_010_010_data_000001.tiff\n",
      "Saved TIFF to /nsls2/data/staff/xyang4/data_cs/ca3ir4sn13/setup_6oct23_tiff_0910/setup_6oct23_015_006_data_000001.tiff\n",
      "Saved TIFF to /nsls2/data/staff/xyang4/data_cs/ca3ir4sn13/setup_6oct23_tiff_0910/setup_6oct23_026_008_data_000001.tiff\n",
      "Saved TIFF to /nsls2/data/staff/xyang4/data_cs/ca3ir4sn13/setup_6oct23_tiff_0910/setup_6oct23_021_055_data_000001.tiff\n",
      "Saved TIFF to /nsls2/data/staff/xyang4/data_cs/ca3ir4sn13/setup_6oct23_tiff_0910/setup_6oct23_021_040_data_000001.tiff\n",
      "Saved TIFF to /nsls2/data/staff/xyang4/data_cs/ca3ir4sn13/setup_6oct23_tiff_0910/setup_6oct23_016_007_data_000001.tiff\n",
      "Saved TIFF to /nsls2/data/staff/xyang4/data_cs/ca3ir4sn13/setup_6oct23_tiff_0910/setup_6oct23_016_012_data_000001.tiff\n",
      "Saved TIFF to /nsls2/data/staff/xyang4/data_cs/ca3ir4sn13/setup_6oct23_tiff_0910/setup_6oct23_017_029_data_000001.tiff\n",
      "Saved TIFF to /nsls2/data/staff/xyang4/data_cs/ca3ir4sn13/setup_6oct23_tiff_0910/setup_6oct23_021_031_data_000001.tiff\n",
      "Saved TIFF to /nsls2/data/staff/xyang4/data_cs/ca3ir4sn13/setup_6oct23_tiff_0910/setup_6oct23_021_024_data_000001.tiff\n",
      "Saved TIFF to /nsls2/data/staff/xyang4/data_cs/ca3ir4sn13/setup_6oct23_tiff_0910/setup_6oct23_014_014_data_000001.tiff\n",
      "Saved TIFF to /nsls2/data/staff/xyang4/data_cs/ca3ir4sn13/setup_6oct23_tiff_0910/setup_6oct23_014_001_data_000001.tiff\n",
      "Saved TIFF to /nsls2/data/staff/xyang4/data_cs/ca3ir4sn13/setup_6oct23_tiff_0910/setup_6oct23_020_047_data_000001.tiff\n",
      "Saved TIFF to /nsls2/data/staff/xyang4/data_cs/ca3ir4sn13/setup_6oct23_tiff_0910/setup_6oct23_017_015_data_000001.tiff\n",
      "Saved TIFF to /nsls2/data/staff/xyang4/data_cs/ca3ir4sn13/setup_6oct23_tiff_0910/setup_6oct23_017_000_data_000001.tiff\n",
      "Saved TIFF to /nsls2/data/staff/xyang4/data_cs/ca3ir4sn13/setup_6oct23_tiff_0910/setup_6oct23_021_018_data_000001.tiff\n",
      "Saved TIFF to /nsls2/data/staff/xyang4/data_cs/ca3ir4sn13/setup_6oct23_tiff_0910/setup_6oct23_019_014_data_000001.tiff\n",
      "Saved TIFF to /nsls2/data/staff/xyang4/data_cs/ca3ir4sn13/setup_6oct23_tiff_0910/setup_6oct23_012_003_data_000001.tiff\n",
      "Saved TIFF to /nsls2/data/staff/xyang4/data_cs/ca3ir4sn13/setup_6oct23_tiff_0910/setup_6oct23_019_001_data_000001.tiff\n",
      "Saved TIFF to /nsls2/data/staff/xyang4/data_cs/ca3ir4sn13/setup_6oct23_tiff_0910/setup_6oct23_022_019_data_000001.tiff\n",
      "Saved TIFF to /nsls2/data/staff/xyang4/data_cs/ca3ir4sn13/setup_6oct23_tiff_0910/setup_6oct23_011_017_data_000001.tiff\n",
      "Saved TIFF to /nsls2/data/staff/xyang4/data_cs/ca3ir4sn13/setup_6oct23_tiff_0910/setup_6oct23_011_002_data_000001.tiff\n",
      "Saved TIFF to /nsls2/data/staff/xyang4/data_cs/ca3ir4sn13/setup_6oct23_tiff_0910/setup_6oct23_026_045_data_000001.tiff\n",
      "Saved TIFF to /nsls2/data/staff/xyang4/data_cs/ca3ir4sn13/setup_6oct23_tiff_0910/setup_6oct23_026_050_data_000001.tiff\n",
      "Saved TIFF to /nsls2/data/staff/xyang4/data_cs/ca3ir4sn13/setup_6oct23_tiff_0910/setup_6oct23_004_009_data_000001.tiff\n",
      "Saved TIFF to /nsls2/data/staff/xyang4/data_cs/ca3ir4sn13/setup_6oct23_tiff_0910/setup_6oct23_020_023_data_000001.tiff\n",
      "Saved TIFF to /nsls2/data/staff/xyang4/data_cs/ca3ir4sn13/setup_6oct23_tiff_0910/setup_6oct23_020_036_data_000001.tiff\n",
      "Saved TIFF to /nsls2/data/staff/xyang4/data_cs/ca3ir4sn13/setup_6oct23_tiff_0910/setup_6oct23_007_008_data_000001.tiff\n",
      "Saved TIFF to /nsls2/data/staff/xyang4/data_cs/ca3ir4sn13/setup_6oct23_tiff_0910/setup_6oct23_009_009_data_000001.tiff\n",
      "Saved TIFF to /nsls2/data/staff/xyang4/data_cs/ca3ir4sn13/setup_6oct23_tiff_0910/setup_6oct23_021_069_data_000001.tiff\n",
      "Saved TIFF to /nsls2/data/staff/xyang4/data_cs/ca3ir4sn13/setup_6oct23_tiff_0910/setup_6oct23_026_021_data_000001.tiff\n",
      "Saved TIFF to /nsls2/data/staff/xyang4/data_cs/ca3ir4sn13/setup_6oct23_tiff_0910/setup_6oct23_026_034_data_000001.tiff\n",
      "Saved TIFF to /nsls2/data/staff/xyang4/data_cs/ca3ir4sn13/setup_6oct23_tiff_0910/setup_6oct23_026_029_data_000001.tiff\n",
      "Saved TIFF to /nsls2/data/staff/xyang4/data_cs/ca3ir4sn13/setup_6oct23_tiff_0910/setup_6oct23_001_002_data_000001.tiff\n",
      "Saved TIFF to /nsls2/data/staff/xyang4/data_cs/ca3ir4sn13/setup_6oct23_tiff_0910/setup_6oct23_009_014_data_000001.tiff\n",
      "Saved TIFF to /nsls2/data/staff/xyang4/data_cs/ca3ir4sn13/setup_6oct23_tiff_0910/setup_6oct23_009_001_data_000001.tiff\n",
      "Saved TIFF to /nsls2/data/staff/xyang4/data_cs/ca3ir4sn13/setup_6oct23_tiff_0910/setup_6oct23_021_061_data_000001.tiff\n",
      "Saved TIFF to /nsls2/data/staff/xyang4/data_cs/ca3ir4sn13/setup_6oct23_tiff_0910/setup_6oct23_021_074_data_000001.tiff\n",
      "Saved TIFF to /nsls2/data/staff/xyang4/data_cs/ca3ir4sn13/setup_6oct23_tiff_0910/setup_6oct23_002_003_data_000001.tiff\n",
      "Saved TIFF to /nsls2/data/staff/xyang4/data_cs/ca3ir4sn13/setup_6oct23_tiff_0910/setup_6oct23_018_032_data_000001.tiff\n",
      "Saved TIFF to /nsls2/data/staff/xyang4/data_cs/ca3ir4sn13/setup_6oct23_tiff_0910/setup_6oct23_018_027_data_000001.tiff\n",
      "Saved TIFF to /nsls2/data/staff/xyang4/data_cs/ca3ir4sn13/setup_6oct23_tiff_0910/setup_6oct23_007_000_data_000001.tiff\n",
      "Saved TIFF to /nsls2/data/staff/xyang4/data_cs/ca3ir4sn13/setup_6oct23_tiff_0910/setup_6oct23_004_014_data_000001.tiff\n",
      "Saved TIFF to /nsls2/data/staff/xyang4/data_cs/ca3ir4sn13/setup_6oct23_tiff_0910/setup_6oct23_004_001_data_000001.tiff\n",
      "Saved TIFF to /nsls2/data/staff/xyang4/data_cs/ca3ir4sn13/setup_6oct23_tiff_0910/setup_6oct23_026_058_data_000001.tiff\n",
      "Saved TIFF to /nsls2/data/staff/xyang4/data_cs/ca3ir4sn13/setup_6oct23_tiff_0910/setup_6oct23_022_004_data_000001.tiff\n",
      "Saved TIFF to /nsls2/data/staff/xyang4/data_cs/ca3ir4sn13/setup_6oct23_tiff_0910/setup_6oct23_022_011_data_000001.tiff\n",
      "Saved TIFF to /nsls2/data/staff/xyang4/data_cs/ca3ir4sn13/setup_6oct23_tiff_0910/setup_6oct23_019_009_data_000001.tiff\n",
      "Saved TIFF to /nsls2/data/staff/xyang4/data_cs/ca3ir4sn13/setup_6oct23_tiff_0910/setup_6oct23_021_005_data_000001.tiff\n",
      "Saved TIFF to /nsls2/data/staff/xyang4/data_cs/ca3ir4sn13/setup_6oct23_tiff_0910/setup_6oct23_021_010_data_000001.tiff\n",
      "Saved TIFF to /nsls2/data/staff/xyang4/data_cs/ca3ir4sn13/setup_6oct23_tiff_0910/setup_6oct23_024_006_data_000001.tiff\n",
      "Saved TIFF to /nsls2/data/staff/xyang4/data_cs/ca3ir4sn13/setup_6oct23_tiff_0910/setup_6oct23_018_043_data_000001.tiff\n",
      "Saved TIFF to /nsls2/data/staff/xyang4/data_cs/ca3ir4sn13/setup_6oct23_tiff_0910/setup_6oct23_017_008_data_000001.tiff\n",
      "Saved TIFF to /nsls2/data/staff/xyang4/data_cs/ca3ir4sn13/setup_6oct23_tiff_0910/setup_6oct23_014_009_data_000001.tiff\n",
      "Saved TIFF to /nsls2/data/staff/xyang4/data_cs/ca3ir4sn13/setup_6oct23_tiff_0910/setup_6oct23_026_057_data_000001.tiff\n",
      "Saved TIFF to /nsls2/data/staff/xyang4/data_cs/ca3ir4sn13/setup_6oct23_tiff_0910/setup_6oct23_026_042_data_000001.tiff\n",
      "Saved TIFF to /nsls2/data/staff/xyang4/data_cs/ca3ir4sn13/setup_6oct23_tiff_0910/setup_6oct23_011_005_data_000001.tiff\n",
      "Saved TIFF to /nsls2/data/staff/xyang4/data_cs/ca3ir4sn13/setup_6oct23_tiff_0910/setup_6oct23_011_010_data_000001.tiff\n",
      "Saved TIFF to /nsls2/data/staff/xyang4/data_cs/ca3ir4sn13/setup_6oct23_tiff_0910/setup_6oct23_019_006_data_000001.tiff\n",
      "Saved TIFF to /nsls2/data/staff/xyang4/data_cs/ca3ir4sn13/setup_6oct23_tiff_0910/setup_6oct23_019_013_data_000001.tiff\n",
      "Saved TIFF to /nsls2/data/staff/xyang4/data_cs/ca3ir4sn13/setup_6oct23_tiff_0910/setup_6oct23_012_004_data_000001.tiff\n",
      "Saved TIFF to /nsls2/data/staff/xyang4/data_cs/ca3ir4sn13/setup_6oct23_tiff_0910/setup_6oct23_012_011_data_000001.tiff\n",
      "Saved TIFF to /nsls2/data/staff/xyang4/data_cs/ca3ir4sn13/setup_6oct23_tiff_0910/setup_6oct23_006_021_data_000001.tiff\n",
      "Saved TIFF to /nsls2/data/staff/xyang4/data_cs/ca3ir4sn13/setup_6oct23_tiff_0910/setup_6oct23_024_009_data_000001.tiff\n",
      "Saved TIFF to /nsls2/data/staff/xyang4/data_cs/ca3ir4sn13/setup_6oct23_tiff_0910/setup_6oct23_017_007_data_000001.tiff\n",
      "Saved TIFF to /nsls2/data/staff/xyang4/data_cs/ca3ir4sn13/setup_6oct23_tiff_0910/setup_6oct23_017_012_data_000001.tiff\n",
      "Saved TIFF to /nsls2/data/staff/xyang4/data_cs/ca3ir4sn13/setup_6oct23_tiff_0910/setup_6oct23_020_040_data_000001.tiff\n",
      "Saved TIFF to /nsls2/data/staff/xyang4/data_cs/ca3ir4sn13/setup_6oct23_tiff_0910/setup_6oct23_014_006_data_000001.tiff\n",
      "Saved TIFF to /nsls2/data/staff/xyang4/data_cs/ca3ir4sn13/setup_6oct23_tiff_0910/setup_6oct23_014_013_data_000001.tiff\n",
      "Saved TIFF to /nsls2/data/staff/xyang4/data_cs/ca3ir4sn13/setup_6oct23_tiff_0910/setup_6oct23_026_033_data_000001.tiff\n",
      "Saved TIFF to /nsls2/data/staff/xyang4/data_cs/ca3ir4sn13/setup_6oct23_tiff_0910/setup_6oct23_026_026_data_000001.tiff\n",
      "Saved TIFF to /nsls2/data/staff/xyang4/data_cs/ca3ir4sn13/setup_6oct23_tiff_0910/setup_6oct23_018_028_data_000001.tiff\n",
      "Saved TIFF to /nsls2/data/staff/xyang4/data_cs/ca3ir4sn13/setup_6oct23_tiff_0910/setup_6oct23_020_031_data_000001.tiff\n",
      "Saved TIFF to /nsls2/data/staff/xyang4/data_cs/ca3ir4sn13/setup_6oct23_tiff_0910/setup_6oct23_020_024_data_000001.tiff\n",
      "Saved TIFF to /nsls2/data/staff/xyang4/data_cs/ca3ir4sn13/setup_6oct23_tiff_0910/setup_6oct23_004_006_data_000001.tiff\n",
      "Saved TIFF to /nsls2/data/staff/xyang4/data_cs/ca3ir4sn13/setup_6oct23_tiff_0910/setup_6oct23_004_013_data_000001.tiff\n",
      "Saved TIFF to /nsls2/data/staff/xyang4/data_cs/ca3ir4sn13/setup_6oct23_tiff_0910/setup_6oct23_020_039_data_000001.tiff\n",
      "Saved TIFF to /nsls2/data/staff/xyang4/data_cs/ca3ir4sn13/setup_6oct23_tiff_0910/setup_6oct23_007_007_data_000001.tiff\n",
      "Saved TIFF to /nsls2/data/staff/xyang4/data_cs/ca3ir4sn13/setup_6oct23_tiff_0910/setup_6oct23_018_020_data_000001.tiff\n",
      "Saved TIFF to /nsls2/data/staff/xyang4/data_cs/ca3ir4sn13/setup_6oct23_tiff_0910/setup_6oct23_018_035_data_000001.tiff\n",
      "Saved TIFF to /nsls2/data/staff/xyang4/data_cs/ca3ir4sn13/setup_6oct23_tiff_0910/setup_6oct23_002_004_data_000001.tiff\n",
      "Saved TIFF to /nsls2/data/staff/xyang4/data_cs/ca3ir4sn13/setup_6oct23_tiff_0910/setup_6oct23_021_073_data_000001.tiff\n",
      "Saved TIFF to /nsls2/data/staff/xyang4/data_cs/ca3ir4sn13/setup_6oct23_tiff_0910/setup_6oct23_021_066_data_000001.tiff\n",
      "Saved TIFF to /nsls2/data/staff/xyang4/data_cs/ca3ir4sn13/setup_6oct23_tiff_0910/setup_6oct23_002_011_data_000001.tiff\n",
      "Saved TIFF to /nsls2/data/staff/xyang4/data_cs/ca3ir4sn13/setup_6oct23_tiff_0910/setup_6oct23_009_006_data_000001.tiff\n",
      "Saved TIFF to /nsls2/data/staff/xyang4/data_cs/ca3ir4sn13/setup_6oct23_tiff_0910/setup_6oct23_009_013_data_000001.tiff\n",
      "Saved TIFF to /nsls2/data/staff/xyang4/data_cs/ca3ir4sn13/setup_6oct23_tiff_0910/setup_6oct23_001_005_data_000001.tiff\n",
      "Saved TIFF to /nsls2/data/staff/xyang4/data_cs/ca3ir4sn13/setup_6oct23_tiff_0910/setup_6oct23_020_048_data_000001.tiff\n",
      "Saved TIFF to /nsls2/data/staff/xyang4/data_cs/ca3ir4sn13/setup_6oct23_tiff_0910/setup_6oct23_018_044_data_000001.tiff\n",
      "Saved TIFF to /nsls2/data/staff/xyang4/data_cs/ca3ir4sn13/setup_6oct23_tiff_0910/setup_6oct23_024_001_data_000001.tiff\n",
      "Saved TIFF to /nsls2/data/staff/xyang4/data_cs/ca3ir4sn13/setup_6oct23_tiff_0910/setup_6oct23_021_017_data_000001.tiff\n",
      "Saved TIFF to /nsls2/data/staff/xyang4/data_cs/ca3ir4sn13/setup_6oct23_tiff_0910/setup_6oct23_021_002_data_000001.tiff\n",
      "Saved TIFF to /nsls2/data/staff/xyang4/data_cs/ca3ir4sn13/setup_6oct23_tiff_0910/setup_6oct23_022_016_data_000001.tiff\n",
      "Saved TIFF to /nsls2/data/staff/xyang4/data_cs/ca3ir4sn13/setup_6oct23_tiff_0910/setup_6oct23_022_003_data_000001.tiff\n",
      "Saved TIFF to /nsls2/data/staff/xyang4/data_cs/ca3ir4sn13/setup_6oct23_tiff_0910/setup_6oct23_011_018_data_000001.tiff\n",
      "Saved TIFF to /nsls2/data/staff/xyang4/data_cs/ca3ir4sn13/setup_6oct23_tiff_0910/setup_6oct23_001_004_data_000001.tiff\n",
      "Saved TIFF to /nsls2/data/staff/xyang4/data_cs/ca3ir4sn13/setup_6oct23_tiff_0910/setup_6oct23_021_067_data_000001.tiff\n",
      "Saved TIFF to /nsls2/data/staff/xyang4/data_cs/ca3ir4sn13/setup_6oct23_tiff_0910/setup_6oct23_002_010_data_000001.tiff\n",
      "Saved TIFF to /nsls2/data/staff/xyang4/data_cs/ca3ir4sn13/setup_6oct23_tiff_0910/setup_6oct23_002_005_data_000001.tiff\n",
      "Saved TIFF to /nsls2/data/staff/xyang4/data_cs/ca3ir4sn13/setup_6oct23_tiff_0910/setup_6oct23_021_072_data_000001.tiff\n",
      "Saved TIFF to /nsls2/data/staff/xyang4/data_cs/ca3ir4sn13/setup_6oct23_tiff_0910/setup_6oct23_009_012_data_000001.tiff\n",
      "Saved TIFF to /nsls2/data/staff/xyang4/data_cs/ca3ir4sn13/setup_6oct23_tiff_0910/setup_6oct23_009_007_data_000001.tiff\n",
      "Saved TIFF to /nsls2/data/staff/xyang4/data_cs/ca3ir4sn13/setup_6oct23_tiff_0910/setup_6oct23_007_006_data_000001.tiff\n",
      "Saved TIFF to /nsls2/data/staff/xyang4/data_cs/ca3ir4sn13/setup_6oct23_tiff_0910/setup_6oct23_018_034_data_000001.tiff\n",
      "Saved TIFF to /nsls2/data/staff/xyang4/data_cs/ca3ir4sn13/setup_6oct23_tiff_0910/setup_6oct23_018_021_data_000001.tiff\n",
      "Saved TIFF to /nsls2/data/staff/xyang4/data_cs/ca3ir4sn13/setup_6oct23_tiff_0910/setup_6oct23_020_038_data_000001.tiff\n",
      "Saved TIFF to /nsls2/data/staff/xyang4/data_cs/ca3ir4sn13/setup_6oct23_tiff_0910/setup_6oct23_004_012_data_000001.tiff\n",
      "Saved TIFF to /nsls2/data/staff/xyang4/data_cs/ca3ir4sn13/setup_6oct23_tiff_0910/setup_6oct23_004_007_data_000001.tiff\n",
      "Saved TIFF to /nsls2/data/staff/xyang4/data_cs/ca3ir4sn13/setup_6oct23_tiff_0910/setup_6oct23_011_019_data_000001.tiff\n",
      "Saved TIFF to /nsls2/data/staff/xyang4/data_cs/ca3ir4sn13/setup_6oct23_tiff_0910/setup_6oct23_022_002_data_000001.tiff\n",
      "Saved TIFF to /nsls2/data/staff/xyang4/data_cs/ca3ir4sn13/setup_6oct23_tiff_0910/setup_6oct23_022_017_data_000001.tiff\n",
      "Saved TIFF to /nsls2/data/staff/xyang4/data_cs/ca3ir4sn13/setup_6oct23_tiff_0910/setup_6oct23_021_003_data_000001.tiff\n",
      "Saved TIFF to /nsls2/data/staff/xyang4/data_cs/ca3ir4sn13/setup_6oct23_tiff_0910/setup_6oct23_021_016_data_000001.tiff\n",
      "Saved TIFF to /nsls2/data/staff/xyang4/data_cs/ca3ir4sn13/setup_6oct23_tiff_0910/setup_6oct23_018_050_data_000001.tiff\n",
      "Saved TIFF to /nsls2/data/staff/xyang4/data_cs/ca3ir4sn13/setup_6oct23_tiff_0910/setup_6oct23_018_045_data_000001.tiff\n",
      "Saved TIFF to /nsls2/data/staff/xyang4/data_cs/ca3ir4sn13/setup_6oct23_tiff_0910/setup_6oct23_024_000_data_000001.tiff\n",
      "Saved TIFF to /nsls2/data/staff/xyang4/data_cs/ca3ir4sn13/setup_6oct23_tiff_0910/setup_6oct23_020_049_data_000001.tiff\n",
      "Saved TIFF to /nsls2/data/staff/xyang4/data_cs/ca3ir4sn13/setup_6oct23_tiff_0910/setup_6oct23_014_012_data_000001.tiff\n",
      "Saved TIFF to /nsls2/data/staff/xyang4/data_cs/ca3ir4sn13/setup_6oct23_tiff_0910/setup_6oct23_014_007_data_000001.tiff\n",
      "Saved TIFF to /nsls2/data/staff/xyang4/data_cs/ca3ir4sn13/setup_6oct23_tiff_0910/setup_6oct23_020_041_data_000001.tiff\n",
      "Saved TIFF to /nsls2/data/staff/xyang4/data_cs/ca3ir4sn13/setup_6oct23_tiff_0910/setup_6oct23_017_013_data_000001.tiff\n",
      "Saved TIFF to /nsls2/data/staff/xyang4/data_cs/ca3ir4sn13/setup_6oct23_tiff_0910/setup_6oct23_017_006_data_000001.tiff\n",
      "Saved TIFF to /nsls2/data/staff/xyang4/data_cs/ca3ir4sn13/setup_6oct23_tiff_0910/setup_6oct23_024_008_data_000001.tiff\n",
      "Saved TIFF to /nsls2/data/staff/xyang4/data_cs/ca3ir4sn13/setup_6oct23_tiff_0910/setup_6oct23_019_012_data_000001.tiff\n",
      "Saved TIFF to /nsls2/data/staff/xyang4/data_cs/ca3ir4sn13/setup_6oct23_tiff_0910/setup_6oct23_019_007_data_000001.tiff\n",
      "Saved TIFF to /nsls2/data/staff/xyang4/data_cs/ca3ir4sn13/setup_6oct23_tiff_0910/setup_6oct23_006_020_data_000001.tiff\n",
      "Saved TIFF to /nsls2/data/staff/xyang4/data_cs/ca3ir4sn13/setup_6oct23_tiff_0910/setup_6oct23_012_010_data_000001.tiff\n",
      "Saved TIFF to /nsls2/data/staff/xyang4/data_cs/ca3ir4sn13/setup_6oct23_tiff_0910/setup_6oct23_012_005_data_000001.tiff\n",
      "Saved TIFF to /nsls2/data/staff/xyang4/data_cs/ca3ir4sn13/setup_6oct23_tiff_0910/setup_6oct23_011_011_data_000001.tiff\n",
      "Saved TIFF to /nsls2/data/staff/xyang4/data_cs/ca3ir4sn13/setup_6oct23_tiff_0910/setup_6oct23_011_004_data_000001.tiff\n",
      "Saved TIFF to /nsls2/data/staff/xyang4/data_cs/ca3ir4sn13/setup_6oct23_tiff_0910/setup_6oct23_026_043_data_000001.tiff\n",
      "Saved TIFF to /nsls2/data/staff/xyang4/data_cs/ca3ir4sn13/setup_6oct23_tiff_0910/setup_6oct23_026_056_data_000001.tiff\n",
      "Saved TIFF to /nsls2/data/staff/xyang4/data_cs/ca3ir4sn13/setup_6oct23_tiff_0910/setup_6oct23_020_025_data_000001.tiff\n",
      "Saved TIFF to /nsls2/data/staff/xyang4/data_cs/ca3ir4sn13/setup_6oct23_tiff_0910/setup_6oct23_020_030_data_000001.tiff\n",
      "Saved TIFF to /nsls2/data/staff/xyang4/data_cs/ca3ir4sn13/setup_6oct23_tiff_0910/setup_6oct23_018_029_data_000001.tiff\n",
      "Saved TIFF to /nsls2/data/staff/xyang4/data_cs/ca3ir4sn13/setup_6oct23_tiff_0910/setup_6oct23_026_027_data_000001.tiff\n",
      "Saved TIFF to /nsls2/data/staff/xyang4/data_cs/ca3ir4sn13/setup_6oct23_tiff_0910/setup_6oct23_026_032_data_000001.tiff\n",
      "Saved TIFF to /nsls2/data/staff/xyang4/data_cs/ca3ir4sn13/setup_6oct23_tiff_0910/setup_6oct23_004_000_data_000001.tiff\n",
      "Saved TIFF to /nsls2/data/staff/xyang4/data_cs/ca3ir4sn13/setup_6oct23_tiff_0910/setup_6oct23_018_026_data_000001.tiff\n",
      "Saved TIFF to /nsls2/data/staff/xyang4/data_cs/ca3ir4sn13/setup_6oct23_tiff_0910/setup_6oct23_018_033_data_000001.tiff\n",
      "Saved TIFF to /nsls2/data/staff/xyang4/data_cs/ca3ir4sn13/setup_6oct23_tiff_0910/setup_6oct23_007_001_data_000001.tiff\n",
      "Saved TIFF to /nsls2/data/staff/xyang4/data_cs/ca3ir4sn13/setup_6oct23_tiff_0910/setup_6oct23_009_000_data_000001.tiff\n",
      "Saved TIFF to /nsls2/data/staff/xyang4/data_cs/ca3ir4sn13/setup_6oct23_tiff_0910/setup_6oct23_021_075_data_000001.tiff\n",
      "Saved TIFF to /nsls2/data/staff/xyang4/data_cs/ca3ir4sn13/setup_6oct23_tiff_0910/setup_6oct23_002_002_data_000001.tiff\n",
      "Saved TIFF to /nsls2/data/staff/xyang4/data_cs/ca3ir4sn13/setup_6oct23_tiff_0910/setup_6oct23_021_060_data_000001.tiff\n",
      "Saved TIFF to /nsls2/data/staff/xyang4/data_cs/ca3ir4sn13/setup_6oct23_tiff_0910/setup_6oct23_001_003_data_000001.tiff\n",
      "Saved TIFF to /nsls2/data/staff/xyang4/data_cs/ca3ir4sn13/setup_6oct23_tiff_0910/setup_2023_07_28_090_001_data_000001.tiff\n",
      "Saved TIFF to /nsls2/data/staff/xyang4/data_cs/ca3ir4sn13/setup_6oct23_tiff_0910/setup_6oct23_026_028_data_000001.tiff\n",
      "Saved TIFF to /nsls2/data/staff/xyang4/data_cs/ca3ir4sn13/setup_6oct23_tiff_0910/setup_6oct23_014_008_data_000001.tiff\n",
      "Saved TIFF to /nsls2/data/staff/xyang4/data_cs/ca3ir4sn13/setup_6oct23_tiff_0910/setup_6oct23_017_009_data_000001.tiff\n",
      "Saved TIFF to /nsls2/data/staff/xyang4/data_cs/ca3ir4sn13/setup_6oct23_tiff_0910/setup_6oct23_024_012_data_000001.tiff\n",
      "Saved TIFF to /nsls2/data/staff/xyang4/data_cs/ca3ir4sn13/setup_6oct23_tiff_0910/setup_6oct23_024_007_data_000001.tiff\n",
      "Saved TIFF to /nsls2/data/staff/xyang4/data_cs/ca3ir4sn13/setup_6oct23_tiff_0910/setup_6oct23_018_042_data_000001.tiff\n",
      "Saved TIFF to /nsls2/data/staff/xyang4/data_cs/ca3ir4sn13/setup_6oct23_tiff_0910/setup_6oct23_021_011_data_000001.tiff\n",
      "Saved TIFF to /nsls2/data/staff/xyang4/data_cs/ca3ir4sn13/setup_6oct23_tiff_0910/setup_6oct23_021_004_data_000001.tiff\n",
      "Saved TIFF to /nsls2/data/staff/xyang4/data_cs/ca3ir4sn13/setup_6oct23_tiff_0910/setup_6oct23_019_008_data_000001.tiff\n",
      "Saved TIFF to /nsls2/data/staff/xyang4/data_cs/ca3ir4sn13/setup_6oct23_tiff_0910/setup_6oct23_022_010_data_000001.tiff\n",
      "Saved TIFF to /nsls2/data/staff/xyang4/data_cs/ca3ir4sn13/setup_6oct23_tiff_0910/setup_6oct23_022_005_data_000001.tiff\n",
      "Saved TIFF to /nsls2/data/staff/xyang4/data_cs/ca3ir4sn13/setup_6oct23_tiff_0910/setup_6oct23_026_059_data_000001.tiff\n",
      "Saved TIFF to /nsls2/data/staff/xyang4/data_cs/ca3ir4sn13/setup_6oct23_tiff_0910/setup_6oct23_026_051_data_000001.tiff\n",
      "Saved TIFF to /nsls2/data/staff/xyang4/data_cs/ca3ir4sn13/setup_6oct23_tiff_0910/setup_6oct23_026_044_data_000001.tiff\n",
      "Saved TIFF to /nsls2/data/staff/xyang4/data_cs/ca3ir4sn13/setup_6oct23_tiff_0910/setup_6oct23_011_003_data_000001.tiff\n",
      "Saved TIFF to /nsls2/data/staff/xyang4/data_cs/ca3ir4sn13/setup_6oct23_tiff_0910/setup_6oct23_011_016_data_000001.tiff\n",
      "Saved TIFF to /nsls2/data/staff/xyang4/data_cs/ca3ir4sn13/setup_6oct23_tiff_0910/setup_6oct23_022_018_data_000001.tiff\n",
      "Saved TIFF to /nsls2/data/staff/xyang4/data_cs/ca3ir4sn13/setup_6oct23_tiff_0910/setup_6oct23_012_002_data_000001.tiff\n",
      "Saved TIFF to /nsls2/data/staff/xyang4/data_cs/ca3ir4sn13/setup_6oct23_tiff_0910/setup_6oct23_019_000_data_000001.tiff\n",
      "Saved TIFF to /nsls2/data/staff/xyang4/data_cs/ca3ir4sn13/setup_6oct23_tiff_0910/setup_6oct23_019_015_data_000001.tiff\n",
      "Saved TIFF to /nsls2/data/staff/xyang4/data_cs/ca3ir4sn13/setup_6oct23_tiff_0910/setup_6oct23_021_019_data_000001.tiff\n",
      "Saved TIFF to /nsls2/data/staff/xyang4/data_cs/ca3ir4sn13/setup_6oct23_tiff_0910/setup_6oct23_017_001_data_000001.tiff\n",
      "Saved TIFF to /nsls2/data/staff/xyang4/data_cs/ca3ir4sn13/setup_6oct23_tiff_0910/setup_6oct23_017_014_data_000001.tiff\n",
      "Saved TIFF to /nsls2/data/staff/xyang4/data_cs/ca3ir4sn13/setup_6oct23_tiff_0910/setup_6oct23_020_046_data_000001.tiff\n",
      "Saved TIFF to /nsls2/data/staff/xyang4/data_cs/ca3ir4sn13/setup_6oct23_tiff_0910/setup_6oct23_014_000_data_000001.tiff\n",
      "Saved TIFF to /nsls2/data/staff/xyang4/data_cs/ca3ir4sn13/setup_6oct23_tiff_0910/setup_6oct23_026_035_data_000001.tiff\n",
      "Saved TIFF to /nsls2/data/staff/xyang4/data_cs/ca3ir4sn13/setup_6oct23_tiff_0910/setup_6oct23_026_020_data_000001.tiff\n",
      "Saved TIFF to /nsls2/data/staff/xyang4/data_cs/ca3ir4sn13/setup_6oct23_tiff_0910/setup_6oct23_009_008_data_000001.tiff\n",
      "Saved TIFF to /nsls2/data/staff/xyang4/data_cs/ca3ir4sn13/setup_6oct23_tiff_0910/setup_6oct23_021_068_data_000001.tiff\n",
      "Saved TIFF to /nsls2/data/staff/xyang4/data_cs/ca3ir4sn13/setup_6oct23_tiff_0910/setup_6oct23_007_009_data_000001.tiff\n",
      "Saved TIFF to /nsls2/data/staff/xyang4/data_cs/ca3ir4sn13/setup_6oct23_tiff_0910/setup_6oct23_020_037_data_000001.tiff\n",
      "Saved TIFF to /nsls2/data/staff/xyang4/data_cs/ca3ir4sn13/setup_6oct23_tiff_0910/setup_6oct23_020_022_data_000001.tiff\n",
      "Saved TIFF to /nsls2/data/staff/xyang4/data_cs/ca3ir4sn13/setup_6oct23_tiff_0910/setup_6oct23_004_008_data_000001.tiff\n",
      "Saved TIFF to /nsls2/data/staff/xyang4/data_cs/ca3ir4sn13/setup_6oct23_tiff_0910/setup_6oct23_022_012_data_000001.tiff\n",
      "Saved TIFF to /nsls2/data/staff/xyang4/data_cs/ca3ir4sn13/setup_6oct23_tiff_0910/setup_6oct23_022_007_data_000001.tiff\n",
      "Saved TIFF to /nsls2/data/staff/xyang4/data_cs/ca3ir4sn13/setup_6oct23_tiff_0910/setup_6oct23_011_009_data_000001.tiff\n",
      "Saved TIFF to /nsls2/data/staff/xyang4/data_cs/ca3ir4sn13/setup_6oct23_tiff_0910/setup_6oct23_021_013_data_000001.tiff\n",
      "Saved TIFF to /nsls2/data/staff/xyang4/data_cs/ca3ir4sn13/setup_6oct23_tiff_0910/setup_6oct23_021_006_data_000001.tiff\n",
      "Saved TIFF to /nsls2/data/staff/xyang4/data_cs/ca3ir4sn13/setup_6oct23_tiff_0910/setup_6oct23_012_008_data_000001.tiff\n",
      "Saved TIFF to /nsls2/data/staff/xyang4/data_cs/ca3ir4sn13/setup_6oct23_tiff_0910/setup_6oct23_018_040_data_000001.tiff\n",
      "Saved TIFF to /nsls2/data/staff/xyang4/data_cs/ca3ir4sn13/setup_6oct23_tiff_0910/setup_6oct23_024_010_data_000001.tiff\n",
      "Saved TIFF to /nsls2/data/staff/xyang4/data_cs/ca3ir4sn13/setup_6oct23_tiff_0910/setup_6oct23_024_005_data_000001.tiff\n",
      "Saved TIFF to /nsls2/data/staff/xyang4/data_cs/ca3ir4sn13/setup_6oct23_tiff_0910/setup_6oct23_001_001_data_000001.tiff\n",
      "Saved TIFF to /nsls2/data/staff/xyang4/data_cs/ca3ir4sn13/setup_6oct23_tiff_0910/setup_6oct23_021_077_data_000001.tiff\n",
      "Saved TIFF to /nsls2/data/staff/xyang4/data_cs/ca3ir4sn13/setup_6oct23_tiff_0910/setup_6oct23_002_000_data_000001.tiff\n",
      "Saved TIFF to /nsls2/data/staff/xyang4/data_cs/ca3ir4sn13/setup_6oct23_tiff_0910/setup_6oct23_021_062_data_000001.tiff\n",
      "Saved TIFF to /nsls2/data/staff/xyang4/data_cs/ca3ir4sn13/setup_6oct23_tiff_0910/setup_6oct23_009_002_data_000001.tiff\n",
      "Saved TIFF to /nsls2/data/staff/xyang4/data_cs/ca3ir4sn13/setup_6oct23_tiff_0910/setup_6oct23_020_028_data_000001.tiff\n",
      "Saved TIFF to /nsls2/data/staff/xyang4/data_cs/ca3ir4sn13/setup_6oct23_tiff_0910/setup_6oct23_007_003_data_000001.tiff\n",
      "Saved TIFF to /nsls2/data/staff/xyang4/data_cs/ca3ir4sn13/setup_6oct23_tiff_0910/setup_6oct23_018_024_data_000001.tiff\n",
      "Saved TIFF to /nsls2/data/staff/xyang4/data_cs/ca3ir4sn13/setup_6oct23_tiff_0910/setup_6oct23_018_031_data_000001.tiff\n",
      "Saved TIFF to /nsls2/data/staff/xyang4/data_cs/ca3ir4sn13/setup_6oct23_tiff_0910/setup_6oct23_004_002_data_000001.tiff\n",
      "Saved TIFF to /nsls2/data/staff/xyang4/data_cs/ca3ir4sn13/setup_6oct23_tiff_0910/setup_6oct23_018_039_data_000001.tiff\n",
      "Saved TIFF to /nsls2/data/staff/xyang4/data_cs/ca3ir4sn13/setup_6oct23_tiff_0910/setup_6oct23_020_035_data_000001.tiff\n",
      "Saved TIFF to /nsls2/data/staff/xyang4/data_cs/ca3ir4sn13/setup_6oct23_tiff_0910/setup_6oct23_020_020_data_000001.tiff\n",
      "Saved TIFF to /nsls2/data/staff/xyang4/data_cs/ca3ir4sn13/setup_6oct23_tiff_0910/setup_6oct23_002_008_data_000001.tiff\n",
      "Saved TIFF to /nsls2/data/staff/xyang4/data_cs/ca3ir4sn13/setup_6oct23_tiff_0910/setup_6oct23_026_037_data_000001.tiff\n",
      "Saved TIFF to /nsls2/data/staff/xyang4/data_cs/ca3ir4sn13/setup_6oct23_tiff_0910/setup_6oct23_026_022_data_000001.tiff\n",
      "Saved TIFF to /nsls2/data/staff/xyang4/data_cs/ca3ir4sn13/setup_6oct23_tiff_0910/setup_6oct23_014_002_data_000001.tiff\n",
      "Saved TIFF to /nsls2/data/staff/xyang4/data_cs/ca3ir4sn13/setup_6oct23_tiff_0910/setup_6oct23_018_048_data_000001.tiff\n",
      "Saved TIFF to /nsls2/data/staff/xyang4/data_cs/ca3ir4sn13/setup_6oct23_tiff_0910/setup_6oct23_021_080_data_000001.tiff\n",
      "Saved TIFF to /nsls2/data/staff/xyang4/data_cs/ca3ir4sn13/setup_6oct23_tiff_0910/setup_6oct23_020_044_data_000001.tiff\n",
      "Saved TIFF to /nsls2/data/staff/xyang4/data_cs/ca3ir4sn13/setup_6oct23_tiff_0910/setup_6oct23_017_003_data_000001.tiff\n",
      "Saved TIFF to /nsls2/data/staff/xyang4/data_cs/ca3ir4sn13/setup_6oct23_tiff_0910/setup_6oct23_017_016_data_000001.tiff\n",
      "Saved TIFF to /nsls2/data/staff/xyang4/data_cs/ca3ir4sn13/setup_6oct23_tiff_0910/setup_6oct23_019_002_data_000001.tiff\n",
      "Saved TIFF to /nsls2/data/staff/xyang4/data_cs/ca3ir4sn13/setup_6oct23_tiff_0910/setup_6oct23_019_017_data_000001.tiff\n",
      "Saved TIFF to /nsls2/data/staff/xyang4/data_cs/ca3ir4sn13/setup_6oct23_tiff_0910/setup_6oct23_012_000_data_000001.tiff\n",
      "Saved TIFF to /nsls2/data/staff/xyang4/data_cs/ca3ir4sn13/setup_6oct23_tiff_0910/setup_6oct23_011_001_data_000001.tiff\n",
      "Saved TIFF to /nsls2/data/staff/xyang4/data_cs/ca3ir4sn13/setup_6oct23_tiff_0910/setup_6oct23_011_014_data_000001.tiff\n",
      "Saved TIFF to /nsls2/data/staff/xyang4/data_cs/ca3ir4sn13/setup_6oct23_tiff_0910/setup_6oct23_026_053_data_000001.tiff\n",
      "Saved TIFF to /nsls2/data/staff/xyang4/data_cs/ca3ir4sn13/setup_6oct23_tiff_0910/setup_6oct23_026_046_data_000001.tiff\n",
      "Saved TIFF to /nsls2/data/staff/xyang4/data_cs/ca3ir4sn13/setup_6oct23_tiff_0910/setup_6oct23_024_002_data_000001.tiff\n",
      "Saved TIFF to /nsls2/data/staff/xyang4/data_cs/ca3ir4sn13/setup_6oct23_tiff_0910/setup_6oct23_018_047_data_000001.tiff\n",
      "Saved TIFF to /nsls2/data/staff/xyang4/data_cs/ca3ir4sn13/setup_6oct23_tiff_0910/setup_6oct23_017_019_data_000001.tiff\n",
      "Saved TIFF to /nsls2/data/staff/xyang4/data_cs/ca3ir4sn13/setup_6oct23_tiff_0910/setup_6oct23_019_018_data_000001.tiff\n",
      "Saved TIFF to /nsls2/data/staff/xyang4/data_cs/ca3ir4sn13/setup_6oct23_tiff_0910/setup_6oct23_021_001_data_000001.tiff\n",
      "Saved TIFF to /nsls2/data/staff/xyang4/data_cs/ca3ir4sn13/setup_6oct23_tiff_0910/setup_6oct23_021_014_data_000001.tiff\n",
      "Saved TIFF to /nsls2/data/staff/xyang4/data_cs/ca3ir4sn13/setup_6oct23_tiff_0910/setup_6oct23_026_049_data_000001.tiff\n",
      "Saved TIFF to /nsls2/data/staff/xyang4/data_cs/ca3ir4sn13/setup_6oct23_tiff_0910/setup_6oct23_022_000_data_000001.tiff\n",
      "Saved TIFF to /nsls2/data/staff/xyang4/data_cs/ca3ir4sn13/setup_6oct23_tiff_0910/setup_6oct23_022_015_data_000001.tiff\n",
      "Saved TIFF to /nsls2/data/staff/xyang4/data_cs/ca3ir4sn13/setup_6oct23_tiff_0910/setup_6oct23_004_010_data_000001.tiff\n",
      "Saved TIFF to /nsls2/data/staff/xyang4/data_cs/ca3ir4sn13/setup_6oct23_tiff_0910/setup_6oct23_004_005_data_000001.tiff\n",
      "Saved TIFF to /nsls2/data/staff/xyang4/data_cs/ca3ir4sn13/setup_6oct23_tiff_0910/setup_6oct23_010_020_data_000001.tiff\n",
      "Saved TIFF to /nsls2/data/staff/xyang4/data_cs/ca3ir4sn13/setup_6oct23_tiff_0910/setup_6oct23_018_036_data_000001.tiff\n",
      "Saved TIFF to /nsls2/data/staff/xyang4/data_cs/ca3ir4sn13/setup_6oct23_tiff_0910/setup_6oct23_018_023_data_000001.tiff\n",
      "Saved TIFF to /nsls2/data/staff/xyang4/data_cs/ca3ir4sn13/setup_6oct23_tiff_0910/setup_6oct23_007_004_data_000001.tiff\n",
      "Saved TIFF to /nsls2/data/staff/xyang4/data_cs/ca3ir4sn13/setup_6oct23_tiff_0910/setup_6oct23_009_010_data_000001.tiff\n",
      "Saved TIFF to /nsls2/data/staff/xyang4/data_cs/ca3ir4sn13/setup_6oct23_tiff_0910/setup_6oct23_009_005_data_000001.tiff\n",
      "Saved TIFF to /nsls2/data/staff/xyang4/data_cs/ca3ir4sn13/setup_6oct23_tiff_0910/setup_6oct23_021_065_data_000001.tiff\n",
      "Saved TIFF to /nsls2/data/staff/xyang4/data_cs/ca3ir4sn13/setup_6oct23_tiff_0910/setup_6oct23_002_012_data_000001.tiff\n",
      "Saved TIFF to /nsls2/data/staff/xyang4/data_cs/ca3ir4sn13/setup_6oct23_tiff_0910/setup_6oct23_002_007_data_000001.tiff\n",
      "Saved TIFF to /nsls2/data/staff/xyang4/data_cs/ca3ir4sn13/setup_6oct23_tiff_0910/setup_6oct23_021_070_data_000001.tiff\n",
      "Saved TIFF to /nsls2/data/staff/xyang4/data_cs/ca3ir4sn13/setup_6oct23_tiff_0910/setup_6oct23_026_038_data_000001.tiff\n",
      "Saved TIFF to /nsls2/data/staff/xyang4/data_cs/ca3ir4sn13/setup_6oct23_tiff_0910/setup_6oct23_001_006_data_000001.tiff\n",
      "Saved TIFF to /nsls2/data/staff/xyang4/data_cs/ca3ir4sn13/setup_6oct23_tiff_0910/setup_6oct23_026_025_data_000001.tiff\n",
      "Saved TIFF to /nsls2/data/staff/xyang4/data_cs/ca3ir4sn13/setup_6oct23_tiff_0910/setup_6oct23_026_030_data_000001.tiff\n",
      "Saved TIFF to /nsls2/data/staff/xyang4/data_cs/ca3ir4sn13/setup_6oct23_tiff_0910/setup_6oct23_021_078_data_000001.tiff\n",
      "Saved TIFF to /nsls2/data/staff/xyang4/data_cs/ca3ir4sn13/setup_6oct23_tiff_0910/setup_6oct23_020_027_data_000001.tiff\n",
      "Saved TIFF to /nsls2/data/staff/xyang4/data_cs/ca3ir4sn13/setup_6oct23_tiff_0910/setup_6oct23_020_032_data_000001.tiff\n",
      "Saved TIFF to /nsls2/data/staff/xyang4/data_cs/ca3ir4sn13/setup_6oct23_tiff_0910/setup_6oct23_011_013_data_000001.tiff\n",
      "Saved TIFF to /nsls2/data/staff/xyang4/data_cs/ca3ir4sn13/setup_6oct23_tiff_0910/setup_6oct23_022_008_data_000001.tiff\n",
      "Saved TIFF to /nsls2/data/staff/xyang4/data_cs/ca3ir4sn13/setup_6oct23_tiff_0910/setup_6oct23_026_041_data_000001.tiff\n",
      "Saved TIFF to /nsls2/data/staff/xyang4/data_cs/ca3ir4sn13/setup_6oct23_tiff_0910/setup_6oct23_026_054_data_000001.tiff\n",
      "Saved TIFF to /nsls2/data/staff/xyang4/data_cs/ca3ir4sn13/setup_6oct23_tiff_0910/setup_6oct23_011_006_data_000001.tiff\n",
      "Saved TIFF to /nsls2/data/staff/xyang4/data_cs/ca3ir4sn13/setup_6oct23_tiff_0910/setup_6oct23_021_009_data_000001.tiff\n",
      "Saved TIFF to /nsls2/data/staff/xyang4/data_cs/ca3ir4sn13/setup_6oct23_tiff_0910/setup_6oct23_012_007_data_000001.tiff\n",
      "Saved TIFF to /nsls2/data/staff/xyang4/data_cs/ca3ir4sn13/setup_6oct23_tiff_0910/setup_6oct23_019_010_data_000001.tiff\n",
      "Saved TIFF to /nsls2/data/staff/xyang4/data_cs/ca3ir4sn13/setup_6oct23_tiff_0910/setup_6oct23_019_005_data_000001.tiff\n",
      "Saved TIFF to /nsls2/data/staff/xyang4/data_cs/ca3ir4sn13/setup_6oct23_tiff_0910/setup_6oct23_017_011_data_000001.tiff\n",
      "Saved TIFF to /nsls2/data/staff/xyang4/data_cs/ca3ir4sn13/setup_6oct23_tiff_0910/setup_6oct23_017_004_data_000001.tiff\n",
      "Saved TIFF to /nsls2/data/staff/xyang4/data_cs/ca3ir4sn13/setup_6oct23_tiff_0910/setup_6oct23_020_043_data_000001.tiff\n",
      "Saved TIFF to /nsls2/data/staff/xyang4/data_cs/ca3ir4sn13/setup_6oct23_tiff_0910/setup_6oct23_014_010_data_000001.tiff\n",
      "Saved TIFF to /nsls2/data/staff/xyang4/data_cs/ca3ir4sn13/setup_6oct23_tiff_0910/setup_6oct23_014_005_data_000001.tiff\n",
      "Saved TIFF to /nsls2/data/staff/xyang4/data_cs/ca3ir4sn13/setup_6oct23_tiff_0910/setup_6oct23_020_033_data_000001.tiff\n",
      "Saved TIFF to /nsls2/data/staff/xyang4/data_cs/ca3ir4sn13/setup_6oct23_tiff_0910/setup_6oct23_020_026_data_000001.tiff\n",
      "Saved TIFF to /nsls2/data/staff/xyang4/data_cs/ca3ir4sn13/setup_6oct23_tiff_0910/setup_6oct23_021_079_data_000001.tiff\n",
      "Saved TIFF to /nsls2/data/staff/xyang4/data_cs/ca3ir4sn13/setup_6oct23_tiff_0910/setup_6oct23_026_031_data_000001.tiff\n",
      "Saved TIFF to /nsls2/data/staff/xyang4/data_cs/ca3ir4sn13/setup_6oct23_tiff_0910/setup_6oct23_026_024_data_000001.tiff\n",
      "Saved TIFF to /nsls2/data/staff/xyang4/data_cs/ca3ir4sn13/setup_6oct23_tiff_0910/setup_6oct23_014_004_data_000001.tiff\n",
      "Saved TIFF to /nsls2/data/staff/xyang4/data_cs/ca3ir4sn13/setup_6oct23_tiff_0910/setup_6oct23_014_011_data_000001.tiff\n",
      "Saved TIFF to /nsls2/data/staff/xyang4/data_cs/ca3ir4sn13/setup_6oct23_tiff_0910/setup_6oct23_017_005_data_000001.tiff\n",
      "Saved TIFF to /nsls2/data/staff/xyang4/data_cs/ca3ir4sn13/setup_6oct23_tiff_0910/setup_6oct23_020_042_data_000001.tiff\n",
      "Saved TIFF to /nsls2/data/staff/xyang4/data_cs/ca3ir4sn13/setup_6oct23_tiff_0910/setup_6oct23_017_010_data_000001.tiff\n",
      "Saved TIFF to /nsls2/data/staff/xyang4/data_cs/ca3ir4sn13/setup_6oct23_tiff_0910/setup_6oct23_012_006_data_000001.tiff\n",
      "Saved TIFF to /nsls2/data/staff/xyang4/data_cs/ca3ir4sn13/setup_6oct23_tiff_0910/setup_6oct23_019_004_data_000001.tiff\n",
      "Saved TIFF to /nsls2/data/staff/xyang4/data_cs/ca3ir4sn13/setup_6oct23_tiff_0910/setup_6oct23_019_011_data_000001.tiff\n",
      "Saved TIFF to /nsls2/data/staff/xyang4/data_cs/ca3ir4sn13/setup_6oct23_tiff_0910/setup_6oct23_021_008_data_000001.tiff\n",
      "Saved TIFF to /nsls2/data/staff/xyang4/data_cs/ca3ir4sn13/setup_6oct23_tiff_0910/setup_6oct23_011_007_data_000001.tiff\n",
      "Saved TIFF to /nsls2/data/staff/xyang4/data_cs/ca3ir4sn13/setup_6oct23_tiff_0910/setup_6oct23_011_012_data_000001.tiff\n",
      "Saved TIFF to /nsls2/data/staff/xyang4/data_cs/ca3ir4sn13/setup_6oct23_tiff_0910/setup_6oct23_026_055_data_000001.tiff\n",
      "Saved TIFF to /nsls2/data/staff/xyang4/data_cs/ca3ir4sn13/setup_6oct23_tiff_0910/setup_6oct23_026_040_data_000001.tiff\n",
      "Saved TIFF to /nsls2/data/staff/xyang4/data_cs/ca3ir4sn13/setup_6oct23_tiff_0910/setup_6oct23_022_009_data_000001.tiff\n",
      "Saved TIFF to /nsls2/data/staff/xyang4/data_cs/ca3ir4sn13/setup_6oct23_tiff_0910/setup_6oct23_022_014_data_000001.tiff\n",
      "Saved TIFF to /nsls2/data/staff/xyang4/data_cs/ca3ir4sn13/setup_6oct23_tiff_0910/setup_6oct23_022_001_data_000001.tiff\n",
      "Saved TIFF to /nsls2/data/staff/xyang4/data_cs/ca3ir4sn13/setup_6oct23_tiff_0910/setup_6oct23_026_048_data_000001.tiff\n",
      "Saved TIFF to /nsls2/data/staff/xyang4/data_cs/ca3ir4sn13/setup_6oct23_tiff_0910/setup_6oct23_021_015_data_000001.tiff\n",
      "Saved TIFF to /nsls2/data/staff/xyang4/data_cs/ca3ir4sn13/setup_6oct23_tiff_0910/setup_6oct23_021_000_data_000001.tiff\n",
      "Saved TIFF to /nsls2/data/staff/xyang4/data_cs/ca3ir4sn13/setup_6oct23_tiff_0910/setup_6oct23_019_019_data_000001.tiff\n",
      "Saved TIFF to /nsls2/data/staff/xyang4/data_cs/ca3ir4sn13/setup_6oct23_tiff_0910/setup_6oct23_017_018_data_000001.tiff\n",
      "Saved TIFF to /nsls2/data/staff/xyang4/data_cs/ca3ir4sn13/setup_6oct23_tiff_0910/setup_6oct23_024_003_data_000001.tiff\n",
      "Saved TIFF to /nsls2/data/staff/xyang4/data_cs/ca3ir4sn13/setup_6oct23_tiff_0910/setup_6oct23_018_046_data_000001.tiff\n",
      "Saved TIFF to /nsls2/data/staff/xyang4/data_cs/ca3ir4sn13/setup_6oct23_tiff_0910/setup_6oct23_001_007_data_000001.tiff\n",
      "Saved TIFF to /nsls2/data/staff/xyang4/data_cs/ca3ir4sn13/setup_6oct23_tiff_0910/setup_6oct23_026_039_data_000001.tiff\n",
      "Saved TIFF to /nsls2/data/staff/xyang4/data_cs/ca3ir4sn13/setup_6oct23_tiff_0910/setup_6oct23_009_004_data_000001.tiff\n",
      "Saved TIFF to /nsls2/data/staff/xyang4/data_cs/ca3ir4sn13/setup_6oct23_tiff_0910/setup_6oct23_009_011_data_000001.tiff\n",
      "Saved TIFF to /nsls2/data/staff/xyang4/data_cs/ca3ir4sn13/setup_6oct23_tiff_0910/setup_6oct23_002_006_data_000001.tiff\n",
      "Saved TIFF to /nsls2/data/staff/xyang4/data_cs/ca3ir4sn13/setup_6oct23_tiff_0910/setup_6oct23_021_071_data_000001.tiff\n",
      "Saved TIFF to /nsls2/data/staff/xyang4/data_cs/ca3ir4sn13/setup_6oct23_tiff_0910/setup_6oct23_021_064_data_000001.tiff\n",
      "Saved TIFF to /nsls2/data/staff/xyang4/data_cs/ca3ir4sn13/setup_6oct23_tiff_0910/setup_6oct23_018_022_data_000001.tiff\n",
      "Saved TIFF to /nsls2/data/staff/xyang4/data_cs/ca3ir4sn13/setup_6oct23_tiff_0910/setup_6oct23_018_037_data_000001.tiff\n",
      "Saved TIFF to /nsls2/data/staff/xyang4/data_cs/ca3ir4sn13/setup_6oct23_tiff_0910/setup_6oct23_007_005_data_000001.tiff\n",
      "Saved TIFF to /nsls2/data/staff/xyang4/data_cs/ca3ir4sn13/setup_6oct23_tiff_0910/setup_6oct23_007_010_data_000001.tiff\n",
      "Saved TIFF to /nsls2/data/staff/xyang4/data_cs/ca3ir4sn13/setup_6oct23_tiff_0910/setup_6oct23_013_020_data_000001.tiff\n",
      "Saved TIFF to /nsls2/data/staff/xyang4/data_cs/ca3ir4sn13/setup_6oct23_tiff_0910/setup_6oct23_010_021_data_000001.tiff\n",
      "Saved TIFF to /nsls2/data/staff/xyang4/data_cs/ca3ir4sn13/setup_6oct23_tiff_0910/setup_6oct23_004_004_data_000001.tiff\n",
      "Saved TIFF to /nsls2/data/staff/xyang4/data_cs/ca3ir4sn13/setup_6oct23_tiff_0910/setup_6oct23_004_011_data_000001.tiff\n",
      "Saved TIFF to /nsls2/data/staff/xyang4/data_cs/ca3ir4sn13/setup_6oct23_tiff_0910/setup_6oct23_001_008_data_000001.tiff\n",
      "Saved TIFF to /nsls2/data/staff/xyang4/data_cs/ca3ir4sn13/setup_6oct23_tiff_0910/setup_6oct23_026_023_data_000001.tiff\n",
      "Saved TIFF to /nsls2/data/staff/xyang4/data_cs/ca3ir4sn13/setup_6oct23_tiff_0910/setup_6oct23_026_036_data_000001.tiff\n",
      "Saved TIFF to /nsls2/data/staff/xyang4/data_cs/ca3ir4sn13/setup_6oct23_tiff_0910/setup_6oct23_002_009_data_000001.tiff\n",
      "Saved TIFF to /nsls2/data/staff/xyang4/data_cs/ca3ir4sn13/setup_6oct23_tiff_0910/setup_6oct23_020_021_data_000001.tiff\n",
      "Saved TIFF to /nsls2/data/staff/xyang4/data_cs/ca3ir4sn13/setup_6oct23_tiff_0910/setup_6oct23_020_034_data_000001.tiff\n",
      "Saved TIFF to /nsls2/data/staff/xyang4/data_cs/ca3ir4sn13/setup_6oct23_tiff_0910/setup_6oct23_018_038_data_000001.tiff\n",
      "Saved TIFF to /nsls2/data/staff/xyang4/data_cs/ca3ir4sn13/setup_6oct23_tiff_0910/setup_6oct23_011_000_data_000001.tiff\n",
      "Saved TIFF to /nsls2/data/staff/xyang4/data_cs/ca3ir4sn13/setup_6oct23_tiff_0910/setup_6oct23_026_047_data_000001.tiff\n",
      "Saved TIFF to /nsls2/data/staff/xyang4/data_cs/ca3ir4sn13/setup_6oct23_tiff_0910/setup_6oct23_026_052_data_000001.tiff\n",
      "Saved TIFF to /nsls2/data/staff/xyang4/data_cs/ca3ir4sn13/setup_6oct23_tiff_0910/setup_6oct23_011_015_data_000001.tiff\n",
      "Saved TIFF to /nsls2/data/staff/xyang4/data_cs/ca3ir4sn13/setup_6oct23_tiff_0910/setup_6oct23_019_016_data_000001.tiff\n",
      "Saved TIFF to /nsls2/data/staff/xyang4/data_cs/ca3ir4sn13/setup_6oct23_tiff_0910/setup_6oct23_019_003_data_000001.tiff\n",
      "Saved TIFF to /nsls2/data/staff/xyang4/data_cs/ca3ir4sn13/setup_6oct23_tiff_0910/setup_6oct23_012_001_data_000001.tiff\n",
      "Saved TIFF to /nsls2/data/staff/xyang4/data_cs/ca3ir4sn13/setup_6oct23_tiff_0910/setup_6oct23_021_081_data_000001.tiff\n",
      "Saved TIFF to /nsls2/data/staff/xyang4/data_cs/ca3ir4sn13/setup_6oct23_tiff_0910/setup_6oct23_017_017_data_000001.tiff\n",
      "Saved TIFF to /nsls2/data/staff/xyang4/data_cs/ca3ir4sn13/setup_6oct23_tiff_0910/setup_6oct23_017_002_data_000001.tiff\n",
      "Saved TIFF to /nsls2/data/staff/xyang4/data_cs/ca3ir4sn13/setup_6oct23_tiff_0910/setup_6oct23_020_045_data_000001.tiff\n",
      "Saved TIFF to /nsls2/data/staff/xyang4/data_cs/ca3ir4sn13/setup_6oct23_tiff_0910/setup_6oct23_020_050_data_000001.tiff\n",
      "Saved TIFF to /nsls2/data/staff/xyang4/data_cs/ca3ir4sn13/setup_6oct23_tiff_0910/setup_6oct23_018_049_data_000001.tiff\n",
      "Saved TIFF to /nsls2/data/staff/xyang4/data_cs/ca3ir4sn13/setup_6oct23_tiff_0910/setup_6oct23_014_003_data_000001.tiff\n",
      "Saved TIFF to /nsls2/data/staff/xyang4/data_cs/ca3ir4sn13/setup_6oct23_tiff_0910/setup_6oct23_018_041_data_000001.tiff\n",
      "Saved TIFF to /nsls2/data/staff/xyang4/data_cs/ca3ir4sn13/setup_6oct23_tiff_0910/setup_6oct23_024_004_data_000001.tiff\n",
      "Saved TIFF to /nsls2/data/staff/xyang4/data_cs/ca3ir4sn13/setup_6oct23_tiff_0910/setup_6oct23_024_011_data_000001.tiff\n",
      "Saved TIFF to /nsls2/data/staff/xyang4/data_cs/ca3ir4sn13/setup_6oct23_tiff_0910/setup_6oct23_012_009_data_000001.tiff\n",
      "Saved TIFF to /nsls2/data/staff/xyang4/data_cs/ca3ir4sn13/setup_6oct23_tiff_0910/setup_6oct23_021_007_data_000001.tiff\n",
      "Saved TIFF to /nsls2/data/staff/xyang4/data_cs/ca3ir4sn13/setup_6oct23_tiff_0910/setup_6oct23_021_012_data_000001.tiff\n",
      "Saved TIFF to /nsls2/data/staff/xyang4/data_cs/ca3ir4sn13/setup_6oct23_tiff_0910/setup_6oct23_011_008_data_000001.tiff\n",
      "Saved TIFF to /nsls2/data/staff/xyang4/data_cs/ca3ir4sn13/setup_6oct23_tiff_0910/setup_6oct23_022_006_data_000001.tiff\n",
      "Saved TIFF to /nsls2/data/staff/xyang4/data_cs/ca3ir4sn13/setup_6oct23_tiff_0910/setup_6oct23_022_013_data_000001.tiff\n",
      "Saved TIFF to /nsls2/data/staff/xyang4/data_cs/ca3ir4sn13/setup_6oct23_tiff_0910/setup_6oct23_004_003_data_000001.tiff\n",
      "Saved TIFF to /nsls2/data/staff/xyang4/data_cs/ca3ir4sn13/setup_6oct23_tiff_0910/setup_6oct23_007_002_data_000001.tiff\n",
      "Saved TIFF to /nsls2/data/staff/xyang4/data_cs/ca3ir4sn13/setup_6oct23_tiff_0910/setup_6oct23_018_030_data_000001.tiff\n",
      "Saved TIFF to /nsls2/data/staff/xyang4/data_cs/ca3ir4sn13/setup_6oct23_tiff_0910/setup_6oct23_018_025_data_000001.tiff\n",
      "Saved TIFF to /nsls2/data/staff/xyang4/data_cs/ca3ir4sn13/setup_6oct23_tiff_0910/setup_6oct23_020_029_data_000001.tiff\n",
      "Saved TIFF to /nsls2/data/staff/xyang4/data_cs/ca3ir4sn13/setup_6oct23_tiff_0910/setup_6oct23_021_063_data_000001.tiff\n",
      "Saved TIFF to /nsls2/data/staff/xyang4/data_cs/ca3ir4sn13/setup_6oct23_tiff_0910/setup_6oct23_021_076_data_000001.tiff\n",
      "Saved TIFF to /nsls2/data/staff/xyang4/data_cs/ca3ir4sn13/setup_6oct23_tiff_0910/setup_6oct23_002_001_data_000001.tiff\n",
      "Saved TIFF to /nsls2/data/staff/xyang4/data_cs/ca3ir4sn13/setup_6oct23_tiff_0910/setup_6oct23_009_003_data_000001.tiff\n",
      "Saved TIFF to /nsls2/data/staff/xyang4/data_cs/ca3ir4sn13/setup_6oct23_tiff_0910/setup_6oct23_001_000_data_000001.tiff\n",
      "Saved TIFF to /nsls2/data/staff/xyang4/data_cs/ca3ir4sn13/setup_6oct23_tiff_0910/setup_6oct23_000_961_data_000001.tiff\n"
     ]
    }
   ],
   "source": [
    "# Example usage/nsls2/data/staff/xyang4/data_cs/ca3ir4sn13/setup_6oct23/\n",
    "input_directory = \"/nsls2/data/staff/xyang4/data_cs/ca3ir4sn13/setup_6oct23/\"\n",
    "output_directory = \"/nsls2/data/staff/xyang4/data_cs/ca3ir4sn13/setup_6oct23_tiff_0910/\"\n",
    "\n",
    "# Make sure the output directory exists\n",
    "if not os.path.exists(output_directory):\n",
    "    os.makedirs(output_directory)\n",
    "\n",
    "# Read the HDF5 files and extract TIFF data\n",
    "tiff_data_dict = read_hdf5_tiff_data(input_directory)\n",
    "\n",
    "# Save each TIFF data array to the output directory with the same name\n",
    "for file_name, data in tiff_data_dict.items():\n",
    "    save_tiff_data(data, output_directory, file_name)"
   ]
  },
  {
   "cell_type": "code",
   "execution_count": 9,
   "metadata": {},
   "outputs": [
    {
     "data": {
      "image/png": "[encoded data removed]",
      "text/plain": [
       "<Figure size 432x288 with 1 Axes>"
      ]
     },
     "metadata": {
      "needs_background": "light"
     },
     "output_type": "display_data"
    }
   ],
   "source": [
    "import matplotlib.pyplot as plt\n",
    "data = tifffile.imread('/nsls2/data/staff/xyang4/data_cs/ca3ir4sn13/setup_6oct23_tiff_0910/setup_6oct23_002_001_data_000001.tiff')\n",
    "plt.imshow(data)\n",
    "plt.show()"
   ]
  },
  {
   "cell_type": "code",
   "execution_count": 6,
   "metadata": {},
   "outputs": [
    {
     "name": "stderr",
     "output_type": "stream",
     "text": [
      "/nsls2/users/xyang4/.local/lib/python3.9/site-packages/pandas/core/computation/expressions.py:21: UserWarning: Pandas requires version '2.8.4' or newer of 'numexpr' (version '2.8.1' currently installed).\n",
      "  from pandas.core.computation.check import NUMEXPR_INSTALLED\n"
     ]
    },
    {
     "data": {
      "text/html": [
       "\n",
       "        <iframe\n",
       "            width=\"100%\"\n",
       "            height=\"650\"\n",
       "            src=\"http://127.0.0.1:8050/\"\n",
       "            frameborder=\"0\"\n",
       "            allowfullscreen\n",
       "            \n",
       "        ></iframe>\n",
       "        "
      ],
      "text/plain": [
       "<IPython.lib.display.IFrame at 0x7f3ce116aa30>"
      ]
     },
     "metadata": {},
     "output_type": "display_data"
    }
   ],
   "source": [
    "import plotly.express as px\n",
    "from dash import Dash, dcc, html\n",
    "from dash.dependencies import Input, Output\n",
    "\n",
    "# Initialize the Dash app\n",
    "app = Dash(__name__)\n",
    "\n",
    "# Directory containing your TIFF files\n",
    "tiff_directory = output_directory\n",
    "\n",
    "# List of TIFF files in the directory\n",
    "tiff_files = [f for f in os.listdir(tiff_directory) if f.endswith(\".tiff\") or f.endswith(\".tif\")]\n",
    "\n",
    "# Dash Layout\n",
    "app.layout = html.Div([\n",
    "    dcc.Dropdown(\n",
    "        id='tiff-dropdown',\n",
    "        options=[{'label': f, 'value': f} for f in tiff_files],\n",
    "        value=tiff_files[0],  # Default selected TIFF file\n",
    "        clearable=False\n",
    "    ),\n",
    "    dcc.Graph(id='tiff-image')\n",
    "])\n",
    "\n",
    "# Callback to update the image based on the selected TIFF file\n",
    "@app.callback(\n",
    "    Output('tiff-image', 'figure'),\n",
    "    [Input('tiff-dropdown', 'value')]\n",
    ")\n",
    "def update_image(selected_file):\n",
    "    # Load the selected TIFF file\n",
    "    tiff_path = os.path.join(tiff_directory, selected_file)\n",
    "    tiff_data = tifffile.imread(tiff_path)\n",
    "\n",
    "    # Normalize the image for better visualization\n",
    "    tiff_data = tiff_data.astype(np.float32)\n",
    "    tiff_data /= np.max(tiff_data)\n",
    "\n",
    "    # Create a Plotly figure\n",
    "    fig = px.imshow(tiff_data, color_continuous_scale='gray')\n",
    "    fig.update_layout(coloraxis_showscale=False)\n",
    "    fig.update_xaxes(showticklabels=False)\n",
    "    fig.update_yaxes(showticklabels=False)\n",
    "\n",
    "    return fig\n",
    "\n",
    "# Run the app in Jupyter\n",
    "app.run_server(mode='inline', debug=True)\n"
   ]
  },
  {
   "cell_type": "code",
   "execution_count": 8,
   "metadata": {},
   "outputs": [
    {
     "name": "stdout",
     "output_type": "stream",
     "text": [
      "/nsls2/data/staff/xyang4/data_cs/ca3ir4sn13/setup_6oct23_tiff/\n",
      "['setup_6oct23_018_019_data_000001.tiff', 'setup_6oct23_017_047_data_000001.tiff', 'setup_6oct23_020_015_data_000001.tiff', 'setup_6oct23_020_000_data_000001.tiff', 'setup_6oct23_023_001_data_000001.tiff', 'setup_6oct23_026_017_data_000001.tiff', 'setup_6oct23_026_002_data_000001.tiff', 'setup_6oct23_025_003_data_000001.tiff', 'setup_6oct23_016_018_data_000001.tiff', 'setup_6oct23_008_004_data_000001.tiff', 'setup_6oct23_008_011_data_000001.tiff', 'setup_6oct23_017_023_data_000001.tiff', 'setup_6oct23_017_036_data_000001.tiff', 'setup_6oct23_003_006_data_000001.tiff', 'setup_6oct23_005_004_data_000001.tiff', 'setup_6oct23_005_011_data_000001.tiff', 'setup_6oct23_011_021_data_000001.tiff', 'setup_6oct23_006_005_data_000001.tiff', 'setup_6oct23_006_010_data_000001.tiff', 'setup_6oct23_021_033_data_000001.tiff', 'setup_6oct23_021_026_data_000001.tiff', 'setup_6oct23_006_018_data_000001.tiff', 'setup_6oct23_016_005_data_000001.tiff', 'setup_6oct23_015_004_data_000001.tiff', 'setup_6oct23_016_010_data_000001.tiff', 'setup_6oct23_021_057_data_000001.tiff', 'setup_6oct23_021_042_data_000001.tiff', 'setup_6oct23_023_009_data_000001.tiff', 'setup_6oct23_010_007_data_000001.tiff', 'setup_6oct23_010_012_data_000001.tiff', 'setup_6oct23_020_008_data_000001.tiff', 'setup_6oct23_013_006_data_000001.tiff', 'setup_6oct23_013_013_data_000001.tiff', 'setup_6oct23_018_004_data_000001.tiff', 'setup_6oct23_026_010_data_000001.tiff', 'setup_6oct23_018_011_data_000001.tiff', 'setup_6oct23_021_058_data_000001.tiff', 'setup_6oct23_025_004_data_000001.tiff', 'setup_6oct23_026_005_data_000001.tiff', 'setup_6oct23_023_006_data_000001.tiff', 'setup_6oct23_010_008_data_000001.tiff', 'setup_6oct23_020_007_data_000001.tiff', 'setup_6oct23_020_012_data_000001.tiff', 'setup_6oct23_017_040_data_000001.tiff', 'setup_6oct23_013_009_data_000001.tiff', 'setup_6oct23_021_029_data_000001.tiff', 'setup_6oct23_006_017_data_000001.tiff', 'setup_6oct23_006_002_data_000001.tiff', 'setup_6oct23_005_003_data_000001.tiff', 'setup_6oct23_003_001_data_000001.tiff', 'setup_6oct23_017_031_data_000001.tiff', 'setup_6oct23_017_024_data_000001.tiff', 'setup_6oct23_008_003_data_000001.tiff', 'setup_6oct23_003_009_data_000001.tiff', 'setup_6oct23_017_039_data_000001.tiff', 'setup_6oct23_022_020_data_000001.tiff', 'setup_6oct23_021_021_data_000001.tiff', 'setup_6oct23_021_034_data_000001.tiff', 'setup_6oct23_018_016_data_000001.tiff', 'setup_6oct23_018_003_data_000001.tiff', 'setup_6oct23_013_014_data_000001.tiff', 'setup_6oct23_013_001_data_000001.tiff', 'setup_6oct23_017_048_data_000001.tiff', 'setup_6oct23_010_015_data_000001.tiff', 'setup_6oct23_010_000_data_000001.tiff', 'setup_6oct23_026_018_data_000001.tiff', 'setup_6oct23_015_003_data_000001.tiff', 'setup_6oct23_021_045_data_000001.tiff', 'setup_6oct23_021_050_data_000001.tiff', 'setup_6oct23_016_017_data_000001.tiff', 'setup_6oct23_016_002_data_000001.tiff', 'setup_6oct23_021_035_data_000001.tiff', 'setup_6oct23_021_020_data_000001.tiff', 'setup_6oct23_017_038_data_000001.tiff', 'setup_6oct23_003_008_data_000001.tiff', 'setup_6oct23_016_003_data_000001.tiff', 'setup_6oct23_016_016_data_000001.tiff', 'setup_6oct23_021_051_data_000001.tiff', 'setup_6oct23_021_044_data_000001.tiff', 'setup_6oct23_015_002_data_000001.tiff', 'setup_6oct23_026_019_data_000001.tiff', 'setup_6oct23_010_001_data_000001.tiff', 'setup_6oct23_010_014_data_000001.tiff', 'setup_6oct23_017_049_data_000001.tiff', 'setup_6oct23_018_002_data_000001.tiff', 'setup_6oct23_018_017_data_000001.tiff', 'setup_6oct23_013_000_data_000001.tiff', 'setup_6oct23_013_015_data_000001.tiff', 'setup_6oct23_013_008_data_000001.tiff', 'setup_6oct23_017_041_data_000001.tiff', 'setup_6oct23_020_013_data_000001.tiff', 'setup_6oct23_020_006_data_000001.tiff', 'setup_6oct23_010_009_data_000001.tiff', 'setup_6oct23_023_007_data_000001.tiff', 'setup_6oct23_026_011_data_000001.tiff', 'setup_6oct23_026_004_data_000001.tiff', 'setup_6oct23_021_059_data_000001.tiff', 'setup_6oct23_017_025_data_000001.tiff', 'setup_6oct23_017_030_data_000001.tiff', 'setup_6oct23_003_000_data_000001.tiff', 'setup_6oct23_008_002_data_000001.tiff', 'setup_6oct23_005_002_data_000001.tiff', 'setup_6oct23_026_060_data_000001.tiff', 'setup_6oct23_006_003_data_000001.tiff', 'setup_6oct23_006_016_data_000001.tiff', 'setup_6oct23_021_028_data_000001.tiff', 'setup_6oct23_006_019_data_000001.tiff', 'setup_6oct23_021_027_data_000001.tiff', 'setup_6oct23_021_032_data_000001.tiff', 'setup_6oct23_013_012_data_000001.tiff', 'setup_6oct23_013_007_data_000001.tiff', 'setup_6oct23_018_010_data_000001.tiff', 'setup_6oct23_018_005_data_000001.tiff', 'setup_6oct23_020_009_data_000001.tiff', 'setup_6oct23_010_006_data_000001.tiff', 'setup_6oct23_010_013_data_000001.tiff', 'setup_6oct23_023_008_data_000001.tiff', 'setup_6oct23_015_005_data_000001.tiff', 'setup_6oct23_021_043_data_000001.tiff', 'setup_6oct23_021_056_data_000001.tiff', 'setup_6oct23_026_003_data_000001.tiff', 'setup_6oct23_016_011_data_000001.tiff', 'setup_6oct23_016_004_data_000001.tiff', 'setup_6oct23_016_019_data_000001.tiff', 'setup_6oct23_025_002_data_000001.tiff', 'setup_6oct23_026_016_data_000001.tiff', 'setup_6oct23_023_000_data_000001.tiff', 'setup_6oct23_020_001_data_000001.tiff', 'setup_6oct23_020_014_data_000001.tiff', 'setup_6oct23_017_046_data_000001.tiff', 'setup_6oct23_018_018_data_000001.tiff', 'setup_6oct23_006_011_data_000001.tiff', 'setup_6oct23_006_004_data_000001.tiff', 'setup_6oct23_011_020_data_000001.tiff', 'setup_6oct23_005_010_data_000001.tiff', 'setup_6oct23_005_005_data_000001.tiff', 'setup_6oct23_008_010_data_000001.tiff', 'setup_6oct23_017_022_data_000001.tiff', 'setup_6oct23_008_005_data_000001.tiff', 'setup_6oct23_003_012_data_000001.tiff', 'setup_6oct23_003_007_data_000001.tiff', 'setup_6oct23_017_037_data_000001.tiff', 'setup_6oct23_016_013_data_000001.tiff', 'setup_6oct23_016_006_data_000001.tiff', 'setup_6oct23_021_054_data_000001.tiff', 'setup_6oct23_021_041_data_000001.tiff', 'setup_6oct23_026_009_data_000001.tiff', 'setup_6oct23_015_007_data_000001.tiff', 'setup_6oct23_010_011_data_000001.tiff', 'setup_6oct23_010_004_data_000001.tiff', 'setup_6oct23_018_012_data_000001.tiff', 'setup_6oct23_018_007_data_000001.tiff', 'setup_6oct23_013_010_data_000001.tiff', 'setup_6oct23_013_005_data_000001.tiff', 'setup_6oct23_021_025_data_000001.tiff', 'setup_6oct23_021_030_data_000001.tiff', 'setup_6oct23_017_028_data_000001.tiff', 'setup_6oct23_017_035_data_000001.tiff', 'setup_6oct23_017_020_data_000001.tiff', 'setup_6oct23_003_010_data_000001.tiff', 'setup_6oct23_003_005_data_000001.tiff', 'setup_6oct23_008_012_data_000001.tiff', 'setup_6oct23_008_007_data_000001.tiff', 'setup_6oct23_005_012_data_000001.tiff', 'setup_6oct23_005_007_data_000001.tiff', 'setup_6oct23_021_038_data_000001.tiff', 'setup_6oct23_006_013_data_000001.tiff', 'setup_6oct23_006_006_data_000001.tiff', 'setup_6oct23_017_044_data_000001.tiff', 'setup_6oct23_020_003_data_000001.tiff', 'setup_6oct23_020_016_data_000001.tiff', 'setup_6oct23_013_018_data_000001.tiff', 'setup_6oct23_023_002_data_000001.tiff', 'setup_6oct23_010_019_data_000001.tiff', 'setup_6oct23_026_014_data_000001.tiff', 'setup_6oct23_026_001_data_000001.tiff', 'setup_6oct23_021_049_data_000001.tiff', 'setup_6oct23_025_000_data_000001.tiff', 'setup_6oct23_020_019_data_000001.tiff', 'setup_6oct23_013_002_data_000001.tiff', 'setup_6oct23_013_017_data_000001.tiff', 'setup_6oct23_018_000_data_000001.tiff', 'setup_6oct23_018_015_data_000001.tiff', 'setup_6oct23_010_003_data_000001.tiff', 'setup_6oct23_010_016_data_000001.tiff', 'setup_6oct23_015_000_data_000001.tiff', 'setup_6oct23_021_053_data_000001.tiff', 'setup_6oct23_021_046_data_000001.tiff', 'setup_6oct23_016_001_data_000001.tiff', 'setup_6oct23_016_014_data_000001.tiff', 'setup_6oct23_008_008_data_000001.tiff', 'setup_6oct23_005_008_data_000001.tiff', 'setup_6oct23_021_037_data_000001.tiff', 'setup_6oct23_021_022_data_000001.tiff', 'setup_6oct23_006_009_data_000001.tiff', 'setup_6oct23_006_001_data_000001.tiff', 'setup_6oct23_006_014_data_000001.tiff', 'setup_6oct23_005_000_data_000001.tiff', 'setup_6oct23_008_000_data_000001.tiff', 'setup_6oct23_003_002_data_000001.tiff', 'setup_6oct23_017_027_data_000001.tiff', 'setup_6oct23_017_032_data_000001.tiff', 'setup_6oct23_016_009_data_000001.tiff', 'setup_6oct23_026_013_data_000001.tiff', 'setup_6oct23_026_006_data_000001.tiff', 'setup_6oct23_015_008_data_000001.tiff', 'setup_6oct23_023_010_data_000001.tiff', 'setup_6oct23_023_005_data_000001.tiff', 'setup_6oct23_018_008_data_000001.tiff', 'setup_6oct23_020_011_data_000001.tiff', 'setup_6oct23_020_004_data_000001.tiff', 'setup_6oct23_017_043_data_000001.tiff', 'setup_6oct23_008_014_data_000001.tiff', 'setup_6oct23_008_001_data_000001.tiff', 'setup_6oct23_017_033_data_000001.tiff', 'setup_6oct23_017_026_data_000001.tiff', 'setup_6oct23_003_003_data_000001.tiff', 'setup_6oct23_020_005_data_000001.tiff', 'setup_6oct23_005_014_data_000001.tiff', 'setup_6oct23_005_001_data_000001.tiff', 'setup_6oct23_006_015_data_000001.tiff', 'setup_6oct23_006_000_data_000001.tiff', 'setup_6oct23_017_042_data_000001.tiff', 'setup_6oct23_020_010_data_000001.tiff', 'setup_6oct23_018_009_data_000001.tiff', 'setup_6oct23_023_004_data_000001.tiff', 'setup_6oct23_015_009_data_000001.tiff', 'setup_6oct23_026_007_data_000001.tiff', 'setup_6oct23_026_012_data_000001.tiff', 'setup_6oct23_016_008_data_000001.tiff', 'setup_6oct23_016_015_data_000001.tiff', 'setup_6oct23_016_000_data_000001.tiff', 'setup_6oct23_021_047_data_000001.tiff', 'setup_6oct23_021_052_data_000001.tiff', 'setup_6oct23_015_001_data_000001.tiff', 'setup_6oct23_010_017_data_000001.tiff', 'setup_6oct23_010_002_data_000001.tiff', 'setup_6oct23_013_016_data_000001.tiff', 'setup_6oct23_013_003_data_000001.tiff', 'setup_6oct23_018_014_data_000001.tiff', 'setup_6oct23_018_001_data_000001.tiff', 'setup_6oct23_021_023_data_000001.tiff', 'setup_6oct23_020_018_data_000001.tiff', 'setup_6oct23_006_008_data_000001.tiff', 'setup_6oct23_021_036_data_000001.tiff', 'setup_6oct23_005_009_data_000001.tiff', 'setup_6oct23_008_009_data_000001.tiff', 'setup_6oct23_006_007_data_000001.tiff', 'setup_6oct23_006_012_data_000001.tiff', 'setup_6oct23_019_020_data_000001.tiff', 'setup_6oct23_021_039_data_000001.tiff', 'setup_6oct23_005_006_data_000001.tiff', 'setup_6oct23_005_013_data_000001.tiff', 'setup_6oct23_003_004_data_000001.tiff', 'setup_6oct23_003_011_data_000001.tiff', 'setup_6oct23_017_021_data_000001.tiff', 'setup_6oct23_017_034_data_000001.tiff', 'setup_6oct23_008_006_data_000001.tiff', 'setup_6oct23_008_013_data_000001.tiff', 'setup_6oct23_025_001_data_000001.tiff', 'setup_6oct23_021_048_data_000001.tiff', 'setup_6oct23_026_015_data_000001.tiff', 'setup_6oct23_026_000_data_000001.tiff', 'setup_6oct23_010_018_data_000001.tiff', 'setup_6oct23_023_003_data_000001.tiff', 'setup_6oct23_013_019_data_000001.tiff', 'setup_6oct23_020_017_data_000001.tiff', 'setup_6oct23_020_002_data_000001.tiff', 'setup_6oct23_017_045_data_000001.tiff', 'setup_6oct23_017_050_data_000001.tiff', 'setup_6oct23_018_006_data_000001.tiff', 'setup_6oct23_018_013_data_000001.tiff', 'setup_6oct23_013_004_data_000001.tiff', 'setup_6oct23_013_011_data_000001.tiff', 'setup_6oct23_010_005_data_000001.tiff', 'setup_6oct23_010_010_data_000001.tiff', 'setup_6oct23_015_006_data_000001.tiff', 'setup_6oct23_026_008_data_000001.tiff', 'setup_6oct23_021_055_data_000001.tiff', 'setup_6oct23_021_040_data_000001.tiff', 'setup_6oct23_016_007_data_000001.tiff', 'setup_6oct23_016_012_data_000001.tiff', 'setup_6oct23_017_029_data_000001.tiff', 'setup_6oct23_021_031_data_000001.tiff', 'setup_6oct23_021_024_data_000001.tiff', 'setup_6oct23_014_014_data_000001.tiff', 'setup_6oct23_014_001_data_000001.tiff', 'setup_6oct23_020_047_data_000001.tiff', 'setup_6oct23_017_015_data_000001.tiff', 'setup_6oct23_017_000_data_000001.tiff', 'setup_6oct23_021_018_data_000001.tiff', 'setup_6oct23_019_014_data_000001.tiff', 'setup_6oct23_012_003_data_000001.tiff', 'setup_6oct23_019_001_data_000001.tiff', 'setup_6oct23_022_019_data_000001.tiff', 'setup_6oct23_011_017_data_000001.tiff', 'setup_6oct23_011_002_data_000001.tiff', 'setup_6oct23_026_045_data_000001.tiff', 'setup_6oct23_026_050_data_000001.tiff', 'setup_6oct23_004_009_data_000001.tiff', 'setup_6oct23_020_023_data_000001.tiff', 'setup_6oct23_020_036_data_000001.tiff', 'setup_6oct23_007_008_data_000001.tiff', 'setup_6oct23_009_009_data_000001.tiff', 'setup_6oct23_021_069_data_000001.tiff', 'setup_6oct23_026_021_data_000001.tiff', 'setup_6oct23_026_034_data_000001.tiff', 'setup_6oct23_026_029_data_000001.tiff', 'setup_6oct23_001_002_data_000001.tiff', 'setup_6oct23_009_014_data_000001.tiff', 'setup_6oct23_009_001_data_000001.tiff', 'setup_6oct23_021_061_data_000001.tiff', 'setup_6oct23_021_074_data_000001.tiff', 'setup_6oct23_002_003_data_000001.tiff', 'setup_6oct23_022_004_data_000001.tiff', 'setup_6oct23_018_032_data_000001.tiff', 'setup_6oct23_018_027_data_000001.tiff', 'setup_6oct23_007_000_data_000001.tiff', 'setup_6oct23_004_014_data_000001.tiff', 'setup_6oct23_004_001_data_000001.tiff', 'setup_6oct23_026_058_data_000001.tiff', 'setup_6oct23_022_011_data_000001.tiff', 'setup_6oct23_019_009_data_000001.tiff', 'setup_6oct23_021_005_data_000001.tiff', 'setup_6oct23_021_010_data_000001.tiff', 'setup_6oct23_024_006_data_000001.tiff', 'setup_6oct23_018_043_data_000001.tiff', 'setup_6oct23_017_008_data_000001.tiff', 'setup_6oct23_014_009_data_000001.tiff', 'setup_6oct23_026_057_data_000001.tiff', 'setup_6oct23_026_042_data_000001.tiff', 'setup_6oct23_011_005_data_000001.tiff', 'setup_6oct23_011_010_data_000001.tiff', 'setup_6oct23_019_006_data_000001.tiff', 'setup_6oct23_019_013_data_000001.tiff', 'setup_6oct23_012_004_data_000001.tiff', 'setup_6oct23_012_011_data_000001.tiff', 'setup_6oct23_006_021_data_000001.tiff', 'setup_6oct23_014_006_data_000001.tiff', 'setup_6oct23_024_009_data_000001.tiff', 'setup_6oct23_017_007_data_000001.tiff', 'setup_6oct23_017_012_data_000001.tiff', 'setup_6oct23_020_040_data_000001.tiff', 'setup_6oct23_014_013_data_000001.tiff', 'setup_6oct23_026_033_data_000001.tiff', 'setup_6oct23_026_026_data_000001.tiff', 'setup_6oct23_018_028_data_000001.tiff', 'setup_6oct23_020_031_data_000001.tiff', 'setup_6oct23_020_024_data_000001.tiff', 'setup_6oct23_004_006_data_000001.tiff', 'setup_6oct23_004_013_data_000001.tiff', 'setup_6oct23_020_039_data_000001.tiff', 'setup_6oct23_007_007_data_000001.tiff', 'setup_6oct23_018_020_data_000001.tiff', 'setup_6oct23_018_035_data_000001.tiff', 'setup_6oct23_002_004_data_000001.tiff', 'setup_6oct23_021_073_data_000001.tiff', 'setup_6oct23_021_066_data_000001.tiff', 'setup_6oct23_002_011_data_000001.tiff', 'setup_6oct23_009_006_data_000001.tiff', 'setup_6oct23_009_013_data_000001.tiff', 'setup_6oct23_001_005_data_000001.tiff', 'setup_6oct23_018_044_data_000001.tiff', 'setup_6oct23_020_048_data_000001.tiff', 'setup_6oct23_024_001_data_000001.tiff', 'setup_6oct23_021_017_data_000001.tiff', 'setup_6oct23_021_002_data_000001.tiff', 'setup_6oct23_022_016_data_000001.tiff', 'setup_6oct23_022_003_data_000001.tiff', 'setup_6oct23_011_018_data_000001.tiff', 'setup_6oct23_001_004_data_000001.tiff', 'setup_6oct23_021_067_data_000001.tiff', 'setup_6oct23_002_010_data_000001.tiff', 'setup_6oct23_002_005_data_000001.tiff', 'setup_6oct23_021_072_data_000001.tiff', 'setup_6oct23_009_012_data_000001.tiff', 'setup_6oct23_009_007_data_000001.tiff', 'setup_6oct23_007_006_data_000001.tiff', 'setup_6oct23_018_034_data_000001.tiff', 'setup_6oct23_018_021_data_000001.tiff', 'setup_6oct23_020_038_data_000001.tiff', 'setup_6oct23_004_012_data_000001.tiff', 'setup_6oct23_004_007_data_000001.tiff', 'setup_6oct23_011_019_data_000001.tiff', 'setup_6oct23_022_002_data_000001.tiff', 'setup_6oct23_022_017_data_000001.tiff', 'setup_6oct23_021_003_data_000001.tiff', 'setup_6oct23_021_016_data_000001.tiff', 'setup_6oct23_018_050_data_000001.tiff', 'setup_6oct23_018_045_data_000001.tiff', 'setup_6oct23_024_000_data_000001.tiff', 'setup_6oct23_020_049_data_000001.tiff', 'setup_6oct23_014_012_data_000001.tiff', 'setup_6oct23_014_007_data_000001.tiff', 'setup_6oct23_020_041_data_000001.tiff', 'setup_6oct23_017_013_data_000001.tiff', 'setup_6oct23_017_006_data_000001.tiff', 'setup_6oct23_024_008_data_000001.tiff', 'setup_6oct23_019_012_data_000001.tiff', 'setup_6oct23_019_007_data_000001.tiff', 'setup_6oct23_006_020_data_000001.tiff', 'setup_6oct23_012_010_data_000001.tiff', 'setup_6oct23_012_005_data_000001.tiff', 'setup_6oct23_011_011_data_000001.tiff', 'setup_6oct23_011_004_data_000001.tiff', 'setup_6oct23_026_043_data_000001.tiff', 'setup_6oct23_026_056_data_000001.tiff', 'setup_6oct23_020_025_data_000001.tiff', 'setup_6oct23_020_030_data_000001.tiff', 'setup_6oct23_018_029_data_000001.tiff', 'setup_6oct23_026_027_data_000001.tiff', 'setup_6oct23_026_032_data_000001.tiff', 'setup_6oct23_004_000_data_000001.tiff', 'setup_6oct23_018_026_data_000001.tiff', 'setup_6oct23_018_033_data_000001.tiff', 'setup_6oct23_007_001_data_000001.tiff', 'setup_6oct23_009_000_data_000001.tiff', 'setup_6oct23_021_075_data_000001.tiff', 'setup_6oct23_002_002_data_000001.tiff', 'setup_6oct23_021_060_data_000001.tiff', 'setup_6oct23_001_003_data_000001.tiff', 'setup_2023_07_28_090_001_data_000001.tiff', 'setup_6oct23_026_028_data_000001.tiff', 'setup_6oct23_014_008_data_000001.tiff', 'setup_6oct23_017_009_data_000001.tiff', 'setup_6oct23_024_012_data_000001.tiff', 'setup_6oct23_024_007_data_000001.tiff', 'setup_6oct23_018_042_data_000001.tiff', 'setup_6oct23_021_011_data_000001.tiff', 'setup_6oct23_021_004_data_000001.tiff', 'setup_6oct23_019_008_data_000001.tiff', 'setup_6oct23_022_010_data_000001.tiff', 'setup_6oct23_022_005_data_000001.tiff', 'setup_6oct23_026_059_data_000001.tiff', 'setup_6oct23_026_051_data_000001.tiff', 'setup_6oct23_026_044_data_000001.tiff', 'setup_6oct23_011_003_data_000001.tiff', 'setup_6oct23_011_016_data_000001.tiff', 'setup_6oct23_022_018_data_000001.tiff', 'setup_6oct23_012_002_data_000001.tiff', 'setup_6oct23_019_000_data_000001.tiff', 'setup_6oct23_019_015_data_000001.tiff', 'setup_6oct23_021_019_data_000001.tiff', 'setup_6oct23_017_001_data_000001.tiff', 'setup_6oct23_017_014_data_000001.tiff', 'setup_6oct23_020_046_data_000001.tiff', 'setup_6oct23_014_000_data_000001.tiff', 'setup_6oct23_026_035_data_000001.tiff', 'setup_6oct23_026_020_data_000001.tiff', 'setup_6oct23_009_008_data_000001.tiff', 'setup_6oct23_021_068_data_000001.tiff', 'setup_6oct23_007_009_data_000001.tiff', 'setup_6oct23_020_037_data_000001.tiff', 'setup_6oct23_020_022_data_000001.tiff', 'setup_6oct23_004_008_data_000001.tiff', 'setup_6oct23_022_012_data_000001.tiff', 'setup_6oct23_022_007_data_000001.tiff', 'setup_6oct23_011_009_data_000001.tiff', 'setup_6oct23_021_013_data_000001.tiff', 'setup_6oct23_021_006_data_000001.tiff', 'setup_6oct23_012_008_data_000001.tiff', 'setup_6oct23_018_040_data_000001.tiff', 'setup_6oct23_024_010_data_000001.tiff', 'setup_6oct23_024_005_data_000001.tiff', 'setup_6oct23_001_001_data_000001.tiff', 'setup_6oct23_021_077_data_000001.tiff', 'setup_6oct23_002_000_data_000001.tiff', 'setup_6oct23_021_062_data_000001.tiff', 'setup_6oct23_009_002_data_000001.tiff', 'setup_6oct23_020_028_data_000001.tiff', 'setup_6oct23_007_003_data_000001.tiff', 'setup_6oct23_018_024_data_000001.tiff', 'setup_6oct23_018_031_data_000001.tiff', 'setup_6oct23_004_002_data_000001.tiff', 'setup_6oct23_018_039_data_000001.tiff', 'setup_6oct23_020_035_data_000001.tiff', 'setup_6oct23_020_020_data_000001.tiff', 'setup_6oct23_002_008_data_000001.tiff', 'setup_6oct23_026_037_data_000001.tiff', 'setup_6oct23_026_022_data_000001.tiff', 'setup_6oct23_014_002_data_000001.tiff', 'setup_6oct23_018_048_data_000001.tiff', 'setup_6oct23_021_080_data_000001.tiff', 'setup_6oct23_011_001_data_000001.tiff', 'setup_6oct23_020_044_data_000001.tiff', 'setup_6oct23_017_003_data_000001.tiff', 'setup_6oct23_017_016_data_000001.tiff', 'setup_6oct23_019_002_data_000001.tiff', 'setup_6oct23_019_017_data_000001.tiff', 'setup_6oct23_012_000_data_000001.tiff', 'setup_6oct23_011_014_data_000001.tiff', 'setup_6oct23_026_053_data_000001.tiff', 'setup_6oct23_026_046_data_000001.tiff', 'setup_6oct23_024_002_data_000001.tiff', 'setup_6oct23_018_047_data_000001.tiff', 'setup_6oct23_017_019_data_000001.tiff', 'setup_6oct23_019_018_data_000001.tiff', 'setup_6oct23_021_001_data_000001.tiff', 'setup_6oct23_021_014_data_000001.tiff', 'setup_6oct23_026_049_data_000001.tiff', 'setup_6oct23_022_000_data_000001.tiff', 'setup_6oct23_022_015_data_000001.tiff', 'setup_6oct23_004_010_data_000001.tiff', 'setup_6oct23_004_005_data_000001.tiff', 'setup_6oct23_010_020_data_000001.tiff', 'setup_6oct23_018_036_data_000001.tiff', 'setup_6oct23_018_023_data_000001.tiff', 'setup_6oct23_021_065_data_000001.tiff', 'setup_6oct23_007_004_data_000001.tiff', 'setup_6oct23_009_010_data_000001.tiff', 'setup_6oct23_009_005_data_000001.tiff', 'setup_6oct23_002_012_data_000001.tiff', 'setup_6oct23_002_007_data_000001.tiff', 'setup_6oct23_021_070_data_000001.tiff', 'setup_6oct23_026_038_data_000001.tiff', 'setup_6oct23_001_006_data_000001.tiff', 'setup_6oct23_026_025_data_000001.tiff', 'setup_6oct23_026_030_data_000001.tiff', 'setup_6oct23_021_078_data_000001.tiff', 'setup_6oct23_020_027_data_000001.tiff', 'setup_6oct23_020_032_data_000001.tiff', 'setup_6oct23_011_013_data_000001.tiff', 'setup_6oct23_022_008_data_000001.tiff', 'setup_6oct23_026_041_data_000001.tiff', 'setup_6oct23_026_054_data_000001.tiff', 'setup_6oct23_011_006_data_000001.tiff', 'setup_6oct23_021_009_data_000001.tiff', 'setup_6oct23_012_007_data_000001.tiff', 'setup_6oct23_019_010_data_000001.tiff', 'setup_6oct23_019_005_data_000001.tiff', 'setup_6oct23_017_011_data_000001.tiff', 'setup_6oct23_017_004_data_000001.tiff', 'setup_6oct23_020_043_data_000001.tiff', 'setup_6oct23_014_010_data_000001.tiff', 'setup_6oct23_014_005_data_000001.tiff', 'setup_6oct23_020_033_data_000001.tiff', 'setup_6oct23_020_026_data_000001.tiff', 'setup_6oct23_021_079_data_000001.tiff', 'setup_6oct23_026_031_data_000001.tiff', 'setup_6oct23_026_024_data_000001.tiff', 'setup_6oct23_014_004_data_000001.tiff', 'setup_6oct23_014_011_data_000001.tiff', 'setup_6oct23_017_005_data_000001.tiff', 'setup_6oct23_020_042_data_000001.tiff', 'setup_6oct23_017_010_data_000001.tiff', 'setup_6oct23_012_006_data_000001.tiff', 'setup_6oct23_019_004_data_000001.tiff', 'setup_6oct23_019_011_data_000001.tiff', 'setup_6oct23_021_008_data_000001.tiff', 'setup_6oct23_011_007_data_000001.tiff', 'setup_6oct23_011_012_data_000001.tiff', 'setup_6oct23_026_055_data_000001.tiff', 'setup_6oct23_026_040_data_000001.tiff', 'setup_6oct23_022_009_data_000001.tiff', 'setup_6oct23_022_014_data_000001.tiff', 'setup_6oct23_022_001_data_000001.tiff', 'setup_6oct23_026_048_data_000001.tiff', 'setup_6oct23_021_015_data_000001.tiff', 'setup_6oct23_021_000_data_000001.tiff', 'setup_6oct23_019_019_data_000001.tiff', 'setup_6oct23_017_018_data_000001.tiff', 'setup_6oct23_024_003_data_000001.tiff', 'setup_6oct23_018_046_data_000001.tiff', 'setup_6oct23_001_007_data_000001.tiff', 'setup_6oct23_026_039_data_000001.tiff', 'setup_6oct23_009_004_data_000001.tiff', 'setup_6oct23_009_011_data_000001.tiff', 'setup_6oct23_002_006_data_000001.tiff', 'setup_6oct23_021_071_data_000001.tiff', 'setup_6oct23_021_064_data_000001.tiff', 'setup_6oct23_018_022_data_000001.tiff', 'setup_6oct23_018_037_data_000001.tiff', 'setup_6oct23_007_005_data_000001.tiff', 'setup_6oct23_007_010_data_000001.tiff', 'setup_6oct23_013_020_data_000001.tiff', 'setup_6oct23_010_021_data_000001.tiff', 'setup_6oct23_004_004_data_000001.tiff', 'setup_6oct23_004_011_data_000001.tiff', 'setup_6oct23_001_008_data_000001.tiff', 'setup_6oct23_026_023_data_000001.tiff', 'setup_6oct23_026_036_data_000001.tiff', 'setup_6oct23_002_009_data_000001.tiff', 'setup_6oct23_020_021_data_000001.tiff', 'setup_6oct23_020_034_data_000001.tiff', 'setup_6oct23_018_038_data_000001.tiff', 'setup_6oct23_011_000_data_000001.tiff', 'setup_6oct23_026_047_data_000001.tiff', 'setup_6oct23_026_052_data_000001.tiff', 'setup_6oct23_011_015_data_000001.tiff', 'setup_6oct23_019_016_data_000001.tiff', 'setup_6oct23_019_003_data_000001.tiff', 'setup_6oct23_012_001_data_000001.tiff', 'setup_6oct23_021_081_data_000001.tiff', 'setup_6oct23_017_017_data_000001.tiff', 'setup_6oct23_017_002_data_000001.tiff', 'setup_6oct23_020_045_data_000001.tiff', 'setup_6oct23_020_050_data_000001.tiff', 'setup_6oct23_018_049_data_000001.tiff', 'setup_6oct23_014_003_data_000001.tiff', 'setup_6oct23_018_041_data_000001.tiff', 'setup_6oct23_024_004_data_000001.tiff', 'setup_6oct23_024_011_data_000001.tiff', 'setup_6oct23_012_009_data_000001.tiff', 'setup_6oct23_021_007_data_000001.tiff', 'setup_6oct23_004_003_data_000001.tiff', 'setup_6oct23_021_012_data_000001.tiff', 'setup_6oct23_011_008_data_000001.tiff', 'setup_6oct23_022_006_data_000001.tiff', 'setup_6oct23_022_013_data_000001.tiff', 'setup_6oct23_007_002_data_000001.tiff', 'setup_6oct23_018_030_data_000001.tiff', 'setup_6oct23_018_025_data_000001.tiff', 'setup_6oct23_020_029_data_000001.tiff', 'setup_6oct23_021_063_data_000001.tiff', 'setup_6oct23_021_076_data_000001.tiff', 'setup_6oct23_002_001_data_000001.tiff', 'setup_6oct23_009_003_data_000001.tiff', 'setup_6oct23_001_000_data_000001.tiff', 'setup_6oct23_000_961_data_000001.tiff']\n"
     ]
    }
   ],
   "source": [
    "print(tiff_directory)\n",
    "print(tiff_files)"
   ]
  },
  {
   "cell_type": "code",
   "execution_count": 7,
   "metadata": {},
   "outputs": [
    {
     "ename": "AssertionError",
     "evalue": "The setup method 'errorhandler' can no longer be called on the application. It has already handled its first request, any changes will not be applied consistently.\nMake sure all imports, decorators, functions, etc. needed to set up the application are done before running it.",
     "output_type": "error",
     "traceback": [
      "\u001b[0;31m---------------------------------------------------------------------------\u001b[0m",
      "\u001b[0;31mAssertionError\u001b[0m                            Traceback (most recent call last)",
      "\u001b[0;32m/tmp/ipykernel_524281/207265829.py\u001b[0m in \u001b[0;36m<module>\u001b[0;34m\u001b[0m\n\u001b[0;32m----> 1\u001b[0;31m \u001b[0mapp\u001b[0m\u001b[0;34m.\u001b[0m\u001b[0mrun_server\u001b[0m\u001b[0;34m(\u001b[0m\u001b[0mmode\u001b[0m\u001b[0;34m=\u001b[0m\u001b[0;34m'external'\u001b[0m\u001b[0;34m,\u001b[0m \u001b[0mdebug\u001b[0m\u001b[0;34m=\u001b[0m\u001b[0;32mTrue\u001b[0m\u001b[0;34m)\u001b[0m\u001b[0;34m\u001b[0m\u001b[0;34m\u001b[0m\u001b[0m\n\u001b[0m",
      "\u001b[0;32m~/conda_envs/general-data/lib/python3.9/site-packages/dash/dash.py\u001b[0m in \u001b[0;36mrun_server\u001b[0;34m(self, *args, **kwargs)\u001b[0m\n\u001b[1;32m   2257\u001b[0m         \u001b[0mSee\u001b[0m\u001b[0;31m \u001b[0m\u001b[0;31m`\u001b[0m\u001b[0mapp\u001b[0m\u001b[0;34m.\u001b[0m\u001b[0mrun\u001b[0m\u001b[0;31m`\u001b[0m \u001b[0;32mfor\u001b[0m \u001b[0musage\u001b[0m \u001b[0minformation\u001b[0m\u001b[0;34m.\u001b[0m\u001b[0;34m\u001b[0m\u001b[0;34m\u001b[0m\u001b[0m\n\u001b[1;32m   2258\u001b[0m         \"\"\"\n\u001b[0;32m-> 2259\u001b[0;31m         \u001b[0mself\u001b[0m\u001b[0;34m.\u001b[0m\u001b[0mrun\u001b[0m\u001b[0;34m(\u001b[0m\u001b[0;34m*\u001b[0m\u001b[0margs\u001b[0m\u001b[0;34m,\u001b[0m \u001b[0;34m**\u001b[0m\u001b[0mkwargs\u001b[0m\u001b[0;34m)\u001b[0m\u001b[0;34m\u001b[0m\u001b[0;34m\u001b[0m\u001b[0m\n\u001b[0m",
      "\u001b[0;32m~/conda_envs/general-data/lib/python3.9/site-packages/dash/dash.py\u001b[0m in \u001b[0;36mrun\u001b[0;34m(self, host, port, proxy, debug, jupyter_mode, jupyter_width, jupyter_height, jupyter_server_url, dev_tools_ui, dev_tools_props_check, dev_tools_serve_dev_bundles, dev_tools_hot_reload, dev_tools_hot_reload_interval, dev_tools_hot_reload_watch_interval, dev_tools_hot_reload_max_retry, dev_tools_silence_routes_logging, dev_tools_prune_errors, **flask_run_options)\u001b[0m\n\u001b[1;32m   2073\u001b[0m             \u001b[0mdebug\u001b[0m \u001b[0;34m=\u001b[0m \u001b[0mget_combined_config\u001b[0m\u001b[0;34m(\u001b[0m\u001b[0;34m\"debug\"\u001b[0m\u001b[0;34m,\u001b[0m \u001b[0;32mNone\u001b[0m\u001b[0;34m,\u001b[0m \u001b[0;32mFalse\u001b[0m\u001b[0;34m)\u001b[0m\u001b[0;34m\u001b[0m\u001b[0;34m\u001b[0m\u001b[0m\n\u001b[1;32m   2074\u001b[0m \u001b[0;34m\u001b[0m\u001b[0m\n\u001b[0;32m-> 2075\u001b[0;31m         debug = self.enable_dev_tools(\n\u001b[0m\u001b[1;32m   2076\u001b[0m             \u001b[0mdebug\u001b[0m\u001b[0;34m,\u001b[0m\u001b[0;34m\u001b[0m\u001b[0;34m\u001b[0m\u001b[0m\n\u001b[1;32m   2077\u001b[0m             \u001b[0mdev_tools_ui\u001b[0m\u001b[0;34m,\u001b[0m\u001b[0;34m\u001b[0m\u001b[0;34m\u001b[0m\u001b[0m\n",
      "\u001b[0;32m~/conda_envs/general-data/lib/python3.9/site-packages/dash/dash.py\u001b[0m in \u001b[0;36menable_dev_tools\u001b[0;34m(self, debug, dev_tools_ui, dev_tools_props_check, dev_tools_serve_dev_bundles, dev_tools_hot_reload, dev_tools_hot_reload_interval, dev_tools_hot_reload_watch_interval, dev_tools_hot_reload_max_retry, dev_tools_silence_routes_logging, dev_tools_prune_errors)\u001b[0m\n\u001b[1;32m   1843\u001b[0m         \u001b[0;32mif\u001b[0m \u001b[0mdebug\u001b[0m\u001b[0;34m:\u001b[0m\u001b[0;34m\u001b[0m\u001b[0;34m\u001b[0m\u001b[0m\n\u001b[1;32m   1844\u001b[0m             \u001b[0;32mif\u001b[0m \u001b[0mjupyter_dash\u001b[0m\u001b[0;34m.\u001b[0m\u001b[0mactive\u001b[0m\u001b[0;34m:\u001b[0m\u001b[0;34m\u001b[0m\u001b[0;34m\u001b[0m\u001b[0m\n\u001b[0;32m-> 1845\u001b[0;31m                 jupyter_dash.configure_callback_exception_handling(\n\u001b[0m\u001b[1;32m   1846\u001b[0m                     \u001b[0mself\u001b[0m\u001b[0;34m,\u001b[0m \u001b[0mdev_tools\u001b[0m\u001b[0;34m.\u001b[0m\u001b[0mprune_errors\u001b[0m\u001b[0;34m\u001b[0m\u001b[0;34m\u001b[0m\u001b[0m\n\u001b[1;32m   1847\u001b[0m                 )\n",
      "\u001b[0;32m~/conda_envs/general-data/lib/python3.9/site-packages/dash/_jupyter.py\u001b[0m in \u001b[0;36mconfigure_callback_exception_handling\u001b[0;34m(self, app, dev_tools_prune_errors)\u001b[0m\n\u001b[1;32m    444\u001b[0m         \u001b[0;34m\"\"\"Install traceback handling for callbacks\"\"\"\u001b[0m\u001b[0;34m\u001b[0m\u001b[0;34m\u001b[0m\u001b[0m\n\u001b[1;32m    445\u001b[0m \u001b[0;34m\u001b[0m\u001b[0m\n\u001b[0;32m--> 446\u001b[0;31m         \u001b[0;34m@\u001b[0m\u001b[0mapp\u001b[0m\u001b[0;34m.\u001b[0m\u001b[0mserver\u001b[0m\u001b[0;34m.\u001b[0m\u001b[0merrorhandler\u001b[0m\u001b[0;34m(\u001b[0m\u001b[0mException\u001b[0m\u001b[0;34m)\u001b[0m\u001b[0;34m\u001b[0m\u001b[0;34m\u001b[0m\u001b[0m\n\u001b[0m\u001b[1;32m    447\u001b[0m         \u001b[0;32mdef\u001b[0m \u001b[0m_wrap_errors\u001b[0m\u001b[0;34m(\u001b[0m\u001b[0merror\u001b[0m\u001b[0;34m)\u001b[0m\u001b[0;34m:\u001b[0m\u001b[0;34m\u001b[0m\u001b[0;34m\u001b[0m\u001b[0m\n\u001b[1;32m    448\u001b[0m             \u001b[0;31m# Compute number of stack frames to skip to get down to callback\u001b[0m\u001b[0;34m\u001b[0m\u001b[0;34m\u001b[0m\u001b[0m\n",
      "\u001b[0;32m~/conda_envs/general-data/lib/python3.9/site-packages/flask/sansio/scaffold.py\u001b[0m in \u001b[0;36mwrapper_func\u001b[0;34m(self, *args, **kwargs)\u001b[0m\n\u001b[1;32m     44\u001b[0m \u001b[0;34m\u001b[0m\u001b[0m\n\u001b[1;32m     45\u001b[0m     \u001b[0;32mdef\u001b[0m \u001b[0mwrapper_func\u001b[0m\u001b[0;34m(\u001b[0m\u001b[0mself\u001b[0m\u001b[0;34m:\u001b[0m \u001b[0mScaffold\u001b[0m\u001b[0;34m,\u001b[0m \u001b[0;34m*\u001b[0m\u001b[0margs\u001b[0m\u001b[0;34m:\u001b[0m \u001b[0mt\u001b[0m\u001b[0;34m.\u001b[0m\u001b[0mAny\u001b[0m\u001b[0;34m,\u001b[0m \u001b[0;34m**\u001b[0m\u001b[0mkwargs\u001b[0m\u001b[0;34m:\u001b[0m \u001b[0mt\u001b[0m\u001b[0;34m.\u001b[0m\u001b[0mAny\u001b[0m\u001b[0;34m)\u001b[0m \u001b[0;34m->\u001b[0m \u001b[0mt\u001b[0m\u001b[0;34m.\u001b[0m\u001b[0mAny\u001b[0m\u001b[0;34m:\u001b[0m\u001b[0;34m\u001b[0m\u001b[0;34m\u001b[0m\u001b[0m\n\u001b[0;32m---> 46\u001b[0;31m         \u001b[0mself\u001b[0m\u001b[0;34m.\u001b[0m\u001b[0m_check_setup_finished\u001b[0m\u001b[0;34m(\u001b[0m\u001b[0mf_name\u001b[0m\u001b[0;34m)\u001b[0m\u001b[0;34m\u001b[0m\u001b[0;34m\u001b[0m\u001b[0m\n\u001b[0m\u001b[1;32m     47\u001b[0m         \u001b[0;32mreturn\u001b[0m \u001b[0mf\u001b[0m\u001b[0;34m(\u001b[0m\u001b[0mself\u001b[0m\u001b[0;34m,\u001b[0m \u001b[0;34m*\u001b[0m\u001b[0margs\u001b[0m\u001b[0;34m,\u001b[0m \u001b[0;34m**\u001b[0m\u001b[0mkwargs\u001b[0m\u001b[0;34m)\u001b[0m\u001b[0;34m\u001b[0m\u001b[0;34m\u001b[0m\u001b[0m\n\u001b[1;32m     48\u001b[0m \u001b[0;34m\u001b[0m\u001b[0m\n",
      "\u001b[0;32m~/conda_envs/general-data/lib/python3.9/site-packages/flask/sansio/app.py\u001b[0m in \u001b[0;36m_check_setup_finished\u001b[0;34m(self, f_name)\u001b[0m\n\u001b[1;32m    413\u001b[0m     \u001b[0;32mdef\u001b[0m \u001b[0m_check_setup_finished\u001b[0m\u001b[0;34m(\u001b[0m\u001b[0mself\u001b[0m\u001b[0;34m,\u001b[0m \u001b[0mf_name\u001b[0m\u001b[0;34m:\u001b[0m \u001b[0mstr\u001b[0m\u001b[0;34m)\u001b[0m \u001b[0;34m->\u001b[0m \u001b[0;32mNone\u001b[0m\u001b[0;34m:\u001b[0m\u001b[0;34m\u001b[0m\u001b[0;34m\u001b[0m\u001b[0m\n\u001b[1;32m    414\u001b[0m         \u001b[0;32mif\u001b[0m \u001b[0mself\u001b[0m\u001b[0;34m.\u001b[0m\u001b[0m_got_first_request\u001b[0m\u001b[0;34m:\u001b[0m\u001b[0;34m\u001b[0m\u001b[0;34m\u001b[0m\u001b[0m\n\u001b[0;32m--> 415\u001b[0;31m             raise AssertionError(\n\u001b[0m\u001b[1;32m    416\u001b[0m                 \u001b[0;34mf\"The setup method '{f_name}' can no longer be called\"\u001b[0m\u001b[0;34m\u001b[0m\u001b[0;34m\u001b[0m\u001b[0m\n\u001b[1;32m    417\u001b[0m                 \u001b[0;34m\" on the application. It has already handled its first\"\u001b[0m\u001b[0;34m\u001b[0m\u001b[0;34m\u001b[0m\u001b[0m\n",
      "\u001b[0;31mAssertionError\u001b[0m: The setup method 'errorhandler' can no longer be called on the application. It has already handled its first request, any changes will not be applied consistently.\nMake sure all imports, decorators, functions, etc. needed to set up the application are done before running it."
     ]
    }
   ],
   "source": [
    "app.run_server(mode='external', debug=True)"
   ]
  },
  {
   "cell_type": "code",
   "execution_count": 21,
   "metadata": {},
   "outputs": [],
   "source": [
    "\n",
    "import matplotlib.pyplot as plt\n",
    "\n",
    "def visualize_tiff_slideshow(directory, delay=1.5):\n",
    "    \"\"\"\n",
    "    Visualizes TIFF files in a directory as a slideshow.\n",
    "\n",
    "    Parameters:\n",
    "    directory (str): The path to the directory containing TIFF files.\n",
    "    delay (float): Time in seconds to wait before showing the next image.\n",
    "    \"\"\"\n",
    "    # Get all TIFF files in the directory\n",
    "    tiff_files = [f for f in os.listdir(directory) if f.endswith(\".tiff\") or f.endswith(\".tif\")]\n",
    "    \n",
    "    if not tiff_files:\n",
    "        print(\"No TIFF files found in the directory.\")\n",
    "        return\n",
    "    \n",
    "    # Create a figure and turn on interactive mode\n",
    "    plt.ion()\n",
    "    fig, ax = plt.subplots(figsize=(8, 8))\n",
    "\n",
    "    for filename in tiff_files:\n",
    "        file_path = os.path.join(directory, filename)\n",
    "        \n",
    "        # Read the TIFF file\n",
    "        tiff_data = np.squeeze(tifffile.imread(file_path))\n",
    "        \n",
    "        # Clear the axis and display the image\n",
    "        ax.clear()\n",
    "        ax.imshow(tiff_data, cmap='gray')  # Change colormap as needed\n",
    "        ax.set_title(filename)\n",
    "        ax.axis('off')  # Hide axes\n",
    "        \n",
    "        # Draw the figure and pause for the delay\n",
    "        plt.draw()\n",
    "        plt.pause(delay)  # Wait before displaying the next image\n",
    "    \n",
    "    # Turn off interactive mode and keep the last image displayed\n",
    "    plt.ioff()\n",
    "    plt.show()\n",
    "\n",
    " # delay set to 2 seconds\n"
   ]
  },
  {
   "cell_type": "code",
   "execution_count": 22,
   "metadata": {},
   "outputs": [
    {
     "data": {
      "image/png": "[encoded data removed]",
      "text/plain": [
       "<Figure size 576x576 with 1 Axes>"
      ]
     },
     "metadata": {
      "needs_background": "light"
     },
     "output_type": "display_data"
    },
    {
     "data": {
      "text/plain": [
       "<Figure size 432x288 with 0 Axes>"
      ]
     },
     "metadata": {},
     "output_type": "display_data"
    },
    {
     "data": {
      "text/plain": [
       "<Figure size 432x288 with 0 Axes>"
      ]
     },
     "metadata": {},
     "output_type": "display_data"
    },
    {
     "data": {
      "text/plain": [
       "<Figure size 432x288 with 0 Axes>"
      ]
     },
     "metadata": {},
     "output_type": "display_data"
    },
    {
     "data": {
      "text/plain": [
       "<Figure size 432x288 with 0 Axes>"
      ]
     },
     "metadata": {},
     "output_type": "display_data"
    },
    {
     "data": {
      "text/plain": [
       "<Figure size 432x288 with 0 Axes>"
      ]
     },
     "metadata": {},
     "output_type": "display_data"
    },
    {
     "data": {
      "text/plain": [
       "<Figure size 432x288 with 0 Axes>"
      ]
     },
     "metadata": {},
     "output_type": "display_data"
    },
    {
     "data": {
      "text/plain": [
       "<Figure size 432x288 with 0 Axes>"
      ]
     },
     "metadata": {},
     "output_type": "display_data"
    },
    {
     "data": {
      "text/plain": [
       "<Figure size 432x288 with 0 Axes>"
      ]
     },
     "metadata": {},
     "output_type": "display_data"
    },
    {
     "data": {
      "text/plain": [
       "<Figure size 432x288 with 0 Axes>"
      ]
     },
     "metadata": {},
     "output_type": "display_data"
    },
    {
     "data": {
      "text/plain": [
       "<Figure size 432x288 with 0 Axes>"
      ]
     },
     "metadata": {},
     "output_type": "display_data"
    },
    {
     "data": {
      "text/plain": [
       "<Figure size 432x288 with 0 Axes>"
      ]
     },
     "metadata": {},
     "output_type": "display_data"
    },
    {
     "data": {
      "text/plain": [
       "<Figure size 432x288 with 0 Axes>"
      ]
     },
     "metadata": {},
     "output_type": "display_data"
    },
    {
     "data": {
      "text/plain": [
       "<Figure size 432x288 with 0 Axes>"
      ]
     },
     "metadata": {},
     "output_type": "display_data"
    },
    {
     "data": {
      "text/plain": [
       "<Figure size 432x288 with 0 Axes>"
      ]
     },
     "metadata": {},
     "output_type": "display_data"
    },
    {
     "data": {
      "text/plain": [
       "<Figure size 432x288 with 0 Axes>"
      ]
     },
     "metadata": {},
     "output_type": "display_data"
    },
    {
     "data": {
      "text/plain": [
       "<Figure size 432x288 with 0 Axes>"
      ]
     },
     "metadata": {},
     "output_type": "display_data"
    },
    {
     "data": {
      "text/plain": [
       "<Figure size 432x288 with 0 Axes>"
      ]
     },
     "metadata": {},
     "output_type": "display_data"
    },
    {
     "data": {
      "text/plain": [
       "<Figure size 432x288 with 0 Axes>"
      ]
     },
     "metadata": {},
     "output_type": "display_data"
    },
    {
     "data": {
      "text/plain": [
       "<Figure size 432x288 with 0 Axes>"
      ]
     },
     "metadata": {},
     "output_type": "display_data"
    },
    {
     "data": {
      "text/plain": [
       "<Figure size 432x288 with 0 Axes>"
      ]
     },
     "metadata": {},
     "output_type": "display_data"
    },
    {
     "data": {
      "text/plain": [
       "<Figure size 432x288 with 0 Axes>"
      ]
     },
     "metadata": {},
     "output_type": "display_data"
    },
    {
     "data": {
      "text/plain": [
       "<Figure size 432x288 with 0 Axes>"
      ]
     },
     "metadata": {},
     "output_type": "display_data"
    },
    {
     "data": {
      "text/plain": [
       "<Figure size 432x288 with 0 Axes>"
      ]
     },
     "metadata": {},
     "output_type": "display_data"
    },
    {
     "data": {
      "text/plain": [
       "<Figure size 432x288 with 0 Axes>"
      ]
     },
     "metadata": {},
     "output_type": "display_data"
    },
    {
     "data": {
      "text/plain": [
       "<Figure size 432x288 with 0 Axes>"
      ]
     },
     "metadata": {},
     "output_type": "display_data"
    },
    {
     "data": {
      "text/plain": [
       "<Figure size 432x288 with 0 Axes>"
      ]
     },
     "metadata": {},
     "output_type": "display_data"
    },
    {
     "data": {
      "text/plain": [
       "<Figure size 432x288 with 0 Axes>"
      ]
     },
     "metadata": {},
     "output_type": "display_data"
    },
    {
     "data": {
      "text/plain": [
       "<Figure size 432x288 with 0 Axes>"
      ]
     },
     "metadata": {},
     "output_type": "display_data"
    },
    {
     "data": {
      "text/plain": [
       "<Figure size 432x288 with 0 Axes>"
      ]
     },
     "metadata": {},
     "output_type": "display_data"
    },
    {
     "data": {
      "text/plain": [
       "<Figure size 432x288 with 0 Axes>"
      ]
     },
     "metadata": {},
     "output_type": "display_data"
    },
    {
     "data": {
      "text/plain": [
       "<Figure size 432x288 with 0 Axes>"
      ]
     },
     "metadata": {},
     "output_type": "display_data"
    },
    {
     "data": {
      "text/plain": [
       "<Figure size 432x288 with 0 Axes>"
      ]
     },
     "metadata": {},
     "output_type": "display_data"
    },
    {
     "data": {
      "text/plain": [
       "<Figure size 432x288 with 0 Axes>"
      ]
     },
     "metadata": {},
     "output_type": "display_data"
    },
    {
     "data": {
      "text/plain": [
       "<Figure size 432x288 with 0 Axes>"
      ]
     },
     "metadata": {},
     "output_type": "display_data"
    },
    {
     "data": {
      "text/plain": [
       "<Figure size 432x288 with 0 Axes>"
      ]
     },
     "metadata": {},
     "output_type": "display_data"
    },
    {
     "data": {
      "text/plain": [
       "<Figure size 432x288 with 0 Axes>"
      ]
     },
     "metadata": {},
     "output_type": "display_data"
    },
    {
     "data": {
      "text/plain": [
       "<Figure size 432x288 with 0 Axes>"
      ]
     },
     "metadata": {},
     "output_type": "display_data"
    },
    {
     "data": {
      "text/plain": [
       "<Figure size 432x288 with 0 Axes>"
      ]
     },
     "metadata": {},
     "output_type": "display_data"
    },
    {
     "data": {
      "text/plain": [
       "<Figure size 432x288 with 0 Axes>"
      ]
     },
     "metadata": {},
     "output_type": "display_data"
    },
    {
     "data": {
      "text/plain": [
       "<Figure size 432x288 with 0 Axes>"
      ]
     },
     "metadata": {},
     "output_type": "display_data"
    },
    {
     "data": {
      "text/plain": [
       "<Figure size 432x288 with 0 Axes>"
      ]
     },
     "metadata": {},
     "output_type": "display_data"
    },
    {
     "data": {
      "text/plain": [
       "<Figure size 432x288 with 0 Axes>"
      ]
     },
     "metadata": {},
     "output_type": "display_data"
    },
    {
     "data": {
      "text/plain": [
       "<Figure size 432x288 with 0 Axes>"
      ]
     },
     "metadata": {},
     "output_type": "display_data"
    },
    {
     "data": {
      "text/plain": [
       "<Figure size 432x288 with 0 Axes>"
      ]
     },
     "metadata": {},
     "output_type": "display_data"
    },
    {
     "data": {
      "text/plain": [
       "<Figure size 432x288 with 0 Axes>"
      ]
     },
     "metadata": {},
     "output_type": "display_data"
    },
    {
     "data": {
      "text/plain": [
       "<Figure size 432x288 with 0 Axes>"
      ]
     },
     "metadata": {},
     "output_type": "display_data"
    },
    {
     "data": {
      "text/plain": [
       "<Figure size 432x288 with 0 Axes>"
      ]
     },
     "metadata": {},
     "output_type": "display_data"
    },
    {
     "data": {
      "text/plain": [
       "<Figure size 432x288 with 0 Axes>"
      ]
     },
     "metadata": {},
     "output_type": "display_data"
    },
    {
     "data": {
      "text/plain": [
       "<Figure size 432x288 with 0 Axes>"
      ]
     },
     "metadata": {},
     "output_type": "display_data"
    },
    {
     "data": {
      "text/plain": [
       "<Figure size 432x288 with 0 Axes>"
      ]
     },
     "metadata": {},
     "output_type": "display_data"
    },
    {
     "data": {
      "text/plain": [
       "<Figure size 432x288 with 0 Axes>"
      ]
     },
     "metadata": {},
     "output_type": "display_data"
    },
    {
     "data": {
      "text/plain": [
       "<Figure size 432x288 with 0 Axes>"
      ]
     },
     "metadata": {},
     "output_type": "display_data"
    },
    {
     "data": {
      "text/plain": [
       "<Figure size 432x288 with 0 Axes>"
      ]
     },
     "metadata": {},
     "output_type": "display_data"
    },
    {
     "data": {
      "text/plain": [
       "<Figure size 432x288 with 0 Axes>"
      ]
     },
     "metadata": {},
     "output_type": "display_data"
    },
    {
     "data": {
      "text/plain": [
       "<Figure size 432x288 with 0 Axes>"
      ]
     },
     "metadata": {},
     "output_type": "display_data"
    },
    {
     "data": {
      "text/plain": [
       "<Figure size 432x288 with 0 Axes>"
      ]
     },
     "metadata": {},
     "output_type": "display_data"
    },
    {
     "data": {
      "text/plain": [
       "<Figure size 432x288 with 0 Axes>"
      ]
     },
     "metadata": {},
     "output_type": "display_data"
    },
    {
     "data": {
      "text/plain": [
       "<Figure size 432x288 with 0 Axes>"
      ]
     },
     "metadata": {},
     "output_type": "display_data"
    },
    {
     "data": {
      "text/plain": [
       "<Figure size 432x288 with 0 Axes>"
      ]
     },
     "metadata": {},
     "output_type": "display_data"
    },
    {
     "data": {
      "text/plain": [
       "<Figure size 432x288 with 0 Axes>"
      ]
     },
     "metadata": {},
     "output_type": "display_data"
    },
    {
     "data": {
      "text/plain": [
       "<Figure size 432x288 with 0 Axes>"
      ]
     },
     "metadata": {},
     "output_type": "display_data"
    },
    {
     "data": {
      "text/plain": [
       "<Figure size 432x288 with 0 Axes>"
      ]
     },
     "metadata": {},
     "output_type": "display_data"
    },
    {
     "data": {
      "text/plain": [
       "<Figure size 432x288 with 0 Axes>"
      ]
     },
     "metadata": {},
     "output_type": "display_data"
    },
    {
     "data": {
      "text/plain": [
       "<Figure size 432x288 with 0 Axes>"
      ]
     },
     "metadata": {},
     "output_type": "display_data"
    },
    {
     "data": {
      "text/plain": [
       "<Figure size 432x288 with 0 Axes>"
      ]
     },
     "metadata": {},
     "output_type": "display_data"
    },
    {
     "data": {
      "text/plain": [
       "<Figure size 432x288 with 0 Axes>"
      ]
     },
     "metadata": {},
     "output_type": "display_data"
    },
    {
     "data": {
      "text/plain": [
       "<Figure size 432x288 with 0 Axes>"
      ]
     },
     "metadata": {},
     "output_type": "display_data"
    },
    {
     "data": {
      "text/plain": [
       "<Figure size 432x288 with 0 Axes>"
      ]
     },
     "metadata": {},
     "output_type": "display_data"
    },
    {
     "data": {
      "text/plain": [
       "<Figure size 432x288 with 0 Axes>"
      ]
     },
     "metadata": {},
     "output_type": "display_data"
    },
    {
     "data": {
      "text/plain": [
       "<Figure size 432x288 with 0 Axes>"
      ]
     },
     "metadata": {},
     "output_type": "display_data"
    },
    {
     "data": {
      "text/plain": [
       "<Figure size 432x288 with 0 Axes>"
      ]
     },
     "metadata": {},
     "output_type": "display_data"
    },
    {
     "data": {
      "text/plain": [
       "<Figure size 432x288 with 0 Axes>"
      ]
     },
     "metadata": {},
     "output_type": "display_data"
    },
    {
     "data": {
      "text/plain": [
       "<Figure size 432x288 with 0 Axes>"
      ]
     },
     "metadata": {},
     "output_type": "display_data"
    },
    {
     "data": {
      "text/plain": [
       "<Figure size 432x288 with 0 Axes>"
      ]
     },
     "metadata": {},
     "output_type": "display_data"
    },
    {
     "data": {
      "text/plain": [
       "<Figure size 432x288 with 0 Axes>"
      ]
     },
     "metadata": {},
     "output_type": "display_data"
    },
    {
     "data": {
      "text/plain": [
       "<Figure size 432x288 with 0 Axes>"
      ]
     },
     "metadata": {},
     "output_type": "display_data"
    },
    {
     "data": {
      "text/plain": [
       "<Figure size 432x288 with 0 Axes>"
      ]
     },
     "metadata": {},
     "output_type": "display_data"
    },
    {
     "data": {
      "text/plain": [
       "<Figure size 432x288 with 0 Axes>"
      ]
     },
     "metadata": {},
     "output_type": "display_data"
    },
    {
     "data": {
      "text/plain": [
       "<Figure size 432x288 with 0 Axes>"
      ]
     },
     "metadata": {},
     "output_type": "display_data"
    },
    {
     "data": {
      "text/plain": [
       "<Figure size 432x288 with 0 Axes>"
      ]
     },
     "metadata": {},
     "output_type": "display_data"
    },
    {
     "data": {
      "text/plain": [
       "<Figure size 432x288 with 0 Axes>"
      ]
     },
     "metadata": {},
     "output_type": "display_data"
    },
    {
     "data": {
      "text/plain": [
       "<Figure size 432x288 with 0 Axes>"
      ]
     },
     "metadata": {},
     "output_type": "display_data"
    },
    {
     "data": {
      "text/plain": [
       "<Figure size 432x288 with 0 Axes>"
      ]
     },
     "metadata": {},
     "output_type": "display_data"
    },
    {
     "data": {
      "text/plain": [
       "<Figure size 432x288 with 0 Axes>"
      ]
     },
     "metadata": {},
     "output_type": "display_data"
    },
    {
     "data": {
      "text/plain": [
       "<Figure size 432x288 with 0 Axes>"
      ]
     },
     "metadata": {},
     "output_type": "display_data"
    },
    {
     "data": {
      "text/plain": [
       "<Figure size 432x288 with 0 Axes>"
      ]
     },
     "metadata": {},
     "output_type": "display_data"
    },
    {
     "data": {
      "text/plain": [
       "<Figure size 432x288 with 0 Axes>"
      ]
     },
     "metadata": {},
     "output_type": "display_data"
    },
    {
     "data": {
      "text/plain": [
       "<Figure size 432x288 with 0 Axes>"
      ]
     },
     "metadata": {},
     "output_type": "display_data"
    },
    {
     "data": {
      "text/plain": [
       "<Figure size 432x288 with 0 Axes>"
      ]
     },
     "metadata": {},
     "output_type": "display_data"
    },
    {
     "data": {
      "text/plain": [
       "<Figure size 432x288 with 0 Axes>"
      ]
     },
     "metadata": {},
     "output_type": "display_data"
    },
    {
     "data": {
      "text/plain": [
       "<Figure size 432x288 with 0 Axes>"
      ]
     },
     "metadata": {},
     "output_type": "display_data"
    },
    {
     "data": {
      "text/plain": [
       "<Figure size 432x288 with 0 Axes>"
      ]
     },
     "metadata": {},
     "output_type": "display_data"
    },
    {
     "data": {
      "text/plain": [
       "<Figure size 432x288 with 0 Axes>"
      ]
     },
     "metadata": {},
     "output_type": "display_data"
    },
    {
     "data": {
      "text/plain": [
       "<Figure size 432x288 with 0 Axes>"
      ]
     },
     "metadata": {},
     "output_type": "display_data"
    },
    {
     "data": {
      "text/plain": [
       "<Figure size 432x288 with 0 Axes>"
      ]
     },
     "metadata": {},
     "output_type": "display_data"
    },
    {
     "data": {
      "text/plain": [
       "<Figure size 432x288 with 0 Axes>"
      ]
     },
     "metadata": {},
     "output_type": "display_data"
    },
    {
     "data": {
      "text/plain": [
       "<Figure size 432x288 with 0 Axes>"
      ]
     },
     "metadata": {},
     "output_type": "display_data"
    },
    {
     "data": {
      "text/plain": [
       "<Figure size 432x288 with 0 Axes>"
      ]
     },
     "metadata": {},
     "output_type": "display_data"
    },
    {
     "data": {
      "text/plain": [
       "<Figure size 432x288 with 0 Axes>"
      ]
     },
     "metadata": {},
     "output_type": "display_data"
    },
    {
     "data": {
      "text/plain": [
       "<Figure size 432x288 with 0 Axes>"
      ]
     },
     "metadata": {},
     "output_type": "display_data"
    },
    {
     "data": {
      "text/plain": [
       "<Figure size 432x288 with 0 Axes>"
      ]
     },
     "metadata": {},
     "output_type": "display_data"
    },
    {
     "data": {
      "text/plain": [
       "<Figure size 432x288 with 0 Axes>"
      ]
     },
     "metadata": {},
     "output_type": "display_data"
    },
    {
     "data": {
      "text/plain": [
       "<Figure size 432x288 with 0 Axes>"
      ]
     },
     "metadata": {},
     "output_type": "display_data"
    },
    {
     "data": {
      "text/plain": [
       "<Figure size 432x288 with 0 Axes>"
      ]
     },
     "metadata": {},
     "output_type": "display_data"
    },
    {
     "data": {
      "text/plain": [
       "<Figure size 432x288 with 0 Axes>"
      ]
     },
     "metadata": {},
     "output_type": "display_data"
    },
    {
     "data": {
      "text/plain": [
       "<Figure size 432x288 with 0 Axes>"
      ]
     },
     "metadata": {},
     "output_type": "display_data"
    },
    {
     "data": {
      "text/plain": [
       "<Figure size 432x288 with 0 Axes>"
      ]
     },
     "metadata": {},
     "output_type": "display_data"
    },
    {
     "data": {
      "text/plain": [
       "<Figure size 432x288 with 0 Axes>"
      ]
     },
     "metadata": {},
     "output_type": "display_data"
    },
    {
     "data": {
      "text/plain": [
       "<Figure size 432x288 with 0 Axes>"
      ]
     },
     "metadata": {},
     "output_type": "display_data"
    },
    {
     "data": {
      "text/plain": [
       "<Figure size 432x288 with 0 Axes>"
      ]
     },
     "metadata": {},
     "output_type": "display_data"
    },
    {
     "data": {
      "text/plain": [
       "<Figure size 432x288 with 0 Axes>"
      ]
     },
     "metadata": {},
     "output_type": "display_data"
    },
    {
     "data": {
      "text/plain": [
       "<Figure size 432x288 with 0 Axes>"
      ]
     },
     "metadata": {},
     "output_type": "display_data"
    },
    {
     "data": {
      "text/plain": [
       "<Figure size 432x288 with 0 Axes>"
      ]
     },
     "metadata": {},
     "output_type": "display_data"
    },
    {
     "data": {
      "text/plain": [
       "<Figure size 432x288 with 0 Axes>"
      ]
     },
     "metadata": {},
     "output_type": "display_data"
    },
    {
     "data": {
      "text/plain": [
       "<Figure size 432x288 with 0 Axes>"
      ]
     },
     "metadata": {},
     "output_type": "display_data"
    },
    {
     "data": {
      "text/plain": [
       "<Figure size 432x288 with 0 Axes>"
      ]
     },
     "metadata": {},
     "output_type": "display_data"
    },
    {
     "data": {
      "text/plain": [
       "<Figure size 432x288 with 0 Axes>"
      ]
     },
     "metadata": {},
     "output_type": "display_data"
    },
    {
     "data": {
      "text/plain": [
       "<Figure size 432x288 with 0 Axes>"
      ]
     },
     "metadata": {},
     "output_type": "display_data"
    },
    {
     "data": {
      "text/plain": [
       "<Figure size 432x288 with 0 Axes>"
      ]
     },
     "metadata": {},
     "output_type": "display_data"
    },
    {
     "data": {
      "text/plain": [
       "<Figure size 432x288 with 0 Axes>"
      ]
     },
     "metadata": {},
     "output_type": "display_data"
    },
    {
     "data": {
      "text/plain": [
       "<Figure size 432x288 with 0 Axes>"
      ]
     },
     "metadata": {},
     "output_type": "display_data"
    },
    {
     "data": {
      "text/plain": [
       "<Figure size 432x288 with 0 Axes>"
      ]
     },
     "metadata": {},
     "output_type": "display_data"
    },
    {
     "data": {
      "text/plain": [
       "<Figure size 432x288 with 0 Axes>"
      ]
     },
     "metadata": {},
     "output_type": "display_data"
    },
    {
     "data": {
      "text/plain": [
       "<Figure size 432x288 with 0 Axes>"
      ]
     },
     "metadata": {},
     "output_type": "display_data"
    },
    {
     "data": {
      "text/plain": [
       "<Figure size 432x288 with 0 Axes>"
      ]
     },
     "metadata": {},
     "output_type": "display_data"
    },
    {
     "data": {
      "text/plain": [
       "<Figure size 432x288 with 0 Axes>"
      ]
     },
     "metadata": {},
     "output_type": "display_data"
    },
    {
     "data": {
      "text/plain": [
       "<Figure size 432x288 with 0 Axes>"
      ]
     },
     "metadata": {},
     "output_type": "display_data"
    },
    {
     "data": {
      "text/plain": [
       "<Figure size 432x288 with 0 Axes>"
      ]
     },
     "metadata": {},
     "output_type": "display_data"
    },
    {
     "data": {
      "text/plain": [
       "<Figure size 432x288 with 0 Axes>"
      ]
     },
     "metadata": {},
     "output_type": "display_data"
    },
    {
     "data": {
      "text/plain": [
       "<Figure size 432x288 with 0 Axes>"
      ]
     },
     "metadata": {},
     "output_type": "display_data"
    },
    {
     "data": {
      "text/plain": [
       "<Figure size 432x288 with 0 Axes>"
      ]
     },
     "metadata": {},
     "output_type": "display_data"
    },
    {
     "data": {
      "text/plain": [
       "<Figure size 432x288 with 0 Axes>"
      ]
     },
     "metadata": {},
     "output_type": "display_data"
    },
    {
     "data": {
      "text/plain": [
       "<Figure size 432x288 with 0 Axes>"
      ]
     },
     "metadata": {},
     "output_type": "display_data"
    },
    {
     "data": {
      "text/plain": [
       "<Figure size 432x288 with 0 Axes>"
      ]
     },
     "metadata": {},
     "output_type": "display_data"
    },
    {
     "data": {
      "text/plain": [
       "<Figure size 432x288 with 0 Axes>"
      ]
     },
     "metadata": {},
     "output_type": "display_data"
    },
    {
     "data": {
      "text/plain": [
       "<Figure size 432x288 with 0 Axes>"
      ]
     },
     "metadata": {},
     "output_type": "display_data"
    },
    {
     "data": {
      "text/plain": [
       "<Figure size 432x288 with 0 Axes>"
      ]
     },
     "metadata": {},
     "output_type": "display_data"
    },
    {
     "data": {
      "text/plain": [
       "<Figure size 432x288 with 0 Axes>"
      ]
     },
     "metadata": {},
     "output_type": "display_data"
    },
    {
     "data": {
      "text/plain": [
       "<Figure size 432x288 with 0 Axes>"
      ]
     },
     "metadata": {},
     "output_type": "display_data"
    },
    {
     "data": {
      "text/plain": [
       "<Figure size 432x288 with 0 Axes>"
      ]
     },
     "metadata": {},
     "output_type": "display_data"
    },
    {
     "data": {
      "text/plain": [
       "<Figure size 432x288 with 0 Axes>"
      ]
     },
     "metadata": {},
     "output_type": "display_data"
    },
    {
     "data": {
      "text/plain": [
       "<Figure size 432x288 with 0 Axes>"
      ]
     },
     "metadata": {},
     "output_type": "display_data"
    },
    {
     "data": {
      "text/plain": [
       "<Figure size 432x288 with 0 Axes>"
      ]
     },
     "metadata": {},
     "output_type": "display_data"
    },
    {
     "data": {
      "text/plain": [
       "<Figure size 432x288 with 0 Axes>"
      ]
     },
     "metadata": {},
     "output_type": "display_data"
    },
    {
     "data": {
      "text/plain": [
       "<Figure size 432x288 with 0 Axes>"
      ]
     },
     "metadata": {},
     "output_type": "display_data"
    },
    {
     "data": {
      "text/plain": [
       "<Figure size 432x288 with 0 Axes>"
      ]
     },
     "metadata": {},
     "output_type": "display_data"
    },
    {
     "data": {
      "text/plain": [
       "<Figure size 432x288 with 0 Axes>"
      ]
     },
     "metadata": {},
     "output_type": "display_data"
    },
    {
     "data": {
      "text/plain": [
       "<Figure size 432x288 with 0 Axes>"
      ]
     },
     "metadata": {},
     "output_type": "display_data"
    },
    {
     "data": {
      "text/plain": [
       "<Figure size 432x288 with 0 Axes>"
      ]
     },
     "metadata": {},
     "output_type": "display_data"
    },
    {
     "data": {
      "text/plain": [
       "<Figure size 432x288 with 0 Axes>"
      ]
     },
     "metadata": {},
     "output_type": "display_data"
    },
    {
     "data": {
      "text/plain": [
       "<Figure size 432x288 with 0 Axes>"
      ]
     },
     "metadata": {},
     "output_type": "display_data"
    },
    {
     "data": {
      "text/plain": [
       "<Figure size 432x288 with 0 Axes>"
      ]
     },
     "metadata": {},
     "output_type": "display_data"
    },
    {
     "data": {
      "text/plain": [
       "<Figure size 432x288 with 0 Axes>"
      ]
     },
     "metadata": {},
     "output_type": "display_data"
    },
    {
     "data": {
      "text/plain": [
       "<Figure size 432x288 with 0 Axes>"
      ]
     },
     "metadata": {},
     "output_type": "display_data"
    },
    {
     "data": {
      "text/plain": [
       "<Figure size 432x288 with 0 Axes>"
      ]
     },
     "metadata": {},
     "output_type": "display_data"
    },
    {
     "data": {
      "text/plain": [
       "<Figure size 432x288 with 0 Axes>"
      ]
     },
     "metadata": {},
     "output_type": "display_data"
    },
    {
     "data": {
      "text/plain": [
       "<Figure size 432x288 with 0 Axes>"
      ]
     },
     "metadata": {},
     "output_type": "display_data"
    },
    {
     "data": {
      "text/plain": [
       "<Figure size 432x288 with 0 Axes>"
      ]
     },
     "metadata": {},
     "output_type": "display_data"
    },
    {
     "data": {
      "text/plain": [
       "<Figure size 432x288 with 0 Axes>"
      ]
     },
     "metadata": {},
     "output_type": "display_data"
    },
    {
     "data": {
      "text/plain": [
       "<Figure size 432x288 with 0 Axes>"
      ]
     },
     "metadata": {},
     "output_type": "display_data"
    },
    {
     "data": {
      "text/plain": [
       "<Figure size 432x288 with 0 Axes>"
      ]
     },
     "metadata": {},
     "output_type": "display_data"
    },
    {
     "data": {
      "text/plain": [
       "<Figure size 432x288 with 0 Axes>"
      ]
     },
     "metadata": {},
     "output_type": "display_data"
    },
    {
     "data": {
      "text/plain": [
       "<Figure size 432x288 with 0 Axes>"
      ]
     },
     "metadata": {},
     "output_type": "display_data"
    },
    {
     "data": {
      "text/plain": [
       "<Figure size 432x288 with 0 Axes>"
      ]
     },
     "metadata": {},
     "output_type": "display_data"
    },
    {
     "data": {
      "text/plain": [
       "<Figure size 432x288 with 0 Axes>"
      ]
     },
     "metadata": {},
     "output_type": "display_data"
    },
    {
     "data": {
      "text/plain": [
       "<Figure size 432x288 with 0 Axes>"
      ]
     },
     "metadata": {},
     "output_type": "display_data"
    },
    {
     "data": {
      "text/plain": [
       "<Figure size 432x288 with 0 Axes>"
      ]
     },
     "metadata": {},
     "output_type": "display_data"
    },
    {
     "data": {
      "text/plain": [
       "<Figure size 432x288 with 0 Axes>"
      ]
     },
     "metadata": {},
     "output_type": "display_data"
    },
    {
     "data": {
      "text/plain": [
       "<Figure size 432x288 with 0 Axes>"
      ]
     },
     "metadata": {},
     "output_type": "display_data"
    },
    {
     "data": {
      "text/plain": [
       "<Figure size 432x288 with 0 Axes>"
      ]
     },
     "metadata": {},
     "output_type": "display_data"
    },
    {
     "data": {
      "text/plain": [
       "<Figure size 432x288 with 0 Axes>"
      ]
     },
     "metadata": {},
     "output_type": "display_data"
    },
    {
     "data": {
      "text/plain": [
       "<Figure size 432x288 with 0 Axes>"
      ]
     },
     "metadata": {},
     "output_type": "display_data"
    },
    {
     "data": {
      "text/plain": [
       "<Figure size 432x288 with 0 Axes>"
      ]
     },
     "metadata": {},
     "output_type": "display_data"
    },
    {
     "data": {
      "text/plain": [
       "<Figure size 432x288 with 0 Axes>"
      ]
     },
     "metadata": {},
     "output_type": "display_data"
    },
    {
     "data": {
      "text/plain": [
       "<Figure size 432x288 with 0 Axes>"
      ]
     },
     "metadata": {},
     "output_type": "display_data"
    },
    {
     "data": {
      "text/plain": [
       "<Figure size 432x288 with 0 Axes>"
      ]
     },
     "metadata": {},
     "output_type": "display_data"
    },
    {
     "data": {
      "text/plain": [
       "<Figure size 432x288 with 0 Axes>"
      ]
     },
     "metadata": {},
     "output_type": "display_data"
    },
    {
     "data": {
      "text/plain": [
       "<Figure size 432x288 with 0 Axes>"
      ]
     },
     "metadata": {},
     "output_type": "display_data"
    },
    {
     "data": {
      "text/plain": [
       "<Figure size 432x288 with 0 Axes>"
      ]
     },
     "metadata": {},
     "output_type": "display_data"
    },
    {
     "data": {
      "text/plain": [
       "<Figure size 432x288 with 0 Axes>"
      ]
     },
     "metadata": {},
     "output_type": "display_data"
    },
    {
     "data": {
      "text/plain": [
       "<Figure size 432x288 with 0 Axes>"
      ]
     },
     "metadata": {},
     "output_type": "display_data"
    },
    {
     "data": {
      "text/plain": [
       "<Figure size 432x288 with 0 Axes>"
      ]
     },
     "metadata": {},
     "output_type": "display_data"
    },
    {
     "data": {
      "text/plain": [
       "<Figure size 432x288 with 0 Axes>"
      ]
     },
     "metadata": {},
     "output_type": "display_data"
    },
    {
     "data": {
      "text/plain": [
       "<Figure size 432x288 with 0 Axes>"
      ]
     },
     "metadata": {},
     "output_type": "display_data"
    },
    {
     "data": {
      "text/plain": [
       "<Figure size 432x288 with 0 Axes>"
      ]
     },
     "metadata": {},
     "output_type": "display_data"
    },
    {
     "data": {
      "text/plain": [
       "<Figure size 432x288 with 0 Axes>"
      ]
     },
     "metadata": {},
     "output_type": "display_data"
    },
    {
     "data": {
      "text/plain": [
       "<Figure size 432x288 with 0 Axes>"
      ]
     },
     "metadata": {},
     "output_type": "display_data"
    },
    {
     "data": {
      "text/plain": [
       "<Figure size 432x288 with 0 Axes>"
      ]
     },
     "metadata": {},
     "output_type": "display_data"
    },
    {
     "data": {
      "text/plain": [
       "<Figure size 432x288 with 0 Axes>"
      ]
     },
     "metadata": {},
     "output_type": "display_data"
    },
    {
     "data": {
      "text/plain": [
       "<Figure size 432x288 with 0 Axes>"
      ]
     },
     "metadata": {},
     "output_type": "display_data"
    },
    {
     "data": {
      "text/plain": [
       "<Figure size 432x288 with 0 Axes>"
      ]
     },
     "metadata": {},
     "output_type": "display_data"
    },
    {
     "data": {
      "text/plain": [
       "<Figure size 432x288 with 0 Axes>"
      ]
     },
     "metadata": {},
     "output_type": "display_data"
    },
    {
     "data": {
      "text/plain": [
       "<Figure size 432x288 with 0 Axes>"
      ]
     },
     "metadata": {},
     "output_type": "display_data"
    },
    {
     "data": {
      "text/plain": [
       "<Figure size 432x288 with 0 Axes>"
      ]
     },
     "metadata": {},
     "output_type": "display_data"
    },
    {
     "data": {
      "text/plain": [
       "<Figure size 432x288 with 0 Axes>"
      ]
     },
     "metadata": {},
     "output_type": "display_data"
    },
    {
     "data": {
      "text/plain": [
       "<Figure size 432x288 with 0 Axes>"
      ]
     },
     "metadata": {},
     "output_type": "display_data"
    },
    {
     "data": {
      "text/plain": [
       "<Figure size 432x288 with 0 Axes>"
      ]
     },
     "metadata": {},
     "output_type": "display_data"
    },
    {
     "data": {
      "text/plain": [
       "<Figure size 432x288 with 0 Axes>"
      ]
     },
     "metadata": {},
     "output_type": "display_data"
    },
    {
     "data": {
      "text/plain": [
       "<Figure size 432x288 with 0 Axes>"
      ]
     },
     "metadata": {},
     "output_type": "display_data"
    },
    {
     "data": {
      "text/plain": [
       "<Figure size 432x288 with 0 Axes>"
      ]
     },
     "metadata": {},
     "output_type": "display_data"
    },
    {
     "data": {
      "text/plain": [
       "<Figure size 432x288 with 0 Axes>"
      ]
     },
     "metadata": {},
     "output_type": "display_data"
    },
    {
     "data": {
      "text/plain": [
       "<Figure size 432x288 with 0 Axes>"
      ]
     },
     "metadata": {},
     "output_type": "display_data"
    },
    {
     "data": {
      "text/plain": [
       "<Figure size 432x288 with 0 Axes>"
      ]
     },
     "metadata": {},
     "output_type": "display_data"
    },
    {
     "data": {
      "text/plain": [
       "<Figure size 432x288 with 0 Axes>"
      ]
     },
     "metadata": {},
     "output_type": "display_data"
    },
    {
     "data": {
      "text/plain": [
       "<Figure size 432x288 with 0 Axes>"
      ]
     },
     "metadata": {},
     "output_type": "display_data"
    },
    {
     "data": {
      "text/plain": [
       "<Figure size 432x288 with 0 Axes>"
      ]
     },
     "metadata": {},
     "output_type": "display_data"
    },
    {
     "data": {
      "text/plain": [
       "<Figure size 432x288 with 0 Axes>"
      ]
     },
     "metadata": {},
     "output_type": "display_data"
    },
    {
     "data": {
      "text/plain": [
       "<Figure size 432x288 with 0 Axes>"
      ]
     },
     "metadata": {},
     "output_type": "display_data"
    },
    {
     "data": {
      "text/plain": [
       "<Figure size 432x288 with 0 Axes>"
      ]
     },
     "metadata": {},
     "output_type": "display_data"
    },
    {
     "data": {
      "text/plain": [
       "<Figure size 432x288 with 0 Axes>"
      ]
     },
     "metadata": {},
     "output_type": "display_data"
    },
    {
     "data": {
      "text/plain": [
       "<Figure size 432x288 with 0 Axes>"
      ]
     },
     "metadata": {},
     "output_type": "display_data"
    },
    {
     "data": {
      "text/plain": [
       "<Figure size 432x288 with 0 Axes>"
      ]
     },
     "metadata": {},
     "output_type": "display_data"
    },
    {
     "data": {
      "text/plain": [
       "<Figure size 432x288 with 0 Axes>"
      ]
     },
     "metadata": {},
     "output_type": "display_data"
    },
    {
     "data": {
      "text/plain": [
       "<Figure size 432x288 with 0 Axes>"
      ]
     },
     "metadata": {},
     "output_type": "display_data"
    },
    {
     "data": {
      "text/plain": [
       "<Figure size 432x288 with 0 Axes>"
      ]
     },
     "metadata": {},
     "output_type": "display_data"
    },
    {
     "data": {
      "text/plain": [
       "<Figure size 432x288 with 0 Axes>"
      ]
     },
     "metadata": {},
     "output_type": "display_data"
    },
    {
     "data": {
      "text/plain": [
       "<Figure size 432x288 with 0 Axes>"
      ]
     },
     "metadata": {},
     "output_type": "display_data"
    },
    {
     "data": {
      "text/plain": [
       "<Figure size 432x288 with 0 Axes>"
      ]
     },
     "metadata": {},
     "output_type": "display_data"
    },
    {
     "data": {
      "text/plain": [
       "<Figure size 432x288 with 0 Axes>"
      ]
     },
     "metadata": {},
     "output_type": "display_data"
    },
    {
     "data": {
      "text/plain": [
       "<Figure size 432x288 with 0 Axes>"
      ]
     },
     "metadata": {},
     "output_type": "display_data"
    },
    {
     "data": {
      "text/plain": [
       "<Figure size 432x288 with 0 Axes>"
      ]
     },
     "metadata": {},
     "output_type": "display_data"
    },
    {
     "data": {
      "text/plain": [
       "<Figure size 432x288 with 0 Axes>"
      ]
     },
     "metadata": {},
     "output_type": "display_data"
    },
    {
     "data": {
      "text/plain": [
       "<Figure size 432x288 with 0 Axes>"
      ]
     },
     "metadata": {},
     "output_type": "display_data"
    },
    {
     "data": {
      "text/plain": [
       "<Figure size 432x288 with 0 Axes>"
      ]
     },
     "metadata": {},
     "output_type": "display_data"
    },
    {
     "data": {
      "text/plain": [
       "<Figure size 432x288 with 0 Axes>"
      ]
     },
     "metadata": {},
     "output_type": "display_data"
    },
    {
     "data": {
      "text/plain": [
       "<Figure size 432x288 with 0 Axes>"
      ]
     },
     "metadata": {},
     "output_type": "display_data"
    },
    {
     "data": {
      "text/plain": [
       "<Figure size 432x288 with 0 Axes>"
      ]
     },
     "metadata": {},
     "output_type": "display_data"
    },
    {
     "data": {
      "text/plain": [
       "<Figure size 432x288 with 0 Axes>"
      ]
     },
     "metadata": {},
     "output_type": "display_data"
    },
    {
     "data": {
      "text/plain": [
       "<Figure size 432x288 with 0 Axes>"
      ]
     },
     "metadata": {},
     "output_type": "display_data"
    },
    {
     "data": {
      "text/plain": [
       "<Figure size 432x288 with 0 Axes>"
      ]
     },
     "metadata": {},
     "output_type": "display_data"
    },
    {
     "data": {
      "text/plain": [
       "<Figure size 432x288 with 0 Axes>"
      ]
     },
     "metadata": {},
     "output_type": "display_data"
    },
    {
     "data": {
      "text/plain": [
       "<Figure size 432x288 with 0 Axes>"
      ]
     },
     "metadata": {},
     "output_type": "display_data"
    },
    {
     "data": {
      "text/plain": [
       "<Figure size 432x288 with 0 Axes>"
      ]
     },
     "metadata": {},
     "output_type": "display_data"
    },
    {
     "data": {
      "text/plain": [
       "<Figure size 432x288 with 0 Axes>"
      ]
     },
     "metadata": {},
     "output_type": "display_data"
    },
    {
     "data": {
      "text/plain": [
       "<Figure size 432x288 with 0 Axes>"
      ]
     },
     "metadata": {},
     "output_type": "display_data"
    },
    {
     "data": {
      "text/plain": [
       "<Figure size 432x288 with 0 Axes>"
      ]
     },
     "metadata": {},
     "output_type": "display_data"
    },
    {
     "data": {
      "text/plain": [
       "<Figure size 432x288 with 0 Axes>"
      ]
     },
     "metadata": {},
     "output_type": "display_data"
    },
    {
     "data": {
      "text/plain": [
       "<Figure size 432x288 with 0 Axes>"
      ]
     },
     "metadata": {},
     "output_type": "display_data"
    },
    {
     "data": {
      "text/plain": [
       "<Figure size 432x288 with 0 Axes>"
      ]
     },
     "metadata": {},
     "output_type": "display_data"
    },
    {
     "data": {
      "text/plain": [
       "<Figure size 432x288 with 0 Axes>"
      ]
     },
     "metadata": {},
     "output_type": "display_data"
    },
    {
     "data": {
      "text/plain": [
       "<Figure size 432x288 with 0 Axes>"
      ]
     },
     "metadata": {},
     "output_type": "display_data"
    },
    {
     "data": {
      "text/plain": [
       "<Figure size 432x288 with 0 Axes>"
      ]
     },
     "metadata": {},
     "output_type": "display_data"
    },
    {
     "data": {
      "text/plain": [
       "<Figure size 432x288 with 0 Axes>"
      ]
     },
     "metadata": {},
     "output_type": "display_data"
    },
    {
     "data": {
      "text/plain": [
       "<Figure size 432x288 with 0 Axes>"
      ]
     },
     "metadata": {},
     "output_type": "display_data"
    },
    {
     "data": {
      "text/plain": [
       "<Figure size 432x288 with 0 Axes>"
      ]
     },
     "metadata": {},
     "output_type": "display_data"
    },
    {
     "data": {
      "text/plain": [
       "<Figure size 432x288 with 0 Axes>"
      ]
     },
     "metadata": {},
     "output_type": "display_data"
    },
    {
     "data": {
      "text/plain": [
       "<Figure size 432x288 with 0 Axes>"
      ]
     },
     "metadata": {},
     "output_type": "display_data"
    },
    {
     "data": {
      "text/plain": [
       "<Figure size 432x288 with 0 Axes>"
      ]
     },
     "metadata": {},
     "output_type": "display_data"
    },
    {
     "data": {
      "text/plain": [
       "<Figure size 432x288 with 0 Axes>"
      ]
     },
     "metadata": {},
     "output_type": "display_data"
    },
    {
     "data": {
      "text/plain": [
       "<Figure size 432x288 with 0 Axes>"
      ]
     },
     "metadata": {},
     "output_type": "display_data"
    },
    {
     "data": {
      "text/plain": [
       "<Figure size 432x288 with 0 Axes>"
      ]
     },
     "metadata": {},
     "output_type": "display_data"
    },
    {
     "data": {
      "text/plain": [
       "<Figure size 432x288 with 0 Axes>"
      ]
     },
     "metadata": {},
     "output_type": "display_data"
    },
    {
     "data": {
      "text/plain": [
       "<Figure size 432x288 with 0 Axes>"
      ]
     },
     "metadata": {},
     "output_type": "display_data"
    },
    {
     "data": {
      "text/plain": [
       "<Figure size 432x288 with 0 Axes>"
      ]
     },
     "metadata": {},
     "output_type": "display_data"
    },
    {
     "data": {
      "text/plain": [
       "<Figure size 432x288 with 0 Axes>"
      ]
     },
     "metadata": {},
     "output_type": "display_data"
    },
    {
     "data": {
      "text/plain": [
       "<Figure size 432x288 with 0 Axes>"
      ]
     },
     "metadata": {},
     "output_type": "display_data"
    },
    {
     "data": {
      "text/plain": [
       "<Figure size 432x288 with 0 Axes>"
      ]
     },
     "metadata": {},
     "output_type": "display_data"
    },
    {
     "data": {
      "text/plain": [
       "<Figure size 432x288 with 0 Axes>"
      ]
     },
     "metadata": {},
     "output_type": "display_data"
    },
    {
     "data": {
      "text/plain": [
       "<Figure size 432x288 with 0 Axes>"
      ]
     },
     "metadata": {},
     "output_type": "display_data"
    },
    {
     "data": {
      "text/plain": [
       "<Figure size 432x288 with 0 Axes>"
      ]
     },
     "metadata": {},
     "output_type": "display_data"
    },
    {
     "data": {
      "text/plain": [
       "<Figure size 432x288 with 0 Axes>"
      ]
     },
     "metadata": {},
     "output_type": "display_data"
    },
    {
     "data": {
      "text/plain": [
       "<Figure size 432x288 with 0 Axes>"
      ]
     },
     "metadata": {},
     "output_type": "display_data"
    },
    {
     "data": {
      "text/plain": [
       "<Figure size 432x288 with 0 Axes>"
      ]
     },
     "metadata": {},
     "output_type": "display_data"
    },
    {
     "data": {
      "text/plain": [
       "<Figure size 432x288 with 0 Axes>"
      ]
     },
     "metadata": {},
     "output_type": "display_data"
    },
    {
     "data": {
      "text/plain": [
       "<Figure size 432x288 with 0 Axes>"
      ]
     },
     "metadata": {},
     "output_type": "display_data"
    },
    {
     "data": {
      "text/plain": [
       "<Figure size 432x288 with 0 Axes>"
      ]
     },
     "metadata": {},
     "output_type": "display_data"
    },
    {
     "data": {
      "text/plain": [
       "<Figure size 432x288 with 0 Axes>"
      ]
     },
     "metadata": {},
     "output_type": "display_data"
    },
    {
     "data": {
      "text/plain": [
       "<Figure size 432x288 with 0 Axes>"
      ]
     },
     "metadata": {},
     "output_type": "display_data"
    },
    {
     "data": {
      "text/plain": [
       "<Figure size 432x288 with 0 Axes>"
      ]
     },
     "metadata": {},
     "output_type": "display_data"
    },
    {
     "data": {
      "text/plain": [
       "<Figure size 432x288 with 0 Axes>"
      ]
     },
     "metadata": {},
     "output_type": "display_data"
    },
    {
     "data": {
      "text/plain": [
       "<Figure size 432x288 with 0 Axes>"
      ]
     },
     "metadata": {},
     "output_type": "display_data"
    },
    {
     "data": {
      "text/plain": [
       "<Figure size 432x288 with 0 Axes>"
      ]
     },
     "metadata": {},
     "output_type": "display_data"
    },
    {
     "data": {
      "text/plain": [
       "<Figure size 432x288 with 0 Axes>"
      ]
     },
     "metadata": {},
     "output_type": "display_data"
    },
    {
     "data": {
      "text/plain": [
       "<Figure size 432x288 with 0 Axes>"
      ]
     },
     "metadata": {},
     "output_type": "display_data"
    },
    {
     "data": {
      "text/plain": [
       "<Figure size 432x288 with 0 Axes>"
      ]
     },
     "metadata": {},
     "output_type": "display_data"
    },
    {
     "data": {
      "text/plain": [
       "<Figure size 432x288 with 0 Axes>"
      ]
     },
     "metadata": {},
     "output_type": "display_data"
    },
    {
     "data": {
      "text/plain": [
       "<Figure size 432x288 with 0 Axes>"
      ]
     },
     "metadata": {},
     "output_type": "display_data"
    },
    {
     "data": {
      "text/plain": [
       "<Figure size 432x288 with 0 Axes>"
      ]
     },
     "metadata": {},
     "output_type": "display_data"
    },
    {
     "data": {
      "text/plain": [
       "<Figure size 432x288 with 0 Axes>"
      ]
     },
     "metadata": {},
     "output_type": "display_data"
    },
    {
     "data": {
      "text/plain": [
       "<Figure size 432x288 with 0 Axes>"
      ]
     },
     "metadata": {},
     "output_type": "display_data"
    },
    {
     "data": {
      "text/plain": [
       "<Figure size 432x288 with 0 Axes>"
      ]
     },
     "metadata": {},
     "output_type": "display_data"
    },
    {
     "data": {
      "text/plain": [
       "<Figure size 432x288 with 0 Axes>"
      ]
     },
     "metadata": {},
     "output_type": "display_data"
    },
    {
     "data": {
      "text/plain": [
       "<Figure size 432x288 with 0 Axes>"
      ]
     },
     "metadata": {},
     "output_type": "display_data"
    },
    {
     "data": {
      "text/plain": [
       "<Figure size 432x288 with 0 Axes>"
      ]
     },
     "metadata": {},
     "output_type": "display_data"
    },
    {
     "data": {
      "text/plain": [
       "<Figure size 432x288 with 0 Axes>"
      ]
     },
     "metadata": {},
     "output_type": "display_data"
    },
    {
     "data": {
      "text/plain": [
       "<Figure size 432x288 with 0 Axes>"
      ]
     },
     "metadata": {},
     "output_type": "display_data"
    },
    {
     "data": {
      "text/plain": [
       "<Figure size 432x288 with 0 Axes>"
      ]
     },
     "metadata": {},
     "output_type": "display_data"
    },
    {
     "data": {
      "text/plain": [
       "<Figure size 432x288 with 0 Axes>"
      ]
     },
     "metadata": {},
     "output_type": "display_data"
    },
    {
     "data": {
      "text/plain": [
       "<Figure size 432x288 with 0 Axes>"
      ]
     },
     "metadata": {},
     "output_type": "display_data"
    },
    {
     "data": {
      "text/plain": [
       "<Figure size 432x288 with 0 Axes>"
      ]
     },
     "metadata": {},
     "output_type": "display_data"
    },
    {
     "data": {
      "text/plain": [
       "<Figure size 432x288 with 0 Axes>"
      ]
     },
     "metadata": {},
     "output_type": "display_data"
    },
    {
     "data": {
      "text/plain": [
       "<Figure size 432x288 with 0 Axes>"
      ]
     },
     "metadata": {},
     "output_type": "display_data"
    },
    {
     "data": {
      "text/plain": [
       "<Figure size 432x288 with 0 Axes>"
      ]
     },
     "metadata": {},
     "output_type": "display_data"
    },
    {
     "data": {
      "text/plain": [
       "<Figure size 432x288 with 0 Axes>"
      ]
     },
     "metadata": {},
     "output_type": "display_data"
    },
    {
     "data": {
      "text/plain": [
       "<Figure size 432x288 with 0 Axes>"
      ]
     },
     "metadata": {},
     "output_type": "display_data"
    },
    {
     "data": {
      "text/plain": [
       "<Figure size 432x288 with 0 Axes>"
      ]
     },
     "metadata": {},
     "output_type": "display_data"
    },
    {
     "data": {
      "text/plain": [
       "<Figure size 432x288 with 0 Axes>"
      ]
     },
     "metadata": {},
     "output_type": "display_data"
    },
    {
     "data": {
      "text/plain": [
       "<Figure size 432x288 with 0 Axes>"
      ]
     },
     "metadata": {},
     "output_type": "display_data"
    },
    {
     "data": {
      "text/plain": [
       "<Figure size 432x288 with 0 Axes>"
      ]
     },
     "metadata": {},
     "output_type": "display_data"
    },
    {
     "data": {
      "text/plain": [
       "<Figure size 432x288 with 0 Axes>"
      ]
     },
     "metadata": {},
     "output_type": "display_data"
    },
    {
     "data": {
      "text/plain": [
       "<Figure size 432x288 with 0 Axes>"
      ]
     },
     "metadata": {},
     "output_type": "display_data"
    },
    {
     "data": {
      "text/plain": [
       "<Figure size 432x288 with 0 Axes>"
      ]
     },
     "metadata": {},
     "output_type": "display_data"
    },
    {
     "data": {
      "text/plain": [
       "<Figure size 432x288 with 0 Axes>"
      ]
     },
     "metadata": {},
     "output_type": "display_data"
    },
    {
     "data": {
      "text/plain": [
       "<Figure size 432x288 with 0 Axes>"
      ]
     },
     "metadata": {},
     "output_type": "display_data"
    },
    {
     "data": {
      "text/plain": [
       "<Figure size 432x288 with 0 Axes>"
      ]
     },
     "metadata": {},
     "output_type": "display_data"
    },
    {
     "data": {
      "text/plain": [
       "<Figure size 432x288 with 0 Axes>"
      ]
     },
     "metadata": {},
     "output_type": "display_data"
    },
    {
     "data": {
      "text/plain": [
       "<Figure size 432x288 with 0 Axes>"
      ]
     },
     "metadata": {},
     "output_type": "display_data"
    },
    {
     "data": {
      "text/plain": [
       "<Figure size 432x288 with 0 Axes>"
      ]
     },
     "metadata": {},
     "output_type": "display_data"
    },
    {
     "data": {
      "text/plain": [
       "<Figure size 432x288 with 0 Axes>"
      ]
     },
     "metadata": {},
     "output_type": "display_data"
    },
    {
     "data": {
      "text/plain": [
       "<Figure size 432x288 with 0 Axes>"
      ]
     },
     "metadata": {},
     "output_type": "display_data"
    },
    {
     "data": {
      "text/plain": [
       "<Figure size 432x288 with 0 Axes>"
      ]
     },
     "metadata": {},
     "output_type": "display_data"
    },
    {
     "data": {
      "text/plain": [
       "<Figure size 432x288 with 0 Axes>"
      ]
     },
     "metadata": {},
     "output_type": "display_data"
    },
    {
     "data": {
      "text/plain": [
       "<Figure size 432x288 with 0 Axes>"
      ]
     },
     "metadata": {},
     "output_type": "display_data"
    },
    {
     "data": {
      "text/plain": [
       "<Figure size 432x288 with 0 Axes>"
      ]
     },
     "metadata": {},
     "output_type": "display_data"
    },
    {
     "data": {
      "text/plain": [
       "<Figure size 432x288 with 0 Axes>"
      ]
     },
     "metadata": {},
     "output_type": "display_data"
    },
    {
     "data": {
      "text/plain": [
       "<Figure size 432x288 with 0 Axes>"
      ]
     },
     "metadata": {},
     "output_type": "display_data"
    },
    {
     "data": {
      "text/plain": [
       "<Figure size 432x288 with 0 Axes>"
      ]
     },
     "metadata": {},
     "output_type": "display_data"
    },
    {
     "data": {
      "text/plain": [
       "<Figure size 432x288 with 0 Axes>"
      ]
     },
     "metadata": {},
     "output_type": "display_data"
    },
    {
     "data": {
      "text/plain": [
       "<Figure size 432x288 with 0 Axes>"
      ]
     },
     "metadata": {},
     "output_type": "display_data"
    },
    {
     "data": {
      "text/plain": [
       "<Figure size 432x288 with 0 Axes>"
      ]
     },
     "metadata": {},
     "output_type": "display_data"
    },
    {
     "data": {
      "text/plain": [
       "<Figure size 432x288 with 0 Axes>"
      ]
     },
     "metadata": {},
     "output_type": "display_data"
    },
    {
     "data": {
      "text/plain": [
       "<Figure size 432x288 with 0 Axes>"
      ]
     },
     "metadata": {},
     "output_type": "display_data"
    },
    {
     "data": {
      "text/plain": [
       "<Figure size 432x288 with 0 Axes>"
      ]
     },
     "metadata": {},
     "output_type": "display_data"
    },
    {
     "data": {
      "text/plain": [
       "<Figure size 432x288 with 0 Axes>"
      ]
     },
     "metadata": {},
     "output_type": "display_data"
    },
    {
     "data": {
      "text/plain": [
       "<Figure size 432x288 with 0 Axes>"
      ]
     },
     "metadata": {},
     "output_type": "display_data"
    },
    {
     "data": {
      "text/plain": [
       "<Figure size 432x288 with 0 Axes>"
      ]
     },
     "metadata": {},
     "output_type": "display_data"
    },
    {
     "data": {
      "text/plain": [
       "<Figure size 432x288 with 0 Axes>"
      ]
     },
     "metadata": {},
     "output_type": "display_data"
    },
    {
     "data": {
      "text/plain": [
       "<Figure size 432x288 with 0 Axes>"
      ]
     },
     "metadata": {},
     "output_type": "display_data"
    },
    {
     "data": {
      "text/plain": [
       "<Figure size 432x288 with 0 Axes>"
      ]
     },
     "metadata": {},
     "output_type": "display_data"
    },
    {
     "data": {
      "text/plain": [
       "<Figure size 432x288 with 0 Axes>"
      ]
     },
     "metadata": {},
     "output_type": "display_data"
    },
    {
     "data": {
      "text/plain": [
       "<Figure size 432x288 with 0 Axes>"
      ]
     },
     "metadata": {},
     "output_type": "display_data"
    },
    {
     "data": {
      "text/plain": [
       "<Figure size 432x288 with 0 Axes>"
      ]
     },
     "metadata": {},
     "output_type": "display_data"
    },
    {
     "data": {
      "text/plain": [
       "<Figure size 432x288 with 0 Axes>"
      ]
     },
     "metadata": {},
     "output_type": "display_data"
    },
    {
     "data": {
      "text/plain": [
       "<Figure size 432x288 with 0 Axes>"
      ]
     },
     "metadata": {},
     "output_type": "display_data"
    },
    {
     "data": {
      "text/plain": [
       "<Figure size 432x288 with 0 Axes>"
      ]
     },
     "metadata": {},
     "output_type": "display_data"
    },
    {
     "data": {
      "text/plain": [
       "<Figure size 432x288 with 0 Axes>"
      ]
     },
     "metadata": {},
     "output_type": "display_data"
    },
    {
     "data": {
      "text/plain": [
       "<Figure size 432x288 with 0 Axes>"
      ]
     },
     "metadata": {},
     "output_type": "display_data"
    },
    {
     "data": {
      "text/plain": [
       "<Figure size 432x288 with 0 Axes>"
      ]
     },
     "metadata": {},
     "output_type": "display_data"
    },
    {
     "data": {
      "text/plain": [
       "<Figure size 432x288 with 0 Axes>"
      ]
     },
     "metadata": {},
     "output_type": "display_data"
    },
    {
     "data": {
      "text/plain": [
       "<Figure size 432x288 with 0 Axes>"
      ]
     },
     "metadata": {},
     "output_type": "display_data"
    },
    {
     "data": {
      "text/plain": [
       "<Figure size 432x288 with 0 Axes>"
      ]
     },
     "metadata": {},
     "output_type": "display_data"
    },
    {
     "data": {
      "text/plain": [
       "<Figure size 432x288 with 0 Axes>"
      ]
     },
     "metadata": {},
     "output_type": "display_data"
    },
    {
     "data": {
      "text/plain": [
       "<Figure size 432x288 with 0 Axes>"
      ]
     },
     "metadata": {},
     "output_type": "display_data"
    },
    {
     "data": {
      "text/plain": [
       "<Figure size 432x288 with 0 Axes>"
      ]
     },
     "metadata": {},
     "output_type": "display_data"
    },
    {
     "data": {
      "text/plain": [
       "<Figure size 432x288 with 0 Axes>"
      ]
     },
     "metadata": {},
     "output_type": "display_data"
    },
    {
     "data": {
      "text/plain": [
       "<Figure size 432x288 with 0 Axes>"
      ]
     },
     "metadata": {},
     "output_type": "display_data"
    },
    {
     "data": {
      "text/plain": [
       "<Figure size 432x288 with 0 Axes>"
      ]
     },
     "metadata": {},
     "output_type": "display_data"
    },
    {
     "data": {
      "text/plain": [
       "<Figure size 432x288 with 0 Axes>"
      ]
     },
     "metadata": {},
     "output_type": "display_data"
    },
    {
     "data": {
      "text/plain": [
       "<Figure size 432x288 with 0 Axes>"
      ]
     },
     "metadata": {},
     "output_type": "display_data"
    },
    {
     "data": {
      "text/plain": [
       "<Figure size 432x288 with 0 Axes>"
      ]
     },
     "metadata": {},
     "output_type": "display_data"
    },
    {
     "data": {
      "text/plain": [
       "<Figure size 432x288 with 0 Axes>"
      ]
     },
     "metadata": {},
     "output_type": "display_data"
    },
    {
     "data": {
      "text/plain": [
       "<Figure size 432x288 with 0 Axes>"
      ]
     },
     "metadata": {},
     "output_type": "display_data"
    },
    {
     "data": {
      "text/plain": [
       "<Figure size 432x288 with 0 Axes>"
      ]
     },
     "metadata": {},
     "output_type": "display_data"
    },
    {
     "data": {
      "text/plain": [
       "<Figure size 432x288 with 0 Axes>"
      ]
     },
     "metadata": {},
     "output_type": "display_data"
    },
    {
     "data": {
      "text/plain": [
       "<Figure size 432x288 with 0 Axes>"
      ]
     },
     "metadata": {},
     "output_type": "display_data"
    },
    {
     "data": {
      "text/plain": [
       "<Figure size 432x288 with 0 Axes>"
      ]
     },
     "metadata": {},
     "output_type": "display_data"
    },
    {
     "data": {
      "text/plain": [
       "<Figure size 432x288 with 0 Axes>"
      ]
     },
     "metadata": {},
     "output_type": "display_data"
    },
    {
     "data": {
      "text/plain": [
       "<Figure size 432x288 with 0 Axes>"
      ]
     },
     "metadata": {},
     "output_type": "display_data"
    },
    {
     "data": {
      "text/plain": [
       "<Figure size 432x288 with 0 Axes>"
      ]
     },
     "metadata": {},
     "output_type": "display_data"
    },
    {
     "data": {
      "text/plain": [
       "<Figure size 432x288 with 0 Axes>"
      ]
     },
     "metadata": {},
     "output_type": "display_data"
    },
    {
     "data": {
      "text/plain": [
       "<Figure size 432x288 with 0 Axes>"
      ]
     },
     "metadata": {},
     "output_type": "display_data"
    },
    {
     "data": {
      "text/plain": [
       "<Figure size 432x288 with 0 Axes>"
      ]
     },
     "metadata": {},
     "output_type": "display_data"
    },
    {
     "data": {
      "text/plain": [
       "<Figure size 432x288 with 0 Axes>"
      ]
     },
     "metadata": {},
     "output_type": "display_data"
    },
    {
     "data": {
      "text/plain": [
       "<Figure size 432x288 with 0 Axes>"
      ]
     },
     "metadata": {},
     "output_type": "display_data"
    },
    {
     "data": {
      "text/plain": [
       "<Figure size 432x288 with 0 Axes>"
      ]
     },
     "metadata": {},
     "output_type": "display_data"
    },
    {
     "data": {
      "text/plain": [
       "<Figure size 432x288 with 0 Axes>"
      ]
     },
     "metadata": {},
     "output_type": "display_data"
    },
    {
     "data": {
      "text/plain": [
       "<Figure size 432x288 with 0 Axes>"
      ]
     },
     "metadata": {},
     "output_type": "display_data"
    },
    {
     "data": {
      "text/plain": [
       "<Figure size 432x288 with 0 Axes>"
      ]
     },
     "metadata": {},
     "output_type": "display_data"
    },
    {
     "data": {
      "text/plain": [
       "<Figure size 432x288 with 0 Axes>"
      ]
     },
     "metadata": {},
     "output_type": "display_data"
    },
    {
     "data": {
      "text/plain": [
       "<Figure size 432x288 with 0 Axes>"
      ]
     },
     "metadata": {},
     "output_type": "display_data"
    },
    {
     "data": {
      "text/plain": [
       "<Figure size 432x288 with 0 Axes>"
      ]
     },
     "metadata": {},
     "output_type": "display_data"
    },
    {
     "data": {
      "text/plain": [
       "<Figure size 432x288 with 0 Axes>"
      ]
     },
     "metadata": {},
     "output_type": "display_data"
    },
    {
     "data": {
      "text/plain": [
       "<Figure size 432x288 with 0 Axes>"
      ]
     },
     "metadata": {},
     "output_type": "display_data"
    },
    {
     "data": {
      "text/plain": [
       "<Figure size 432x288 with 0 Axes>"
      ]
     },
     "metadata": {},
     "output_type": "display_data"
    },
    {
     "data": {
      "text/plain": [
       "<Figure size 432x288 with 0 Axes>"
      ]
     },
     "metadata": {},
     "output_type": "display_data"
    },
    {
     "data": {
      "text/plain": [
       "<Figure size 432x288 with 0 Axes>"
      ]
     },
     "metadata": {},
     "output_type": "display_data"
    },
    {
     "data": {
      "text/plain": [
       "<Figure size 432x288 with 0 Axes>"
      ]
     },
     "metadata": {},
     "output_type": "display_data"
    },
    {
     "data": {
      "text/plain": [
       "<Figure size 432x288 with 0 Axes>"
      ]
     },
     "metadata": {},
     "output_type": "display_data"
    },
    {
     "data": {
      "text/plain": [
       "<Figure size 432x288 with 0 Axes>"
      ]
     },
     "metadata": {},
     "output_type": "display_data"
    },
    {
     "data": {
      "text/plain": [
       "<Figure size 432x288 with 0 Axes>"
      ]
     },
     "metadata": {},
     "output_type": "display_data"
    },
    {
     "data": {
      "text/plain": [
       "<Figure size 432x288 with 0 Axes>"
      ]
     },
     "metadata": {},
     "output_type": "display_data"
    },
    {
     "data": {
      "text/plain": [
       "<Figure size 432x288 with 0 Axes>"
      ]
     },
     "metadata": {},
     "output_type": "display_data"
    },
    {
     "data": {
      "text/plain": [
       "<Figure size 432x288 with 0 Axes>"
      ]
     },
     "metadata": {},
     "output_type": "display_data"
    },
    {
     "data": {
      "text/plain": [
       "<Figure size 432x288 with 0 Axes>"
      ]
     },
     "metadata": {},
     "output_type": "display_data"
    },
    {
     "data": {
      "text/plain": [
       "<Figure size 432x288 with 0 Axes>"
      ]
     },
     "metadata": {},
     "output_type": "display_data"
    },
    {
     "data": {
      "text/plain": [
       "<Figure size 432x288 with 0 Axes>"
      ]
     },
     "metadata": {},
     "output_type": "display_data"
    },
    {
     "data": {
      "text/plain": [
       "<Figure size 432x288 with 0 Axes>"
      ]
     },
     "metadata": {},
     "output_type": "display_data"
    },
    {
     "data": {
      "text/plain": [
       "<Figure size 432x288 with 0 Axes>"
      ]
     },
     "metadata": {},
     "output_type": "display_data"
    },
    {
     "data": {
      "text/plain": [
       "<Figure size 432x288 with 0 Axes>"
      ]
     },
     "metadata": {},
     "output_type": "display_data"
    },
    {
     "data": {
      "text/plain": [
       "<Figure size 432x288 with 0 Axes>"
      ]
     },
     "metadata": {},
     "output_type": "display_data"
    },
    {
     "data": {
      "text/plain": [
       "<Figure size 432x288 with 0 Axes>"
      ]
     },
     "metadata": {},
     "output_type": "display_data"
    },
    {
     "data": {
      "text/plain": [
       "<Figure size 432x288 with 0 Axes>"
      ]
     },
     "metadata": {},
     "output_type": "display_data"
    },
    {
     "data": {
      "text/plain": [
       "<Figure size 432x288 with 0 Axes>"
      ]
     },
     "metadata": {},
     "output_type": "display_data"
    },
    {
     "data": {
      "text/plain": [
       "<Figure size 432x288 with 0 Axes>"
      ]
     },
     "metadata": {},
     "output_type": "display_data"
    },
    {
     "data": {
      "text/plain": [
       "<Figure size 432x288 with 0 Axes>"
      ]
     },
     "metadata": {},
     "output_type": "display_data"
    },
    {
     "data": {
      "text/plain": [
       "<Figure size 432x288 with 0 Axes>"
      ]
     },
     "metadata": {},
     "output_type": "display_data"
    },
    {
     "data": {
      "text/plain": [
       "<Figure size 432x288 with 0 Axes>"
      ]
     },
     "metadata": {},
     "output_type": "display_data"
    },
    {
     "data": {
      "text/plain": [
       "<Figure size 432x288 with 0 Axes>"
      ]
     },
     "metadata": {},
     "output_type": "display_data"
    },
    {
     "data": {
      "text/plain": [
       "<Figure size 432x288 with 0 Axes>"
      ]
     },
     "metadata": {},
     "output_type": "display_data"
    },
    {
     "data": {
      "text/plain": [
       "<Figure size 432x288 with 0 Axes>"
      ]
     },
     "metadata": {},
     "output_type": "display_data"
    },
    {
     "data": {
      "text/plain": [
       "<Figure size 432x288 with 0 Axes>"
      ]
     },
     "metadata": {},
     "output_type": "display_data"
    },
    {
     "data": {
      "text/plain": [
       "<Figure size 432x288 with 0 Axes>"
      ]
     },
     "metadata": {},
     "output_type": "display_data"
    },
    {
     "data": {
      "text/plain": [
       "<Figure size 432x288 with 0 Axes>"
      ]
     },
     "metadata": {},
     "output_type": "display_data"
    },
    {
     "data": {
      "text/plain": [
       "<Figure size 432x288 with 0 Axes>"
      ]
     },
     "metadata": {},
     "output_type": "display_data"
    },
    {
     "data": {
      "text/plain": [
       "<Figure size 432x288 with 0 Axes>"
      ]
     },
     "metadata": {},
     "output_type": "display_data"
    },
    {
     "data": {
      "text/plain": [
       "<Figure size 432x288 with 0 Axes>"
      ]
     },
     "metadata": {},
     "output_type": "display_data"
    },
    {
     "data": {
      "text/plain": [
       "<Figure size 432x288 with 0 Axes>"
      ]
     },
     "metadata": {},
     "output_type": "display_data"
    },
    {
     "data": {
      "text/plain": [
       "<Figure size 432x288 with 0 Axes>"
      ]
     },
     "metadata": {},
     "output_type": "display_data"
    },
    {
     "data": {
      "text/plain": [
       "<Figure size 432x288 with 0 Axes>"
      ]
     },
     "metadata": {},
     "output_type": "display_data"
    },
    {
     "data": {
      "text/plain": [
       "<Figure size 432x288 with 0 Axes>"
      ]
     },
     "metadata": {},
     "output_type": "display_data"
    },
    {
     "data": {
      "text/plain": [
       "<Figure size 432x288 with 0 Axes>"
      ]
     },
     "metadata": {},
     "output_type": "display_data"
    },
    {
     "data": {
      "text/plain": [
       "<Figure size 432x288 with 0 Axes>"
      ]
     },
     "metadata": {},
     "output_type": "display_data"
    },
    {
     "data": {
      "text/plain": [
       "<Figure size 432x288 with 0 Axes>"
      ]
     },
     "metadata": {},
     "output_type": "display_data"
    },
    {
     "data": {
      "text/plain": [
       "<Figure size 432x288 with 0 Axes>"
      ]
     },
     "metadata": {},
     "output_type": "display_data"
    },
    {
     "data": {
      "text/plain": [
       "<Figure size 432x288 with 0 Axes>"
      ]
     },
     "metadata": {},
     "output_type": "display_data"
    },
    {
     "data": {
      "text/plain": [
       "<Figure size 432x288 with 0 Axes>"
      ]
     },
     "metadata": {},
     "output_type": "display_data"
    },
    {
     "data": {
      "text/plain": [
       "<Figure size 432x288 with 0 Axes>"
      ]
     },
     "metadata": {},
     "output_type": "display_data"
    },
    {
     "data": {
      "text/plain": [
       "<Figure size 432x288 with 0 Axes>"
      ]
     },
     "metadata": {},
     "output_type": "display_data"
    },
    {
     "data": {
      "text/plain": [
       "<Figure size 432x288 with 0 Axes>"
      ]
     },
     "metadata": {},
     "output_type": "display_data"
    },
    {
     "data": {
      "text/plain": [
       "<Figure size 432x288 with 0 Axes>"
      ]
     },
     "metadata": {},
     "output_type": "display_data"
    },
    {
     "data": {
      "text/plain": [
       "<Figure size 432x288 with 0 Axes>"
      ]
     },
     "metadata": {},
     "output_type": "display_data"
    },
    {
     "data": {
      "text/plain": [
       "<Figure size 432x288 with 0 Axes>"
      ]
     },
     "metadata": {},
     "output_type": "display_data"
    },
    {
     "data": {
      "text/plain": [
       "<Figure size 432x288 with 0 Axes>"
      ]
     },
     "metadata": {},
     "output_type": "display_data"
    },
    {
     "data": {
      "text/plain": [
       "<Figure size 432x288 with 0 Axes>"
      ]
     },
     "metadata": {},
     "output_type": "display_data"
    },
    {
     "data": {
      "text/plain": [
       "<Figure size 432x288 with 0 Axes>"
      ]
     },
     "metadata": {},
     "output_type": "display_data"
    },
    {
     "data": {
      "text/plain": [
       "<Figure size 432x288 with 0 Axes>"
      ]
     },
     "metadata": {},
     "output_type": "display_data"
    },
    {
     "data": {
      "text/plain": [
       "<Figure size 432x288 with 0 Axes>"
      ]
     },
     "metadata": {},
     "output_type": "display_data"
    },
    {
     "data": {
      "text/plain": [
       "<Figure size 432x288 with 0 Axes>"
      ]
     },
     "metadata": {},
     "output_type": "display_data"
    },
    {
     "data": {
      "text/plain": [
       "<Figure size 432x288 with 0 Axes>"
      ]
     },
     "metadata": {},
     "output_type": "display_data"
    },
    {
     "data": {
      "text/plain": [
       "<Figure size 432x288 with 0 Axes>"
      ]
     },
     "metadata": {},
     "output_type": "display_data"
    },
    {
     "data": {
      "text/plain": [
       "<Figure size 432x288 with 0 Axes>"
      ]
     },
     "metadata": {},
     "output_type": "display_data"
    },
    {
     "data": {
      "text/plain": [
       "<Figure size 432x288 with 0 Axes>"
      ]
     },
     "metadata": {},
     "output_type": "display_data"
    },
    {
     "data": {
      "text/plain": [
       "<Figure size 432x288 with 0 Axes>"
      ]
     },
     "metadata": {},
     "output_type": "display_data"
    },
    {
     "data": {
      "text/plain": [
       "<Figure size 432x288 with 0 Axes>"
      ]
     },
     "metadata": {},
     "output_type": "display_data"
    },
    {
     "data": {
      "text/plain": [
       "<Figure size 432x288 with 0 Axes>"
      ]
     },
     "metadata": {},
     "output_type": "display_data"
    },
    {
     "data": {
      "text/plain": [
       "<Figure size 432x288 with 0 Axes>"
      ]
     },
     "metadata": {},
     "output_type": "display_data"
    },
    {
     "data": {
      "text/plain": [
       "<Figure size 432x288 with 0 Axes>"
      ]
     },
     "metadata": {},
     "output_type": "display_data"
    },
    {
     "data": {
      "text/plain": [
       "<Figure size 432x288 with 0 Axes>"
      ]
     },
     "metadata": {},
     "output_type": "display_data"
    },
    {
     "data": {
      "text/plain": [
       "<Figure size 432x288 with 0 Axes>"
      ]
     },
     "metadata": {},
     "output_type": "display_data"
    },
    {
     "data": {
      "text/plain": [
       "<Figure size 432x288 with 0 Axes>"
      ]
     },
     "metadata": {},
     "output_type": "display_data"
    },
    {
     "data": {
      "text/plain": [
       "<Figure size 432x288 with 0 Axes>"
      ]
     },
     "metadata": {},
     "output_type": "display_data"
    },
    {
     "data": {
      "text/plain": [
       "<Figure size 432x288 with 0 Axes>"
      ]
     },
     "metadata": {},
     "output_type": "display_data"
    },
    {
     "data": {
      "text/plain": [
       "<Figure size 432x288 with 0 Axes>"
      ]
     },
     "metadata": {},
     "output_type": "display_data"
    },
    {
     "data": {
      "text/plain": [
       "<Figure size 432x288 with 0 Axes>"
      ]
     },
     "metadata": {},
     "output_type": "display_data"
    },
    {
     "data": {
      "text/plain": [
       "<Figure size 432x288 with 0 Axes>"
      ]
     },
     "metadata": {},
     "output_type": "display_data"
    },
    {
     "data": {
      "text/plain": [
       "<Figure size 432x288 with 0 Axes>"
      ]
     },
     "metadata": {},
     "output_type": "display_data"
    },
    {
     "data": {
      "text/plain": [
       "<Figure size 432x288 with 0 Axes>"
      ]
     },
     "metadata": {},
     "output_type": "display_data"
    },
    {
     "ename": "KeyboardInterrupt",
     "evalue": "",
     "output_type": "error",
     "traceback": [
      "\u001b[0;31m---------------------------------------------------------------------------\u001b[0m",
      "\u001b[0;31mKeyboardInterrupt\u001b[0m                         Traceback (most recent call last)",
      "\u001b[0;32m/tmp/ipykernel_488885/1882955391.py\u001b[0m in \u001b[0;36m<module>\u001b[0;34m\u001b[0m\n\u001b[1;32m      1\u001b[0m \u001b[0;31m# Example usage\u001b[0m\u001b[0;34m\u001b[0m\u001b[0;34m\u001b[0m\u001b[0m\n\u001b[1;32m      2\u001b[0m \u001b[0mdirectory\u001b[0m \u001b[0;34m=\u001b[0m \u001b[0moutput_directory\u001b[0m\u001b[0;34m\u001b[0m\u001b[0;34m\u001b[0m\u001b[0m\n\u001b[0;32m----> 3\u001b[0;31m \u001b[0mvisualize_tiff_slideshow\u001b[0m\u001b[0;34m(\u001b[0m\u001b[0mdirectory\u001b[0m\u001b[0;34m,\u001b[0m \u001b[0mdelay\u001b[0m\u001b[0;34m=\u001b[0m\u001b[0;36m2\u001b[0m\u001b[0;34m)\u001b[0m\u001b[0;34m\u001b[0m\u001b[0;34m\u001b[0m\u001b[0m\n\u001b[0m",
      "\u001b[0;32m/tmp/ipykernel_488885/1039690854.py\u001b[0m in \u001b[0;36mvisualize_tiff_slideshow\u001b[0;34m(directory, delay)\u001b[0m\n\u001b[1;32m     34\u001b[0m         \u001b[0;31m# Draw the figure and pause for the delay\u001b[0m\u001b[0;34m\u001b[0m\u001b[0;34m\u001b[0m\u001b[0m\n\u001b[1;32m     35\u001b[0m         \u001b[0mplt\u001b[0m\u001b[0;34m.\u001b[0m\u001b[0mdraw\u001b[0m\u001b[0;34m(\u001b[0m\u001b[0;34m)\u001b[0m\u001b[0;34m\u001b[0m\u001b[0;34m\u001b[0m\u001b[0m\n\u001b[0;32m---> 36\u001b[0;31m         \u001b[0mplt\u001b[0m\u001b[0;34m.\u001b[0m\u001b[0mpause\u001b[0m\u001b[0;34m(\u001b[0m\u001b[0mdelay\u001b[0m\u001b[0;34m)\u001b[0m  \u001b[0;31m# Wait before displaying the next image\u001b[0m\u001b[0;34m\u001b[0m\u001b[0;34m\u001b[0m\u001b[0m\n\u001b[0m\u001b[1;32m     37\u001b[0m \u001b[0;34m\u001b[0m\u001b[0m\n\u001b[1;32m     38\u001b[0m     \u001b[0;31m# Turn off interactive mode and keep the last image displayed\u001b[0m\u001b[0;34m\u001b[0m\u001b[0;34m\u001b[0m\u001b[0m\n",
      "\u001b[0;32m~/conda_envs/general-data/lib/python3.9/site-packages/matplotlib/pyplot.py\u001b[0m in \u001b[0;36mpause\u001b[0;34m(interval)\u001b[0m\n\u001b[1;32m    580\u001b[0m             \u001b[0mcanvas\u001b[0m\u001b[0;34m.\u001b[0m\u001b[0mdraw_idle\u001b[0m\u001b[0;34m(\u001b[0m\u001b[0;34m)\u001b[0m\u001b[0;34m\u001b[0m\u001b[0;34m\u001b[0m\u001b[0m\n\u001b[1;32m    581\u001b[0m         \u001b[0mshow\u001b[0m\u001b[0;34m(\u001b[0m\u001b[0mblock\u001b[0m\u001b[0;34m=\u001b[0m\u001b[0;32mFalse\u001b[0m\u001b[0;34m)\u001b[0m\u001b[0;34m\u001b[0m\u001b[0;34m\u001b[0m\u001b[0m\n\u001b[0;32m--> 582\u001b[0;31m         \u001b[0mcanvas\u001b[0m\u001b[0;34m.\u001b[0m\u001b[0mstart_event_loop\u001b[0m\u001b[0;34m(\u001b[0m\u001b[0minterval\u001b[0m\u001b[0;34m)\u001b[0m\u001b[0;34m\u001b[0m\u001b[0;34m\u001b[0m\u001b[0m\n\u001b[0m\u001b[1;32m    583\u001b[0m     \u001b[0;32melse\u001b[0m\u001b[0;34m:\u001b[0m\u001b[0;34m\u001b[0m\u001b[0;34m\u001b[0m\u001b[0m\n\u001b[1;32m    584\u001b[0m         \u001b[0mtime\u001b[0m\u001b[0;34m.\u001b[0m\u001b[0msleep\u001b[0m\u001b[0;34m(\u001b[0m\u001b[0minterval\u001b[0m\u001b[0;34m)\u001b[0m\u001b[0;34m\u001b[0m\u001b[0;34m\u001b[0m\u001b[0m\n",
      "\u001b[0;32m~/conda_envs/general-data/lib/python3.9/site-packages/matplotlib/backend_bases.py\u001b[0m in \u001b[0;36mstart_event_loop\u001b[0;34m(self, timeout)\u001b[0m\n\u001b[1;32m   2551\u001b[0m         \u001b[0;32mwhile\u001b[0m \u001b[0mself\u001b[0m\u001b[0;34m.\u001b[0m\u001b[0m_looping\u001b[0m \u001b[0;32mand\u001b[0m \u001b[0mcounter\u001b[0m \u001b[0;34m*\u001b[0m \u001b[0mtimestep\u001b[0m \u001b[0;34m<\u001b[0m \u001b[0mtimeout\u001b[0m\u001b[0;34m:\u001b[0m\u001b[0;34m\u001b[0m\u001b[0;34m\u001b[0m\u001b[0m\n\u001b[1;32m   2552\u001b[0m             \u001b[0mself\u001b[0m\u001b[0;34m.\u001b[0m\u001b[0mflush_events\u001b[0m\u001b[0;34m(\u001b[0m\u001b[0;34m)\u001b[0m\u001b[0;34m\u001b[0m\u001b[0;34m\u001b[0m\u001b[0m\n\u001b[0;32m-> 2553\u001b[0;31m             \u001b[0mtime\u001b[0m\u001b[0;34m.\u001b[0m\u001b[0msleep\u001b[0m\u001b[0;34m(\u001b[0m\u001b[0mtimestep\u001b[0m\u001b[0;34m)\u001b[0m\u001b[0;34m\u001b[0m\u001b[0;34m\u001b[0m\u001b[0m\n\u001b[0m\u001b[1;32m   2554\u001b[0m             \u001b[0mcounter\u001b[0m \u001b[0;34m+=\u001b[0m \u001b[0;36m1\u001b[0m\u001b[0;34m\u001b[0m\u001b[0;34m\u001b[0m\u001b[0m\n\u001b[1;32m   2555\u001b[0m \u001b[0;34m\u001b[0m\u001b[0m\n",
      "\u001b[0;31mKeyboardInterrupt\u001b[0m: "
     ]
    }
   ],
   "source": [
    "# Example usage\n",
    "directory = output_directory\n",
    "visualize_tiff_slideshow(directory, delay=2) "
   ]
  },
  {
   "cell_type": "code",
   "execution_count": 10,
   "metadata": {},
   "outputs": [
    {
     "data": {
      "text/html": [
       "\n",
       "        <iframe\n",
       "            width=\"100%\"\n",
       "            height=\"650\"\n",
       "            src=\"http://127.0.0.1:8050/\"\n",
       "            frameborder=\"0\"\n",
       "            allowfullscreen\n",
       "            \n",
       "        ></iframe>\n",
       "        "
      ],
      "text/plain": [
       "<IPython.lib.display.IFrame at 0x7f3cda28fa90>"
      ]
     },
     "metadata": {},
     "output_type": "display_data"
    }
   ],
   "source": [
    "import dash\n",
    "from dash import html\n",
    "\n",
    "# Simple Dash app to test functionality\n",
    "app = dash.Dash(__name__)\n",
    "\n",
    "app.layout = html.Div([\n",
    "    html.H1(\"Hello Dash!\"),\n",
    "    html.P(\"This is a test of Dash running in external mode from VSCode.\")\n",
    "])\n",
    "\n",
    "app.run_server(mode='external', debug=True)"
   ]
  }
 ],
 "metadata": {
  "kernelspec": {
   "display_name": "general-data",
   "language": "python",
   "name": "python3"
  },
  "language_info": {
   "codemirror_mode": {
    "name": "ipython",
    "version": 3
   },
   "file_extension": ".py",
   "mimetype": "text/x-python",
   "name": "python",
   "nbconvert_exporter": "python",
   "pygments_lexer": "ipython3",
   "version": "3.9.7"
  }
 },
 "nbformat": 4,
 "nbformat_minor": 2
}
